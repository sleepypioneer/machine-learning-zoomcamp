{
 "cells": [
  {
   "cell_type": "markdown",
   "id": "51f0c05b",
   "metadata": {},
   "source": [
    "# Week Four: Evaluation Metrics for Classification\n",
    "\n",
    "Starting with the same model from last week (for churn prediction) we will focus on evaluation metrics."
   ]
  },
  {
   "cell_type": "code",
   "execution_count": 86,
   "id": "cf30b8d0",
   "metadata": {},
   "outputs": [],
   "source": [
    "import pandas as pd\n",
    "import numpy as np\n",
    "\n",
    "pd.options.display.max_colwidth = 999\n",
    "pd.options.display.max_rows = 999\n",
    "\n",
    "from sklearn.linear_model import LogisticRegression\n",
    "from sklearn.model_selection import train_test_split\n",
    "import matplotlib.pyplot as plt\n",
    "import seaborn as sns\n",
    "\n",
    "from sklearn.feature_extraction import DictVectorizer\n",
    "from sklearn.metrics import mutual_info_score\n",
    "\n",
    "import warnings\n",
    "warnings.filterwarnings('ignore')\n",
    "\n",
    "%matplotlib inline"
   ]
  },
  {
   "cell_type": "markdown",
   "id": "becdce78",
   "metadata": {},
   "source": [
    "### Data import and prep"
   ]
  },
  {
   "cell_type": "code",
   "execution_count": 2,
   "id": "d282f626",
   "metadata": {},
   "outputs": [],
   "source": [
    "customer_data = pd.read_csv('data/telco_customer_churn/WA_Fn-UseC_-Telco-Customer-Churn.csv')"
   ]
  },
  {
   "cell_type": "code",
   "execution_count": 3,
   "id": "c9d3e229",
   "metadata": {},
   "outputs": [],
   "source": [
    "customer_data.columns = customer_data.columns.str.lower().str.replace(' ', '_')\n",
    "\n",
    "categorical_columns = list(customer_data.dtypes[customer_data.dtypes == 'object'].index)\n",
    "\n",
    "for c in categorical_columns:\n",
    "    customer_data[c] = customer_data[c].str.lower().str.replace(' ', '_')"
   ]
  },
  {
   "cell_type": "code",
   "execution_count": 4,
   "id": "3c1070e3",
   "metadata": {},
   "outputs": [],
   "source": [
    "customer_data['totalcharges'] = pd.to_numeric(customer_data['totalcharges'], errors='coerce') "
   ]
  },
  {
   "cell_type": "code",
   "execution_count": 5,
   "id": "18d11b21",
   "metadata": {},
   "outputs": [],
   "source": [
    "customer_data['totalcharges'] = customer_data['totalcharges'].fillna(0) # filling missing values may not be the best approach"
   ]
  },
  {
   "cell_type": "code",
   "execution_count": 6,
   "id": "f6596924",
   "metadata": {},
   "outputs": [],
   "source": [
    "customer_data['churn'] = (customer_data['churn'] == 'yes').astype(int)"
   ]
  },
  {
   "cell_type": "code",
   "execution_count": 7,
   "id": "c10ee35e",
   "metadata": {},
   "outputs": [
    {
     "data": {
      "text/plain": [
       "(4225, 1409, 1409)"
      ]
     },
     "execution_count": 7,
     "metadata": {},
     "output_type": "execute_result"
    }
   ],
   "source": [
    "np.random.seed(42)\n",
    "\n",
    "df_full_train, df_test = train_test_split(customer_data, test_size=0.2, random_state=1)\n",
    "\n",
    "df_train, df_val  = train_test_split(df_full_train, test_size=0.25, random_state=1) # 25% here means it will be 20% of the overall data set\n",
    "\n",
    "len(df_train), len(df_val), len(df_test)"
   ]
  },
  {
   "cell_type": "markdown",
   "id": "521db6f2",
   "metadata": {},
   "source": [
    "### Split data and train model"
   ]
  },
  {
   "cell_type": "code",
   "execution_count": 8,
   "id": "b533e624",
   "metadata": {},
   "outputs": [],
   "source": [
    "df_train = df_train.reset_index(drop=True)\n",
    "df_val = df_val.reset_index(drop=True)\n",
    "df_test = df_test.reset_index(drop=True)\n",
    "\n",
    "y_train = df_train['churn'].values\n",
    "y_val = df_val['churn'].values\n",
    "y_test = df_test['churn'].values\n",
    "\n",
    "del df_train['churn']\n",
    "del df_val['churn']\n",
    "del df_test['churn']"
   ]
  },
  {
   "cell_type": "code",
   "execution_count": 9,
   "id": "08f4a163",
   "metadata": {},
   "outputs": [],
   "source": [
    "numerical_features = ['tenure', 'monthlycharges', 'totalcharges']\n",
    "categorical_features = [x for x in df_full_train.columns.tolist() if x not in numerical_features and x != 'churn' and x != 'customerid']"
   ]
  },
  {
   "cell_type": "code",
   "execution_count": 10,
   "id": "8cb4584e",
   "metadata": {},
   "outputs": [
    {
     "data": {
      "text/plain": [
       "0.8034066713981547"
      ]
     },
     "execution_count": 10,
     "metadata": {},
     "output_type": "execute_result"
    }
   ],
   "source": [
    "train_dict = df_train[categorical_features + numerical_features].to_dict(orient='records')\n",
    "\n",
    "dv = DictVectorizer(sparse=False)\n",
    "X_train = dv.fit_transform(train_dict)\n",
    "\n",
    "model = LogisticRegression(solver='lbfgs')\n",
    "model.fit(X_train, y_train)\n",
    "\n",
    "val_dict = df_val[categorical_features + numerical_features].to_dict(orient='records')\n",
    "\n",
    "X_val = dv.transform(val_dict)\n",
    "\n",
    "y_pred = model.predict_proba(X_val)[:, 1]\n",
    "\n",
    "churn_decision = (y_pred >= 0.5)\n",
    "\n",
    "(churn_decision == y_val).mean()"
   ]
  },
  {
   "cell_type": "markdown",
   "id": "55cd6e91",
   "metadata": {},
   "source": [
    "## Evaluation Metrics"
   ]
  },
  {
   "cell_type": "markdown",
   "id": "9905517d",
   "metadata": {},
   "source": [
    "### 4.2 Accuracy and dummy model\n",
    "\n",
    "#### Answer the question: is 80% good enough?\n",
    "\n",
    "- evaluate the model with different thresholds\n",
    "- check accuracy of the dummy baseline"
   ]
  },
  {
   "cell_type": "markdown",
   "id": "4de695de",
   "metadata": {},
   "source": [
    "#### correct decisions / number of customers == accuracy"
   ]
  },
  {
   "cell_type": "code",
   "execution_count": 11,
   "id": "d4f2cf6c",
   "metadata": {},
   "outputs": [
    {
     "data": {
      "text/plain": [
       "0.8034066713981547"
      ]
     },
     "execution_count": 11,
     "metadata": {},
     "output_type": "execute_result"
    }
   ],
   "source": [
    "number_of_customers = len(y_val)\n",
    "correct_answers = (y_val == churn_decision).sum()\n",
    "\n",
    "correct_answers / number_of_customers\n",
    "\n",
    "# rememeber we can also use the .mean() here because they are binary"
   ]
  },
  {
   "cell_type": "code",
   "execution_count": 12,
   "id": "ca814ca9",
   "metadata": {},
   "outputs": [],
   "source": [
    "thresholds = np.linspace(0,1,21)\n",
    "\n",
    "scores = []\n",
    "\n",
    "for threshold in thresholds:\n",
    "    churn_decision = (y_pred >= threshold)\n",
    "    score = (churn_decision == y_val).mean()\n",
    "    scores.append(score)"
   ]
  },
  {
   "cell_type": "code",
   "execution_count": 13,
   "id": "c0d9023a",
   "metadata": {},
   "outputs": [
    {
     "data": {
      "text/plain": [
       "[<matplotlib.lines.Line2D at 0x7f348e1f13a0>]"
      ]
     },
     "execution_count": 13,
     "metadata": {},
     "output_type": "execute_result"
    },
    {
     "data": {
      "image/png": "[encoded data removed]",
      "text/plain": [
       "<Figure size 432x288 with 1 Axes>"
      ]
     },
     "metadata": {
      "needs_background": "light"
     },
     "output_type": "display_data"
    }
   ],
   "source": [
    "plt.plot(thresholds, scores)"
   ]
  },
  {
   "cell_type": "markdown",
   "id": "10035648",
   "metadata": {},
   "source": [
    "We see that 0.5 does indeed give us the best accuracy."
   ]
  },
  {
   "cell_type": "code",
   "execution_count": 14,
   "id": "aa409dec",
   "metadata": {},
   "outputs": [],
   "source": [
    "from sklearn.metrics import accuracy_score"
   ]
  },
  {
   "cell_type": "code",
   "execution_count": 15,
   "id": "61aa9af5",
   "metadata": {},
   "outputs": [
    {
     "data": {
      "text/plain": [
       "0.8034066713981547"
      ]
     },
     "execution_count": 15,
     "metadata": {},
     "output_type": "execute_result"
    }
   ],
   "source": [
    "# we can use this accuracy_score instead of calculating it ourself\n",
    "accuracy_score(y_val, y_pred >= 0.5)"
   ]
  },
  {
   "cell_type": "markdown",
   "id": "c9192dcd",
   "metadata": {},
   "source": [
    "If we look at the far end of the chart we see that for churn probability == that our accuracy is still relatively good (~70%) this would predict everyone as not churning but we know that is not representative. This is because we have more customers who do not churn in the data set than we have customers in the data set that churn (class inbalance)\n",
    "\n",
    "So we can not only look at accuracy to understand our models performance."
   ]
  },
  {
   "cell_type": "markdown",
   "id": "f168b27b",
   "metadata": {},
   "source": [
    "### 4.3 Confusion Tables\n",
    "\n",
    "- not affected by class in balance\n",
    "\n",
    "- true positive (we predict churn and its correct)\n",
    "- true negative (we predict they will not churn and its correct)\n",
    "- false positive (we predict they will churn but they do not)\n",
    "- false negative (we predict they will not churn but they do)"
   ]
  },
  {
   "cell_type": "code",
   "execution_count": 16,
   "id": "a91f4c85",
   "metadata": {},
   "outputs": [],
   "source": [
    "actual_positive = (y_val == 1)\n",
    "actual_negative = (y_val == 0)\n",
    "\n",
    "threshold = 0.5\n",
    "predict_positive = (y_pred >= threshold)\n",
    "predict_negative = (y_pred < threshold)"
   ]
  },
  {
   "cell_type": "code",
   "execution_count": 17,
   "id": "c5cf817a",
   "metadata": {},
   "outputs": [
    {
     "data": {
      "text/plain": [
       "210"
      ]
     },
     "execution_count": 17,
     "metadata": {},
     "output_type": "execute_result"
    }
   ],
   "source": [
    "true_positive = (predict_positive & actual_positive).sum() # returns an array where both are positive\n",
    "true_positive"
   ]
  },
  {
   "cell_type": "code",
   "execution_count": 18,
   "id": "89a3e63f",
   "metadata": {},
   "outputs": [
    {
     "data": {
      "text/plain": [
       "922"
      ]
     },
     "execution_count": 18,
     "metadata": {},
     "output_type": "execute_result"
    }
   ],
   "source": [
    "true_negative = (predict_negative & actual_negative).sum()\n",
    "true_negative"
   ]
  },
  {
   "cell_type": "code",
   "execution_count": 19,
   "id": "359504e4",
   "metadata": {},
   "outputs": [
    {
     "data": {
      "text/plain": [
       "101"
      ]
     },
     "execution_count": 19,
     "metadata": {},
     "output_type": "execute_result"
    }
   ],
   "source": [
    "false_positive = (predict_positive & actual_negative).sum()\n",
    "false_positive"
   ]
  },
  {
   "cell_type": "code",
   "execution_count": 20,
   "id": "747d7bc1",
   "metadata": {},
   "outputs": [
    {
     "data": {
      "text/plain": [
       "176"
      ]
     },
     "execution_count": 20,
     "metadata": {},
     "output_type": "execute_result"
    }
   ],
   "source": [
    "false_negative = (predict_negative & actual_positive).sum()\n",
    "false_negative"
   ]
  },
  {
   "cell_type": "markdown",
   "id": "80360fe7",
   "metadata": {},
   "source": [
    "Lets now put all these values into a single table"
   ]
  },
  {
   "cell_type": "code",
   "execution_count": 21,
   "id": "e771eff5",
   "metadata": {},
   "outputs": [
    {
     "data": {
      "text/plain": [
       "array([[922, 101],\n",
       "       [176, 210]])"
      ]
     },
     "execution_count": 21,
     "metadata": {},
     "output_type": "execute_result"
    }
   ],
   "source": [
    "confusion_matrix = np.array([\n",
    "    [true_negative, false_positive],\n",
    "    [false_negative, true_positive]\n",
    "])\n",
    "confusion_matrix"
   ]
  },
  {
   "cell_type": "markdown",
   "id": "03b1952c",
   "metadata": {},
   "source": [
    "For us we see a lot of false positive, people we think will churn so we send out promotions but the customer stays regardless. On the other hand false negative who we think will not churn and don't send them any promotion and therefore are unable to retain their business."
   ]
  },
  {
   "cell_type": "code",
   "execution_count": 22,
   "id": "721274a6",
   "metadata": {},
   "outputs": [
    {
     "data": {
      "text/plain": [
       "0.8034066713981547"
      ]
     },
     "execution_count": 22,
     "metadata": {},
     "output_type": "execute_result"
    }
   ],
   "source": [
    "# another way we can show the accuracy is below\n",
    "(true_positive + true_negative) / (true_positive + true_negative + false_positive + false_negative)"
   ]
  },
  {
   "cell_type": "markdown",
   "id": "42568413",
   "metadata": {},
   "source": [
    "### 4.4 Precision and Recall\n",
    "\n",
    "**Precision:** the fraction of positive predictions that are correct\n",
    "\n",
    "(tp / total positive ie true positive + false positive)"
   ]
  },
  {
   "cell_type": "code",
   "execution_count": 23,
   "id": "33aeee9f",
   "metadata": {},
   "outputs": [
    {
     "data": {
      "text/plain": [
       "0.6752411575562701"
      ]
     },
     "execution_count": 23,
     "metadata": {},
     "output_type": "execute_result"
    }
   ],
   "source": [
    "p = true_positive / (true_positive + false_positive)\n",
    "p"
   ]
  },
  {
   "cell_type": "markdown",
   "id": "52ff186e",
   "metadata": {},
   "source": [
    "**Recall:** the fraction of incorrectly predicted positive examples\n",
    "\n",
    "(tp / total positive ie true positive + false negative)"
   ]
  },
  {
   "cell_type": "code",
   "execution_count": 24,
   "id": "c03870d4",
   "metadata": {},
   "outputs": [
    {
     "data": {
      "text/plain": [
       "0.5440414507772021"
      ]
     },
     "execution_count": 24,
     "metadata": {},
     "output_type": "execute_result"
    }
   ],
   "source": [
    "r = true_positive / (true_positive + false_negative)\n",
    "r"
   ]
  },
  {
   "cell_type": "markdown",
   "id": "d3916712",
   "metadata": {},
   "source": [
    "For 46% of people who are churning we failed to identify them.\n",
    "\n",
    "When we look only at accuracy the model seems good but when we look closer for the case we want to use the model we are actually failing. We are sending many customers who probably would not churn promotions and missing some who will churn. Therefore precision and recall can be better metrics to look at when evaluating our model."
   ]
  },
  {
   "cell_type": "markdown",
   "id": "5ff5d3e9",
   "metadata": {},
   "source": [
    "![confusion table]('images/confusion_table.png')"
   ]
  },
  {
   "cell_type": "markdown",
   "id": "d5566720",
   "metadata": {},
   "source": [
    "![Recall and precision]('images/recall_and_precision.png')"
   ]
  },
  {
   "cell_type": "markdown",
   "id": "f7b30254",
   "metadata": {},
   "source": [
    "### ROC Curves\n",
    "\n",
    "Receiving operating characteristic\n",
    "\n",
    "\n",
    "**False positive rate (FPR)** = False Positive / (True negative + False positive)\n",
    "\n",
    "**True positive rate (TPR)** = True Positive / (True positive + False negative)\n",
    "\n",
    "\n",
    "We want the FPR to be as low as possible (meaning we want to minimise the amount false positive) and the TPR to be as high as possible (meaning to minimise the amount of false negative values)"
   ]
  },
  {
   "cell_type": "code",
   "execution_count": 25,
   "id": "1eb4db87",
   "metadata": {},
   "outputs": [
    {
     "data": {
      "text/plain": [
       "0.5440414507772021"
      ]
     },
     "execution_count": 25,
     "metadata": {},
     "output_type": "execute_result"
    }
   ],
   "source": [
    "tpr = true_positive / (true_positive + false_negative)\n",
    "tpr"
   ]
  },
  {
   "cell_type": "code",
   "execution_count": 26,
   "id": "e94a5629",
   "metadata": {},
   "outputs": [
    {
     "data": {
      "text/plain": [
       "0.09872922776148582"
      ]
     },
     "execution_count": 26,
     "metadata": {},
     "output_type": "execute_result"
    }
   ],
   "source": [
    "fpr = false_positive / (false_positive + true_negative)\n",
    "fpr"
   ]
  },
  {
   "cell_type": "markdown",
   "id": "e11f5bf9",
   "metadata": {},
   "source": [
    "Note that tpr is the same as our recall. An ROC curve looks at all thresholds and evaluates them."
   ]
  },
  {
   "cell_type": "code",
   "execution_count": 27,
   "id": "6af4a737",
   "metadata": {},
   "outputs": [],
   "source": [
    "thresholds = np.linspace(0, 1, 101)\n",
    "scores = []\n",
    "\n",
    "\n",
    "for t in thresholds:\n",
    "    actual_positive = (y_val == 1)\n",
    "    actual_negative = (y_val == 0)\n",
    "    \n",
    "    predict_positive = (y_pred >= t)\n",
    "    predict_negative = (y_pred < t)\n",
    "    \n",
    "    tp = (predict_positive & actual_positive).sum()\n",
    "    tn = (predict_negative & actual_negative).sum()\n",
    "    \n",
    "    fp = (predict_positive & actual_negative).sum()\n",
    "    fn = false_negative = (predict_negative & actual_positive).sum()\n",
    "    \n",
    "    scores.append((t,tp,fp,fn, tn))\n",
    "    "
   ]
  },
  {
   "cell_type": "code",
   "execution_count": 28,
   "id": "a7eed4fc",
   "metadata": {},
   "outputs": [],
   "source": [
    "columns = ['threshold', 'true_positive', 'false_positive', 'false_negative', 'true_negative']\n",
    "scores_df = pd.DataFrame(scores, columns=columns)"
   ]
  },
  {
   "cell_type": "code",
   "execution_count": 29,
   "id": "f1007453",
   "metadata": {},
   "outputs": [],
   "source": [
    "scores_df['true_positive_rate'] = scores_df.true_positive / (scores_df.true_positive + scores_df.false_negative)\n",
    "scores_df['false_positive_rate'] = scores_df.false_positive / (scores_df.false_positive + scores_df.true_negative)"
   ]
  },
  {
   "cell_type": "code",
   "execution_count": 30,
   "id": "a1085669",
   "metadata": {},
   "outputs": [
    {
     "data": {
      "text/html": [
       "<div>\n",
       "<style scoped>\n",
       "    .dataframe tbody tr th:only-of-type {\n",
       "        vertical-align: middle;\n",
       "    }\n",
       "\n",
       "    .dataframe tbody tr th {\n",
       "        vertical-align: top;\n",
       "    }\n",
       "\n",
       "    .dataframe thead th {\n",
       "        text-align: right;\n",
       "    }\n",
       "</style>\n",
       "<table border=\"1\" class=\"dataframe\">\n",
       "  <thead>\n",
       "    <tr style=\"text-align: right;\">\n",
       "      <th></th>\n",
       "      <th>threshold</th>\n",
       "      <th>true_positive</th>\n",
       "      <th>false_positive</th>\n",
       "      <th>false_negative</th>\n",
       "      <th>true_negative</th>\n",
       "      <th>true_positive_rate</th>\n",
       "      <th>false_positive_rate</th>\n",
       "    </tr>\n",
       "  </thead>\n",
       "  <tbody>\n",
       "    <tr>\n",
       "      <th>0</th>\n",
       "      <td>0.0</td>\n",
       "      <td>386</td>\n",
       "      <td>1023</td>\n",
       "      <td>0</td>\n",
       "      <td>0</td>\n",
       "      <td>1.000000</td>\n",
       "      <td>1.000000</td>\n",
       "    </tr>\n",
       "    <tr>\n",
       "      <th>10</th>\n",
       "      <td>0.1</td>\n",
       "      <td>366</td>\n",
       "      <td>556</td>\n",
       "      <td>20</td>\n",
       "      <td>467</td>\n",
       "      <td>0.948187</td>\n",
       "      <td>0.543500</td>\n",
       "    </tr>\n",
       "    <tr>\n",
       "      <th>20</th>\n",
       "      <td>0.2</td>\n",
       "      <td>333</td>\n",
       "      <td>356</td>\n",
       "      <td>53</td>\n",
       "      <td>667</td>\n",
       "      <td>0.862694</td>\n",
       "      <td>0.347996</td>\n",
       "    </tr>\n",
       "    <tr>\n",
       "      <th>30</th>\n",
       "      <td>0.3</td>\n",
       "      <td>284</td>\n",
       "      <td>236</td>\n",
       "      <td>102</td>\n",
       "      <td>787</td>\n",
       "      <td>0.735751</td>\n",
       "      <td>0.230694</td>\n",
       "    </tr>\n",
       "    <tr>\n",
       "      <th>40</th>\n",
       "      <td>0.4</td>\n",
       "      <td>249</td>\n",
       "      <td>166</td>\n",
       "      <td>137</td>\n",
       "      <td>857</td>\n",
       "      <td>0.645078</td>\n",
       "      <td>0.162268</td>\n",
       "    </tr>\n",
       "    <tr>\n",
       "      <th>50</th>\n",
       "      <td>0.5</td>\n",
       "      <td>210</td>\n",
       "      <td>101</td>\n",
       "      <td>176</td>\n",
       "      <td>922</td>\n",
       "      <td>0.544041</td>\n",
       "      <td>0.098729</td>\n",
       "    </tr>\n",
       "    <tr>\n",
       "      <th>60</th>\n",
       "      <td>0.6</td>\n",
       "      <td>150</td>\n",
       "      <td>53</td>\n",
       "      <td>236</td>\n",
       "      <td>970</td>\n",
       "      <td>0.388601</td>\n",
       "      <td>0.051808</td>\n",
       "    </tr>\n",
       "    <tr>\n",
       "      <th>70</th>\n",
       "      <td>0.7</td>\n",
       "      <td>76</td>\n",
       "      <td>20</td>\n",
       "      <td>310</td>\n",
       "      <td>1003</td>\n",
       "      <td>0.196891</td>\n",
       "      <td>0.019550</td>\n",
       "    </tr>\n",
       "    <tr>\n",
       "      <th>80</th>\n",
       "      <td>0.8</td>\n",
       "      <td>13</td>\n",
       "      <td>1</td>\n",
       "      <td>373</td>\n",
       "      <td>1022</td>\n",
       "      <td>0.033679</td>\n",
       "      <td>0.000978</td>\n",
       "    </tr>\n",
       "    <tr>\n",
       "      <th>90</th>\n",
       "      <td>0.9</td>\n",
       "      <td>0</td>\n",
       "      <td>0</td>\n",
       "      <td>386</td>\n",
       "      <td>1023</td>\n",
       "      <td>0.000000</td>\n",
       "      <td>0.000000</td>\n",
       "    </tr>\n",
       "    <tr>\n",
       "      <th>100</th>\n",
       "      <td>1.0</td>\n",
       "      <td>0</td>\n",
       "      <td>0</td>\n",
       "      <td>386</td>\n",
       "      <td>1023</td>\n",
       "      <td>0.000000</td>\n",
       "      <td>0.000000</td>\n",
       "    </tr>\n",
       "  </tbody>\n",
       "</table>\n",
       "</div>"
      ],
      "text/plain": [
       "     threshold  true_positive  false_positive  false_negative  true_negative  \\\n",
       "0          0.0            386            1023               0              0   \n",
       "10         0.1            366             556              20            467   \n",
       "20         0.2            333             356              53            667   \n",
       "30         0.3            284             236             102            787   \n",
       "40         0.4            249             166             137            857   \n",
       "50         0.5            210             101             176            922   \n",
       "60         0.6            150              53             236            970   \n",
       "70         0.7             76              20             310           1003   \n",
       "80         0.8             13               1             373           1022   \n",
       "90         0.9              0               0             386           1023   \n",
       "100        1.0              0               0             386           1023   \n",
       "\n",
       "     true_positive_rate  false_positive_rate  \n",
       "0              1.000000             1.000000  \n",
       "10             0.948187             0.543500  \n",
       "20             0.862694             0.347996  \n",
       "30             0.735751             0.230694  \n",
       "40             0.645078             0.162268  \n",
       "50             0.544041             0.098729  \n",
       "60             0.388601             0.051808  \n",
       "70             0.196891             0.019550  \n",
       "80             0.033679             0.000978  \n",
       "90             0.000000             0.000000  \n",
       "100            0.000000             0.000000  "
      ]
     },
     "execution_count": 30,
     "metadata": {},
     "output_type": "execute_result"
    }
   ],
   "source": [
    "scores_df[::10]"
   ]
  },
  {
   "cell_type": "code",
   "execution_count": 31,
   "id": "ab29413e",
   "metadata": {},
   "outputs": [
    {
     "data": {
      "text/plain": [
       "[<matplotlib.lines.Line2D at 0x7f348e2059d0>]"
      ]
     },
     "execution_count": 31,
     "metadata": {},
     "output_type": "execute_result"
    },
    {
     "data": {
      "image/png": "[encoded data removed]",
      "text/plain": [
       "<Figure size 432x288 with 1 Axes>"
      ]
     },
     "metadata": {
      "needs_background": "light"
     },
     "output_type": "display_data"
    }
   ],
   "source": [
    "plt.plot(scores_df.threshold, scores_df['true_positive_rate'], label='TPR' )\n",
    "plt.plot(scores_df.threshold, scores_df['false_positive_rate'], label='FPR' )"
   ]
  },
  {
   "cell_type": "markdown",
   "id": "774bba11",
   "metadata": {},
   "source": [
    "### Random model"
   ]
  },
  {
   "cell_type": "code",
   "execution_count": 32,
   "id": "7dda82ef",
   "metadata": {},
   "outputs": [],
   "source": [
    "np.random.seed(1)\n",
    "y_rand = np.random.uniform(0, 1, size=len(y_val)) # for each customer randomly predict if they will churn or not"
   ]
  },
  {
   "cell_type": "code",
   "execution_count": 33,
   "id": "235d4bf7",
   "metadata": {},
   "outputs": [
    {
     "data": {
      "text/plain": [
       "0.5017743080198722"
      ]
     },
     "execution_count": 33,
     "metadata": {},
     "output_type": "execute_result"
    }
   ],
   "source": [
    "((y_rand >= 0.5) == y_val).mean()"
   ]
  },
  {
   "cell_type": "code",
   "execution_count": 34,
   "id": "935e3abc",
   "metadata": {},
   "outputs": [],
   "source": [
    "def tpr_fpr_df(y_val, y_pred):\n",
    "    thresholds = np.linspace(0, 1, 101)\n",
    "    scores = []\n",
    "\n",
    "\n",
    "    for t in thresholds:\n",
    "        actual_positive = (y_val == 1)\n",
    "        actual_negative = (y_val == 0)\n",
    "\n",
    "        predict_positive = (y_pred >= t)\n",
    "        predict_negative = (y_pred < t)\n",
    "\n",
    "        tp = (predict_positive & actual_positive).sum()\n",
    "        tn = (predict_negative & actual_negative).sum()\n",
    "\n",
    "        fp = (predict_positive & actual_negative).sum()\n",
    "        fn = false_negative = (predict_negative & actual_positive).sum()\n",
    "\n",
    "        scores.append((t,tp,fp,fn, tn))\n",
    "        \n",
    "    columns = ['threshold', 'true_positive', 'false_positive', 'false_negative', 'true_negative']\n",
    "    scores_df = pd.DataFrame(scores, columns=columns)\n",
    "    \n",
    "    scores_df['true_positive_rate'] = scores_df.true_positive / (scores_df.true_positive + scores_df.false_negative)\n",
    "    scores_df['false_positive_rate'] = scores_df.false_positive / (scores_df.false_positive + scores_df.true_negative)\n",
    "\n",
    "    return scores_df"
   ]
  },
  {
   "cell_type": "code",
   "execution_count": 35,
   "id": "7481c979",
   "metadata": {},
   "outputs": [],
   "source": [
    "df_rand = tpr_fpr_df(y_val, y_rand)"
   ]
  },
  {
   "cell_type": "code",
   "execution_count": 36,
   "id": "7ad5181e",
   "metadata": {},
   "outputs": [
    {
     "data": {
      "text/plain": [
       "[<matplotlib.lines.Line2D at 0x7f348e112b50>]"
      ]
     },
     "execution_count": 36,
     "metadata": {},
     "output_type": "execute_result"
    },
    {
     "data": {
      "image/png": "[encoded data removed]",
      "text/plain": [
       "<Figure size 432x288 with 1 Axes>"
      ]
     },
     "metadata": {
      "needs_background": "light"
     },
     "output_type": "display_data"
    }
   ],
   "source": [
    "plt.plot(df_rand.threshold, df_rand['true_positive_rate'], label='TPR' )\n",
    "plt.plot(df_rand.threshold, df_rand['false_positive_rate'], label='FPR' )"
   ]
  },
  {
   "cell_type": "markdown",
   "id": "2afbd329",
   "metadata": {},
   "source": [
    "For these randomly assigned predictions we see its a straight line down.\n",
    "\n",
    "\n",
    "### Ideal model\n",
    "\n",
    "72% no churn and 28% churning. We order them so all non churning are first."
   ]
  },
  {
   "cell_type": "code",
   "execution_count": 37,
   "id": "fd40cdbb",
   "metadata": {},
   "outputs": [
    {
     "data": {
      "text/plain": [
       "(1023, 386)"
      ]
     },
     "execution_count": 37,
     "metadata": {},
     "output_type": "execute_result"
    }
   ],
   "source": [
    "num_neg = (y_val == 0).sum()\n",
    "num_pos = (y_val == 1).sum()\n",
    "num_neg, num_pos"
   ]
  },
  {
   "cell_type": "code",
   "execution_count": 38,
   "id": "2d98a428",
   "metadata": {},
   "outputs": [],
   "source": [
    "y_ideal = np.repeat([0,1], [num_neg, num_pos]) \n",
    "# repeats 0 for the number of negative and 1 for the positive in an array"
   ]
  },
  {
   "cell_type": "code",
   "execution_count": 39,
   "id": "98eddfa7",
   "metadata": {},
   "outputs": [],
   "source": [
    "y_ideal_pred = np.linspace(0, 1, len(y_val)) # ideal predictions for our classifier"
   ]
  },
  {
   "cell_type": "code",
   "execution_count": 40,
   "id": "38715dac",
   "metadata": {},
   "outputs": [
    {
     "data": {
      "text/plain": [
       "0.99361249112846"
      ]
     },
     "execution_count": 40,
     "metadata": {},
     "output_type": "execute_result"
    }
   ],
   "source": [
    "((y_ideal_pred >= 0.72) == y_ideal).mean()"
   ]
  },
  {
   "cell_type": "code",
   "execution_count": 41,
   "id": "e8a474bc",
   "metadata": {},
   "outputs": [],
   "source": [
    "# now we created the ideal model we see accuracy is close to 100%\n",
    "# (it can be 100% if you change to 0.726)\n",
    "# we can use this to benchmark our model\n",
    "\n",
    "df_ideal = tpr_fpr_df(y_ideal, y_ideal_pred)"
   ]
  },
  {
   "cell_type": "code",
   "execution_count": 42,
   "id": "05e6d313",
   "metadata": {},
   "outputs": [
    {
     "data": {
      "text/plain": [
       "[<matplotlib.lines.Line2D at 0x7f348e043880>]"
      ]
     },
     "execution_count": 42,
     "metadata": {},
     "output_type": "execute_result"
    },
    {
     "data": {
      "image/png": "[encoded data removed]",
      "text/plain": [
       "<Figure size 432x288 with 1 Axes>"
      ]
     },
     "metadata": {
      "needs_background": "light"
     },
     "output_type": "display_data"
    }
   ],
   "source": [
    "plt.plot(df_ideal.threshold, df_ideal['true_positive_rate'], label='TPR' )\n",
    "plt.plot(df_ideal.threshold, df_ideal['false_positive_rate'], label='FPR' )"
   ]
  },
  {
   "cell_type": "code",
   "execution_count": 43,
   "id": "3b18a89b",
   "metadata": {},
   "outputs": [
    {
     "data": {
      "text/plain": [
       "<matplotlib.legend.Legend at 0x7f348e02f4f0>"
      ]
     },
     "execution_count": 43,
     "metadata": {},
     "output_type": "execute_result"
    },
    {
     "data": {
      "image/png": "[encoded data removed]",
      "text/plain": [
       "<Figure size 432x288 with 1 Axes>"
      ]
     },
     "metadata": {
      "needs_background": "light"
     },
     "output_type": "display_data"
    }
   ],
   "source": [
    "plt.plot(df_ideal.threshold, df_ideal['true_positive_rate'], label='TPR', color='black')\n",
    "plt.plot(df_ideal.threshold, df_ideal['false_positive_rate'], label='FPR', color='black')\n",
    "plt.plot(scores_df.threshold, scores_df['true_positive_rate'], label='TPR' )\n",
    "plt.plot(scores_df.threshold, scores_df['false_positive_rate'], label='FPR' )\n",
    "plt.legend()"
   ]
  },
  {
   "cell_type": "code",
   "execution_count": 89,
   "id": "a7caaa1f",
   "metadata": {},
   "outputs": [
    {
     "data": {
      "text/plain": [
       "<matplotlib.legend.Legend at 0x7f348e9efd30>"
      ]
     },
     "execution_count": 89,
     "metadata": {},
     "output_type": "execute_result"
    },
    {
     "data": {
      "image/png": "[encoded data removed]",
      "text/plain": [
       "<Figure size 360x360 with 1 Axes>"
      ]
     },
     "metadata": {
      "needs_background": "light"
     },
     "output_type": "display_data"
    }
   ],
   "source": [
    "# normally square graph\n",
    "plt.figure(figsize=(5,5))\n",
    "\n",
    "plt.plot(scores_df['false_positive_rate'], scores_df['true_positive_rate'], label='Model')\n",
    "plt.plot(df_ideal['false_positive_rate'], df_ideal['true_positive_rate'], label='Ideal', color='black')\n",
    "plt.plot(df_rand['false_positive_rate'], df_rand['true_positive_rate'], label='Rand')\n",
    "plt.legend()"
   ]
  },
  {
   "cell_type": "markdown",
   "id": "d7bc8718",
   "metadata": {},
   "source": [
    "Our model ideally  is towards the idea curve, if its below the random model baseline we have a mistake somewhere (probably need to flip positive and negative values)\n",
    "\n",
    "We can also use this to compare different models.\n",
    "\n",
    "AUC (area under the curve) tells us how good the classifier is.\n",
    "\n",
    "Doing this with Sklearn"
   ]
  },
  {
   "cell_type": "code",
   "execution_count": 45,
   "id": "578835f7",
   "metadata": {},
   "outputs": [],
   "source": [
    "from sklearn.metrics import roc_curve"
   ]
  },
  {
   "cell_type": "code",
   "execution_count": 46,
   "id": "d413eb1c",
   "metadata": {},
   "outputs": [],
   "source": [
    "fpr, tpr, t = roc_curve(y_val, y_pred) # outputs tpr, fpr and thresholds"
   ]
  },
  {
   "cell_type": "code",
   "execution_count": 47,
   "id": "ba3cbfbd",
   "metadata": {},
   "outputs": [
    {
     "data": {
      "text/plain": [
       "[<matplotlib.lines.Line2D at 0x7f3485d3da00>]"
      ]
     },
     "execution_count": 47,
     "metadata": {},
     "output_type": "execute_result"
    },
    {
     "data": {
      "image/png": "[encoded data removed]",
      "text/plain": [
       "<Figure size 360x360 with 1 Axes>"
      ]
     },
     "metadata": {
      "needs_background": "light"
     },
     "output_type": "display_data"
    }
   ],
   "source": [
    "plt.figure(figsize=(5,5))\n",
    "\n",
    "plt.xlabel('FPR')\n",
    "plt.ylabel('TPR')\n",
    "\n",
    "plt.plot(fpr, tpr, label='Model')"
   ]
  },
  {
   "cell_type": "markdown",
   "id": "46636ab5",
   "metadata": {},
   "source": [
    "## 4.6 ROC AUC\n",
    "\n",
    "Area Under the Curve is a useful metric for evaluating binary classification models.\n",
    "\n",
    "As the ideal curve goes straight up and then across it would have the largest area under the curve (ie 1.0). We can therefore use the AUC to evaluate our model, ie a model with AUC of 0.9 would be more performant than one with 0.8. We look at how far it is from the random base line and the ideal model."
   ]
  },
  {
   "cell_type": "code",
   "execution_count": 48,
   "id": "d0a9ebe4",
   "metadata": {},
   "outputs": [],
   "source": [
    "from sklearn.metrics import auc # measures auc for any curve not just roc"
   ]
  },
  {
   "cell_type": "code",
   "execution_count": 49,
   "id": "18a53b1a",
   "metadata": {},
   "outputs": [
    {
     "data": {
      "text/plain": [
       "0.8438454408703447"
      ]
     },
     "execution_count": 49,
     "metadata": {},
     "output_type": "execute_result"
    }
   ],
   "source": [
    "auc(fpr, tpr)"
   ]
  },
  {
   "cell_type": "code",
   "execution_count": 50,
   "id": "6bb52dd4",
   "metadata": {},
   "outputs": [
    {
     "data": {
      "text/plain": [
       "0.9999430203759136"
      ]
     },
     "execution_count": 50,
     "metadata": {},
     "output_type": "execute_result"
    }
   ],
   "source": [
    "# to check what auc has the ideal model\n",
    "auc(df_ideal['false_positive_rate'], df_ideal['true_positive_rate'])"
   ]
  },
  {
   "cell_type": "code",
   "execution_count": 51,
   "id": "85b64543",
   "metadata": {},
   "outputs": [],
   "source": [
    "# we can also get dirrectly to this metric with the following function from sklearn\n",
    "from sklearn.metrics import roc_auc_score"
   ]
  },
  {
   "cell_type": "code",
   "execution_count": 52,
   "id": "684eecbd",
   "metadata": {},
   "outputs": [
    {
     "data": {
      "text/plain": [
       "0.8438454408703447"
      ]
     },
     "execution_count": 52,
     "metadata": {},
     "output_type": "execute_result"
    }
   ],
   "source": [
    "roc_auc_score(y_val, y_pred)"
   ]
  },
  {
   "cell_type": "markdown",
   "id": "3f0d3d85",
   "metadata": {},
   "source": [
    "AUC tells us what is the probability of a randomly selected positive value has a higher score then a randomly selected negative value.\n",
    "\n",
    "\n",
    "Probability(random_pos_value > random_neg_value)"
   ]
  },
  {
   "cell_type": "code",
   "execution_count": 53,
   "id": "a7353009",
   "metadata": {},
   "outputs": [],
   "source": [
    "# get negative and positive values split\n",
    "neg = y_pred[y_val == 0]\n",
    "pos = y_pred[y_val == 1]"
   ]
  },
  {
   "cell_type": "code",
   "execution_count": 54,
   "id": "18f2e4b3",
   "metadata": {},
   "outputs": [],
   "source": [
    "import random"
   ]
  },
  {
   "cell_type": "code",
   "execution_count": 55,
   "id": "ade5bcf3",
   "metadata": {},
   "outputs": [],
   "source": [
    "# randomly choose a negative and positive value\n",
    "pos_idx = random.randint(0, len(pos) -1)\n",
    "neg_idx = random.randint(0, len(neg) -1)"
   ]
  },
  {
   "cell_type": "code",
   "execution_count": 56,
   "id": "cd06e26e",
   "metadata": {},
   "outputs": [
    {
     "data": {
      "text/plain": [
       "True"
      ]
     },
     "execution_count": 56,
     "metadata": {},
     "output_type": "execute_result"
    }
   ],
   "source": [
    "pos[pos_idx] > neg[neg_idx]"
   ]
  },
  {
   "cell_type": "code",
   "execution_count": 57,
   "id": "9a086c45",
   "metadata": {},
   "outputs": [
    {
     "name": "stdout",
     "output_type": "stream",
     "text": [
      "In 100,000 times we note that the chosen positive example is higher than the negative 84 % of the time\n"
     ]
    }
   ],
   "source": [
    "n = 100000\n",
    "success = 0\n",
    "\n",
    "for i in range(n):\n",
    "    pos_idx = random.randint(0, len(pos) -1)\n",
    "    neg_idx = random.randint(0, len(neg) -1)\n",
    "    \n",
    "    if pos[pos_idx] > neg[neg_idx]:\n",
    "        success = success + 1\n",
    "        \n",
    "print(f'In 100,000 times we note that the chosen positive example is higher than the negative {int((success / n) * 100)} % of the time')"
   ]
  },
  {
   "cell_type": "markdown",
   "id": "61c41c66",
   "metadata": {},
   "source": [
    "This tells us how well the model can order values.\n",
    "\n",
    "We can also do this with Numpy"
   ]
  },
  {
   "cell_type": "code",
   "execution_count": 58,
   "id": "a7b76ff0",
   "metadata": {},
   "outputs": [],
   "source": [
    "pos_ind = np.random.randint(0, len(pos), size=n) # here the second value is not inclusive\n",
    "neg_ind = np.random.randint(0, len(pos), size=n)"
   ]
  },
  {
   "cell_type": "code",
   "execution_count": 59,
   "id": "a905094f",
   "metadata": {},
   "outputs": [
    {
     "data": {
      "text/plain": [
       "array([ True,  True,  True, ..., False,  True,  True])"
      ]
     },
     "execution_count": 59,
     "metadata": {},
     "output_type": "execute_result"
    }
   ],
   "source": [
    "auc_array = (pos[pos_ind] > neg[neg_ind]) # create boolean array\n",
    "auc_array"
   ]
  },
  {
   "cell_type": "code",
   "execution_count": 60,
   "id": "4aabb7d6",
   "metadata": {},
   "outputs": [
    {
     "data": {
      "text/plain": [
       "0.84973"
      ]
     },
     "execution_count": 60,
     "metadata": {},
     "output_type": "execute_result"
    }
   ],
   "source": [
    "auc_array.mean()"
   ]
  },
  {
   "cell_type": "markdown",
   "id": "ccc18276",
   "metadata": {},
   "source": [
    "## 4.7 Cross Validation\n",
    "\n",
    "Parameter Tuning - selecting the best parameter\n",
    "\n",
    "k folds (number of times the data is split)\n",
    "\n",
    "Say we split it into 3 we would then do the following:\n",
    "\n",
    " | train |  train | validate|\n",
    " | ------|--------|---------|\n",
    " |  1    |   2    |    3    |\n",
    " |  2    |   3    |    1    |\n",
    " |  3    |   1    |    2    |\n",
    " \n",
    " \n",
    " This way we can see how each parameter perform across different splits of the data."
   ]
  },
  {
   "cell_type": "code",
   "execution_count": 61,
   "id": "965944d4",
   "metadata": {},
   "outputs": [],
   "source": [
    "def train(df, y_train):\n",
    "    dicts = df[categorical_features + numerical_features].to_dict(orient='records')\n",
    "    \n",
    "    dv = DictVectorizer(sparse=False)\n",
    "    X_train = dv.fit_transform(dicts)\n",
    "    \n",
    "    model = LogisticRegression()\n",
    "    model.fit(X_train, y_train)\n",
    "    \n",
    "    return dv, model"
   ]
  },
  {
   "cell_type": "code",
   "execution_count": 62,
   "id": "637d4209",
   "metadata": {},
   "outputs": [],
   "source": [
    "dv, model = train(df_train, y_train)"
   ]
  },
  {
   "cell_type": "code",
   "execution_count": 63,
   "id": "62bd93ca",
   "metadata": {},
   "outputs": [],
   "source": [
    "def predict(df, dv, model):\n",
    "    dicts = df[categorical_features + numerical_features].to_dict(orient='records')\n",
    "    X = dv.transform(dicts)\n",
    "    y_pred = model.predict_proba(X)[:, 1]\n",
    "    \n",
    "    return y_pred"
   ]
  },
  {
   "cell_type": "code",
   "execution_count": 64,
   "id": "14f49fe0",
   "metadata": {},
   "outputs": [],
   "source": [
    "y_preds = predict(df_val,dv, model)"
   ]
  },
  {
   "cell_type": "code",
   "execution_count": 66,
   "id": "a7cc0007",
   "metadata": {},
   "outputs": [],
   "source": [
    "from sklearn.model_selection import KFold"
   ]
  },
  {
   "cell_type": "code",
   "execution_count": 67,
   "id": "a2608720",
   "metadata": {},
   "outputs": [],
   "source": [
    "kfold = KFold(n_splits=10, shuffle=True, random_state=1)"
   ]
  },
  {
   "cell_type": "code",
   "execution_count": 69,
   "id": "17e9d162",
   "metadata": {},
   "outputs": [],
   "source": [
    "train_idx, val_idx = next(kfold.split(df_full_train)) \n",
    "# returns two array one fro training indexes and one for validation\n",
    "# next creates a generator so we can then loop over it (here we just take the first loop)"
   ]
  },
  {
   "cell_type": "code",
   "execution_count": 70,
   "id": "984b23f4",
   "metadata": {},
   "outputs": [
    {
     "data": {
      "text/plain": [
       "(5070, 564)"
      ]
     },
     "execution_count": 70,
     "metadata": {},
     "output_type": "execute_result"
    }
   ],
   "source": [
    "len(train_idx), len(val_idx)"
   ]
  },
  {
   "cell_type": "code",
   "execution_count": 71,
   "id": "1bdcf95d",
   "metadata": {},
   "outputs": [],
   "source": [
    "df_train = df_full_train.iloc[train_idx]\n",
    "df_val = df_full_train.iloc[val_idx]"
   ]
  },
  {
   "cell_type": "code",
   "execution_count": 82,
   "id": "94b358e7",
   "metadata": {},
   "outputs": [
    {
     "name": "stdout",
     "output_type": "stream",
     "text": [
      "Requirement already satisfied: tqdm in /opt/conda/lib/python3.9/site-packages (4.62.2)\r\n"
     ]
    }
   ],
   "source": [
    "!pip install tqdm"
   ]
  },
  {
   "cell_type": "code",
   "execution_count": 83,
   "id": "86ca12e0",
   "metadata": {},
   "outputs": [],
   "source": [
    "from tqdm.auto import tqdm # times the loop iterations"
   ]
  },
  {
   "cell_type": "code",
   "execution_count": 87,
   "id": "8f857039",
   "metadata": {},
   "outputs": [
    {
     "data": {
      "application/vnd.jupyter.widget-view+json": {
       "model_id": "d2a865ce1cc04bf9b7a5d6a8dd19ca01",
       "version_major": 2,
       "version_minor": 0
      },
      "text/plain": [
       "0it [00:00, ?it/s]"
      ]
     },
     "metadata": {},
     "output_type": "display_data"
    }
   ],
   "source": [
    "scores = []\n",
    "\n",
    "for train_idx, val_idx in tqdm(kfold.split(df_full_train)):\n",
    "    df_train = df_full_train.iloc[train_idx]\n",
    "    df_val = df_full_train.iloc[val_idx]\n",
    "    \n",
    "    y_train = df_train['churn'].values\n",
    "    y_val = df_val['churn'].values\n",
    "    \n",
    "    dv, model = train(df_train, y_train)\n",
    "    y_pred = predict(df_val, dv, model)\n",
    "    \n",
    "    auc = roc_auc_score(y_val, y_pred)\n",
    "    \n",
    "    scores.append(auc)"
   ]
  },
  {
   "cell_type": "code",
   "execution_count": 88,
   "id": "7f5a1e7d",
   "metadata": {},
   "outputs": [
    {
     "data": {
      "text/plain": [
       "[0.8479398247539081,\n",
       " 0.841089108910891,\n",
       " 0.8557214756739697,\n",
       " 0.8343428524401284,\n",
       " 0.8232009925558312,\n",
       " 0.8342657342657342,\n",
       " 0.8412569195701727,\n",
       " 0.8186669829222013,\n",
       " 0.8454868830591373,\n",
       " 0.8628449463883567]"
      ]
     },
     "execution_count": 88,
     "metadata": {},
     "output_type": "execute_result"
    }
   ],
   "source": [
    "scores"
   ]
  },
  {
   "cell_type": "code",
   "execution_count": null,
   "id": "d7cc6aff",
   "metadata": {},
   "outputs": [],
   "source": []
  }
 ],
 "metadata": {
  "kernelspec": {
   "display_name": "Python 3 (ipykernel)",
   "language": "python",
   "name": "python3"
  },
  "language_info": {
   "codemirror_mode": {
    "name": "ipython",
    "version": 3
   },
   "file_extension": ".py",
   "mimetype": "text/x-python",
   "name": "python",
   "nbconvert_exporter": "python",
   "pygments_lexer": "ipython3",
   "version": "3.9.6"
  }
 },
 "nbformat": 4,
 "nbformat_minor": 5
}
