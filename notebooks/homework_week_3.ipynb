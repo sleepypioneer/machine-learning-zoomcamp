{
 "cells": [
  {
   "cell_type": "markdown",
   "id": "8287f4b9",
   "metadata": {},
   "source": [
    "# Machine Learning Zoomcamp\n",
    "\n",
    "## Home work week three\n",
    "\n",
    "Questions: https://github.com/alexeygrigorev/mlbookcamp-code/blob/master/course-zoomcamp/03-classification/homework.md"
   ]
  },
  {
   "cell_type": "code",
   "execution_count": 1,
   "id": "ecf19b4b",
   "metadata": {},
   "outputs": [],
   "source": [
    "import pandas as pd\n",
    "import numpy as np\n",
    "\n",
    "pd.options.display.max_colwidth = 999\n",
    "pd.options.display.max_rows = 999\n",
    "\n",
    "from sklearn.linear_model import LogisticRegression\n",
    "import matplotlib.pyplot as plt\n",
    "import seaborn as sns\n",
    "\n",
    "from sklearn.feature_extraction import DictVectorizer\n",
    "from sklearn.metrics import mutual_info_score\n",
    "\n",
    "%matplotlib inline"
   ]
  },
  {
   "cell_type": "code",
   "execution_count": 2,
   "id": "1880d626",
   "metadata": {},
   "outputs": [],
   "source": [
    "airbnb_data = pd.read_csv('data/airbnb_data/AB_NYC_2019.csv')"
   ]
  },
  {
   "cell_type": "code",
   "execution_count": 3,
   "id": "3b40b8a7",
   "metadata": {},
   "outputs": [],
   "source": [
    "columns = [\n",
    "    'neighbourhood_group',\n",
    "    'room_type',\n",
    "    'latitude',\n",
    "    'longitude',\n",
    "    'price', \n",
    "    'minimum_nights',\n",
    "    'number_of_reviews',\n",
    "    'reviews_per_month',\n",
    "    'calculated_host_listings_count',\n",
    "    'availability_365'\n",
    "]"
   ]
  },
  {
   "cell_type": "code",
   "execution_count": 4,
   "id": "d501f333",
   "metadata": {},
   "outputs": [],
   "source": [
    "df = airbnb_data[columns]\n",
    "df = df.fillna(0)"
   ]
  },
  {
   "cell_type": "code",
   "execution_count": 5,
   "id": "872cb3c6",
   "metadata": {},
   "outputs": [
    {
     "data": {
      "text/plain": [
       "neighbourhood_group               0\n",
       "room_type                         0\n",
       "latitude                          0\n",
       "longitude                         0\n",
       "price                             0\n",
       "minimum_nights                    0\n",
       "number_of_reviews                 0\n",
       "reviews_per_month                 0\n",
       "calculated_host_listings_count    0\n",
       "availability_365                  0\n",
       "dtype: int64"
      ]
     },
     "execution_count": 5,
     "metadata": {},
     "output_type": "execute_result"
    }
   ],
   "source": [
    "df.isnull().sum()"
   ]
  },
  {
   "cell_type": "markdown",
   "id": "3e7c1c53",
   "metadata": {},
   "source": [
    "### Question 1: What is the most frequent observation (mode) for the column 'neighbourhood_group'"
   ]
  },
  {
   "cell_type": "code",
   "execution_count": 6,
   "id": "58538da6",
   "metadata": {},
   "outputs": [
    {
     "data": {
      "text/plain": [
       "0    Manhattan\n",
       "dtype: object"
      ]
     },
     "execution_count": 6,
     "metadata": {},
     "output_type": "execute_result"
    }
   ],
   "source": [
    "df['neighbourhood_group'].mode()"
   ]
  },
  {
   "cell_type": "markdown",
   "id": "8877ccb2",
   "metadata": {},
   "source": [
    "### Split the data: 60%/20%/20%"
   ]
  },
  {
   "cell_type": "code",
   "execution_count": 7,
   "id": "22d5d12a",
   "metadata": {},
   "outputs": [],
   "source": [
    "features = [\n",
    "    'neighbourhood_group',\n",
    "    'room_type',\n",
    "    'latitude',\n",
    "    'longitude',\n",
    "    'minimum_nights',\n",
    "    'number_of_reviews',\n",
    "    'reviews_per_month',\n",
    "    'calculated_host_listings_count',\n",
    "    'availability_365'\n",
    "]"
   ]
  },
  {
   "cell_type": "code",
   "execution_count": 8,
   "id": "c0f681c2",
   "metadata": {},
   "outputs": [],
   "source": [
    "from sklearn.model_selection import train_test_split"
   ]
  },
  {
   "cell_type": "code",
   "execution_count": 9,
   "id": "c974c351",
   "metadata": {},
   "outputs": [
    {
     "data": {
      "text/plain": [
       "(29337, 9779, 9779)"
      ]
     },
     "execution_count": 9,
     "metadata": {},
     "output_type": "execute_result"
    }
   ],
   "source": [
    "np.random.seed(42)\n",
    "df_full_train, df_test = train_test_split(df, test_size=0.2, random_state=1)\n",
    "\n",
    "df_train, df_val  = train_test_split(df_full_train, test_size=0.25, random_state=1) # 25% here means it will be 20% of the overall data set\n",
    "\n",
    "len(df_train), len(df_val), len(df_test)"
   ]
  },
  {
   "cell_type": "code",
   "execution_count": 10,
   "id": "1da84c97",
   "metadata": {},
   "outputs": [],
   "source": [
    "df_train.reset_index(drop=True)\n",
    "df_val.reset_index(drop=True)\n",
    "df_test.reset_index(drop=True)\n",
    "\n",
    "y_train = df_train['price']\n",
    "y_val = df_val['price']\n",
    "y_test = df_test['price']\n",
    "\n",
    "del df_train['price']\n",
    "del df_val['price']\n",
    "del df_test['price']"
   ]
  },
  {
   "cell_type": "markdown",
   "id": "a9b04a8f",
   "metadata": {},
   "source": [
    "### Question 2: What are the two features that have the biggest correlation in this dataset?"
   ]
  },
  {
   "cell_type": "code",
   "execution_count": 11,
   "id": "00cf6f19",
   "metadata": {},
   "outputs": [
    {
     "data": {
      "text/plain": [
       "neighbourhood_group                object\n",
       "room_type                          object\n",
       "latitude                          float64\n",
       "longitude                         float64\n",
       "minimum_nights                      int64\n",
       "number_of_reviews                   int64\n",
       "reviews_per_month                 float64\n",
       "calculated_host_listings_count      int64\n",
       "availability_365                    int64\n",
       "dtype: object"
      ]
     },
     "execution_count": 11,
     "metadata": {},
     "output_type": "execute_result"
    }
   ],
   "source": [
    "df_train.dtypes"
   ]
  },
  {
   "cell_type": "code",
   "execution_count": 12,
   "id": "b91f7332",
   "metadata": {},
   "outputs": [],
   "source": [
    "numerical = ['latitude', 'longitude', 'reviews_per_month', 'minimum_nights', 'number_of_reviews', 'calculated_host_listings_count', 'availability_365']"
   ]
  },
  {
   "cell_type": "code",
   "execution_count": 13,
   "id": "af9d117c",
   "metadata": {},
   "outputs": [
    {
     "data": {
      "text/html": [
       "<div>\n",
       "<style scoped>\n",
       "    .dataframe tbody tr th:only-of-type {\n",
       "        vertical-align: middle;\n",
       "    }\n",
       "\n",
       "    .dataframe tbody tr th {\n",
       "        vertical-align: top;\n",
       "    }\n",
       "\n",
       "    .dataframe thead th {\n",
       "        text-align: right;\n",
       "    }\n",
       "</style>\n",
       "<table border=\"1\" class=\"dataframe\">\n",
       "  <thead>\n",
       "    <tr style=\"text-align: right;\">\n",
       "      <th></th>\n",
       "      <th>latitude</th>\n",
       "      <th>longitude</th>\n",
       "      <th>reviews_per_month</th>\n",
       "      <th>minimum_nights</th>\n",
       "      <th>number_of_reviews</th>\n",
       "      <th>calculated_host_listings_count</th>\n",
       "      <th>availability_365</th>\n",
       "    </tr>\n",
       "  </thead>\n",
       "  <tbody>\n",
       "    <tr>\n",
       "      <th>latitude</th>\n",
       "      <td>1.000000</td>\n",
       "      <td>0.084313</td>\n",
       "      <td>-0.025427</td>\n",
       "      <td>0.019638</td>\n",
       "      <td>-0.020536</td>\n",
       "      <td>0.019039</td>\n",
       "      <td>-0.012974</td>\n",
       "    </tr>\n",
       "    <tr>\n",
       "      <th>longitude</th>\n",
       "      <td>0.084313</td>\n",
       "      <td>1.000000</td>\n",
       "      <td>0.136407</td>\n",
       "      <td>-0.062937</td>\n",
       "      <td>0.058299</td>\n",
       "      <td>-0.117029</td>\n",
       "      <td>0.082892</td>\n",
       "    </tr>\n",
       "    <tr>\n",
       "      <th>reviews_per_month</th>\n",
       "      <td>-0.025427</td>\n",
       "      <td>0.136407</td>\n",
       "      <td>1.000000</td>\n",
       "      <td>-0.120368</td>\n",
       "      <td>0.599733</td>\n",
       "      <td>-0.045017</td>\n",
       "      <td>0.168808</td>\n",
       "    </tr>\n",
       "    <tr>\n",
       "      <th>minimum_nights</th>\n",
       "      <td>0.019638</td>\n",
       "      <td>-0.062937</td>\n",
       "      <td>-0.120368</td>\n",
       "      <td>1.000000</td>\n",
       "      <td>-0.075564</td>\n",
       "      <td>0.120308</td>\n",
       "      <td>0.140542</td>\n",
       "    </tr>\n",
       "    <tr>\n",
       "      <th>number_of_reviews</th>\n",
       "      <td>-0.020536</td>\n",
       "      <td>0.058299</td>\n",
       "      <td>0.599733</td>\n",
       "      <td>-0.075564</td>\n",
       "      <td>1.000000</td>\n",
       "      <td>-0.072518</td>\n",
       "      <td>0.173308</td>\n",
       "    </tr>\n",
       "    <tr>\n",
       "      <th>calculated_host_listings_count</th>\n",
       "      <td>0.019039</td>\n",
       "      <td>-0.117029</td>\n",
       "      <td>-0.045017</td>\n",
       "      <td>0.120308</td>\n",
       "      <td>-0.072518</td>\n",
       "      <td>1.000000</td>\n",
       "      <td>0.229346</td>\n",
       "    </tr>\n",
       "    <tr>\n",
       "      <th>availability_365</th>\n",
       "      <td>-0.012974</td>\n",
       "      <td>0.082892</td>\n",
       "      <td>0.168808</td>\n",
       "      <td>0.140542</td>\n",
       "      <td>0.173308</td>\n",
       "      <td>0.229346</td>\n",
       "      <td>1.000000</td>\n",
       "    </tr>\n",
       "  </tbody>\n",
       "</table>\n",
       "</div>"
      ],
      "text/plain": [
       "                                latitude  longitude  reviews_per_month  \\\n",
       "latitude                        1.000000   0.084313          -0.025427   \n",
       "longitude                       0.084313   1.000000           0.136407   \n",
       "reviews_per_month              -0.025427   0.136407           1.000000   \n",
       "minimum_nights                  0.019638  -0.062937          -0.120368   \n",
       "number_of_reviews              -0.020536   0.058299           0.599733   \n",
       "calculated_host_listings_count  0.019039  -0.117029          -0.045017   \n",
       "availability_365               -0.012974   0.082892           0.168808   \n",
       "\n",
       "                                minimum_nights  number_of_reviews  \\\n",
       "latitude                              0.019638          -0.020536   \n",
       "longitude                            -0.062937           0.058299   \n",
       "reviews_per_month                    -0.120368           0.599733   \n",
       "minimum_nights                        1.000000          -0.075564   \n",
       "number_of_reviews                    -0.075564           1.000000   \n",
       "calculated_host_listings_count        0.120308          -0.072518   \n",
       "availability_365                      0.140542           0.173308   \n",
       "\n",
       "                                calculated_host_listings_count  \\\n",
       "latitude                                              0.019039   \n",
       "longitude                                            -0.117029   \n",
       "reviews_per_month                                    -0.045017   \n",
       "minimum_nights                                        0.120308   \n",
       "number_of_reviews                                    -0.072518   \n",
       "calculated_host_listings_count                        1.000000   \n",
       "availability_365                                      0.229346   \n",
       "\n",
       "                                availability_365  \n",
       "latitude                               -0.012974  \n",
       "longitude                               0.082892  \n",
       "reviews_per_month                       0.168808  \n",
       "minimum_nights                          0.140542  \n",
       "number_of_reviews                       0.173308  \n",
       "calculated_host_listings_count          0.229346  \n",
       "availability_365                        1.000000  "
      ]
     },
     "execution_count": 13,
     "metadata": {},
     "output_type": "execute_result"
    }
   ],
   "source": [
    "df_train[numerical].corr()"
   ]
  },
  {
   "cell_type": "markdown",
   "id": "368cf46a",
   "metadata": {},
   "source": [
    "`number of reviews` and `reviews per month` have the biggest correlation"
   ]
  },
  {
   "cell_type": "code",
   "execution_count": 14,
   "id": "ba0ab75d",
   "metadata": {},
   "outputs": [
    {
     "data": {
      "text/plain": [
       "385      0\n",
       "33147    0\n",
       "33881    1\n",
       "37208    0\n",
       "7485     1\n",
       "        ..\n",
       "2738     0\n",
       "25619    0\n",
       "40278    0\n",
       "17605    1\n",
       "22406    1\n",
       "Name: price, Length: 29337, dtype: int64"
      ]
     },
     "execution_count": 14,
     "metadata": {},
     "output_type": "execute_result"
    }
   ],
   "source": [
    "above_average = y_train.apply(lambda x: 1 if x >= 152 else 0)\n",
    "above_average"
   ]
  },
  {
   "cell_type": "markdown",
   "id": "13fd51a1",
   "metadata": {},
   "source": [
    "## Question 3 Which of the two categorical variables has bigger the mutual information score?"
   ]
  },
  {
   "cell_type": "code",
   "execution_count": 15,
   "id": "3ec668e6",
   "metadata": {},
   "outputs": [
    {
     "data": {
      "text/plain": [
       "0.05"
      ]
     },
     "execution_count": 15,
     "metadata": {},
     "output_type": "execute_result"
    }
   ],
   "source": [
    "round(mutual_info_score(above_average, df_train['neighbourhood_group']),2)"
   ]
  },
  {
   "cell_type": "code",
   "execution_count": 16,
   "id": "26182b9e",
   "metadata": {},
   "outputs": [
    {
     "data": {
      "text/plain": [
       "0.14"
      ]
     },
     "execution_count": 16,
     "metadata": {},
     "output_type": "execute_result"
    }
   ],
   "source": [
    "round(mutual_info_score(above_average, df_train['room_type']),2)"
   ]
  },
  {
   "cell_type": "markdown",
   "id": "f8e06032",
   "metadata": {},
   "source": [
    "## Question 4: Calculate the accuracy on the validation dataset and rount it to 2 decimal digits."
   ]
  },
  {
   "cell_type": "code",
   "execution_count": 17,
   "id": "4f654bbd",
   "metadata": {},
   "outputs": [],
   "source": [
    "train_dicts = df_train[['room_type', 'neighbourhood_group'] + numerical].to_dict(orient='records')"
   ]
  },
  {
   "cell_type": "code",
   "execution_count": 18,
   "id": "e5e2d05c",
   "metadata": {},
   "outputs": [],
   "source": [
    "dv = DictVectorizer(sparse=False)"
   ]
  },
  {
   "cell_type": "code",
   "execution_count": 19,
   "id": "d8121bb5",
   "metadata": {},
   "outputs": [],
   "source": [
    "X_train = dv.fit_transform(train_dicts)"
   ]
  },
  {
   "cell_type": "code",
   "execution_count": 20,
   "id": "7649aea4",
   "metadata": {},
   "outputs": [
    {
     "data": {
      "text/plain": [
       "['availability_365',\n",
       " 'calculated_host_listings_count',\n",
       " 'latitude',\n",
       " 'longitude',\n",
       " 'minimum_nights',\n",
       " 'neighbourhood_group=Bronx',\n",
       " 'neighbourhood_group=Brooklyn',\n",
       " 'neighbourhood_group=Manhattan',\n",
       " 'neighbourhood_group=Queens',\n",
       " 'neighbourhood_group=Staten Island',\n",
       " 'number_of_reviews',\n",
       " 'reviews_per_month',\n",
       " 'room_type=Entire home/apt',\n",
       " 'room_type=Private room',\n",
       " 'room_type=Shared room']"
      ]
     },
     "execution_count": 20,
     "metadata": {},
     "output_type": "execute_result"
    }
   ],
   "source": [
    "dv.get_feature_names()"
   ]
  },
  {
   "cell_type": "code",
   "execution_count": 21,
   "id": "2e193ca6",
   "metadata": {},
   "outputs": [],
   "source": [
    "val_dicts = df_val[['neighbourhood_group', 'room_type'] + numerical].to_dict(orient='records')"
   ]
  },
  {
   "cell_type": "code",
   "execution_count": 22,
   "id": "8d5c342b",
   "metadata": {},
   "outputs": [],
   "source": [
    "X_val = dv.transform(val_dicts)"
   ]
  },
  {
   "cell_type": "code",
   "execution_count": 33,
   "id": "7422b38f",
   "metadata": {},
   "outputs": [],
   "source": [
    "model = LogisticRegression(solver='liblinear', C=1.0, random_state=42)"
   ]
  },
  {
   "cell_type": "code",
   "execution_count": 34,
   "id": "a0e928d9",
   "metadata": {},
   "outputs": [
    {
     "data": {
      "text/plain": [
       "LogisticRegression(random_state=42, solver='liblinear')"
      ]
     },
     "execution_count": 34,
     "metadata": {},
     "output_type": "execute_result"
    }
   ],
   "source": [
    "model.fit(X_train, y_train)"
   ]
  },
  {
   "cell_type": "code",
   "execution_count": 35,
   "id": "d71329c6",
   "metadata": {},
   "outputs": [
    {
     "data": {
      "text/plain": [
       "array([[1.41824826e-04, 9.36437145e-04, 7.91878955e-05, ...,\n",
       "        2.46477735e-05, 1.23439117e-04, 1.45184892e-04],\n",
       "       [1.87156732e-04, 6.46147691e-04, 7.96147060e-06, ...,\n",
       "        1.42786072e-05, 3.00316163e-05, 2.23625021e-04],\n",
       "       [9.99040234e-05, 7.06982750e-04, 5.75557170e-09, ...,\n",
       "        5.72258321e-06, 5.92244915e-07, 1.09893179e-11],\n",
       "       ...,\n",
       "       [3.98860675e-05, 5.92724759e-04, 1.93306252e-05, ...,\n",
       "        2.66578378e-05, 1.06502789e-04, 1.12276125e-04],\n",
       "       [3.84973688e-05, 5.82599836e-04, 1.20126948e-05, ...,\n",
       "        2.25593377e-05, 6.95800316e-05, 9.84239942e-05],\n",
       "       [1.32845849e-04, 3.95182602e-04, 2.68155028e-52, ...,\n",
       "        4.69156653e-14, 4.32762867e-31, 6.19242064e-07]])"
      ]
     },
     "execution_count": 35,
     "metadata": {},
     "output_type": "execute_result"
    }
   ],
   "source": [
    "model.predict_proba(X_val)"
   ]
  },
  {
   "cell_type": "code",
   "execution_count": 36,
   "id": "8c1b193f",
   "metadata": {},
   "outputs": [],
   "source": [
    "y_pred = model.predict(X_val)"
   ]
  },
  {
   "cell_type": "code",
   "execution_count": 42,
   "id": "10fe378b",
   "metadata": {},
   "outputs": [
    {
     "data": {
      "text/plain": [
       "0.07"
      ]
     },
     "execution_count": 42,
     "metadata": {},
     "output_type": "execute_result"
    }
   ],
   "source": [
    "round((y_val == y_pred).mean(), 2)"
   ]
  },
  {
   "cell_type": "markdown",
   "id": "389e9f3d",
   "metadata": {},
   "source": [
    "## Question 5: Which feature has the smallest impact on accuracy"
   ]
  },
  {
   "cell_type": "code",
   "execution_count": 43,
   "id": "2241d7d3",
   "metadata": {},
   "outputs": [],
   "source": [
    "def model_accuracy(train, val):\n",
    "        train_dicts = train.to_dict(orient='records')\n",
    "        dv = DictVectorizer(sparse=False)\n",
    "        X_train = dv.fit_transform(train_dicts)\n",
    "        val_dicts = val.to_dict(orient='records')\n",
    "        X_val = dv.transform(val_dicts)\n",
    "        model = LogisticRegression(solver='liblinear', C=1.0, random_state=42)\n",
    "        model.fit(X_train, y_train)\n",
    "        y_pred = model.predict(X_val)\n",
    "        return round((y_val == y_pred).mean(), 2)"
   ]
  },
  {
   "cell_type": "code",
   "execution_count": 44,
   "id": "7a95bc95",
   "metadata": {},
   "outputs": [],
   "source": [
    "features_without_neighbourhood_group = np.array([x for x in features if x != 'neighbourhood_group'])\n",
    "features_without_room_type = np.array([x for x in features if x != 'room_type'])\n",
    "features_without_number_of_reviews = np.array([x for x in features if x != 'number_of_reviews'])\n",
    "features_without_reviews_per_month = np.array([x for x in features if x != 'reviews_per_month'])"
   ]
  },
  {
   "cell_type": "code",
   "execution_count": 52,
   "id": "0e07ab84",
   "metadata": {},
   "outputs": [],
   "source": [
    "X_train_without_room_type = df_train[features_without_room_type]\n",
    "X_train_without_neighbourhood_group = df_train[features_without_neighbourhood_group]\n",
    "X_train_without_number_of_reviews = df_train[features_without_number_of_reviews]\n",
    "X_train_without_reviews_per_month = df_train[features_without_reviews_per_month]\n"
   ]
  },
  {
   "cell_type": "code",
   "execution_count": 53,
   "id": "d3819a8b",
   "metadata": {},
   "outputs": [],
   "source": [
    "X_val_without_room_type = df_val[features_without_room_type]\n",
    "X_val_without_neighbourhood_group = df_val[features_without_neighbourhood_group]\n",
    "X_val_without_number_of_reviews = df_val[features_without_number_of_reviews]\n",
    "X_val_without_reviews_per_month = df_val[features_without_reviews_per_month]\n"
   ]
  },
  {
   "cell_type": "code",
   "execution_count": 59,
   "id": "e62cd2fd",
   "metadata": {},
   "outputs": [],
   "source": [
    "model_without_room_type = model_accuracy(X_train_without_room_type, X_val_without_room_type)"
   ]
  },
  {
   "cell_type": "code",
   "execution_count": 60,
   "id": "6ff0ab32",
   "metadata": {},
   "outputs": [
    {
     "data": {
      "text/plain": [
       "0.05"
      ]
     },
     "execution_count": 60,
     "metadata": {},
     "output_type": "execute_result"
    }
   ],
   "source": [
    "model_without_room_type"
   ]
  },
  {
   "cell_type": "code",
   "execution_count": 54,
   "id": "df9b5f0c",
   "metadata": {},
   "outputs": [
    {
     "name": "stderr",
     "output_type": "stream",
     "text": [
      "/opt/conda/lib/python3.9/site-packages/sklearn/svm/_base.py:985: ConvergenceWarning: Liblinear failed to converge, increase the number of iterations.\n",
      "  warnings.warn(\"Liblinear failed to converge, increase \"\n"
     ]
    }
   ],
   "source": [
    "model_without_neighbourhood_group = model_accuracy(X_train_without_neighbourhood_group, X_val_without_neighbourhood_group)\n",
    "model_without_number_of_reviews = model_accuracy(X_train_without_number_of_reviews, X_val_without_number_of_reviews)\n",
    "model_without_reviews_per_month = model_accuracy(X_train_without_reviews_per_month, X_val_without_reviews_per_month)"
   ]
  },
  {
   "cell_type": "code",
   "execution_count": 61,
   "id": "c0d6b2af",
   "metadata": {},
   "outputs": [
    {
     "name": "stdout",
     "output_type": "stream",
     "text": [
      "model_without_room_type: 0.05\n",
      "\n",
      "model_without_neighbourhood_group: 0.06\n",
      "\n",
      "model_without_number_of_reviews:  0.07\n",
      "\n",
      "model_without_reviews_per_month: 0.07\n"
     ]
    }
   ],
   "source": [
    "print(f'model_without_room_type: {model_without_room_type}')\n",
    "print()\n",
    "print(f'model_without_neighbourhood_group: {model_without_neighbourhood_group}')\n",
    "print()\n",
    "print(f'model_without_number_of_reviews:  {model_without_number_of_reviews}')\n",
    "print()\n",
    "print(f'model_without_reviews_per_month: {model_without_reviews_per_month}')\n"
   ]
  },
  {
   "cell_type": "markdown",
   "id": "b1345afe",
   "metadata": {},
   "source": [
    "## Question 6\n",
    "\n",
    "Which of these alphas leads to the best RMSE on the validation set? Round your RMSE scores to 3 decimal digits."
   ]
  },
  {
   "cell_type": "code",
   "execution_count": 69,
   "id": "f4960f21",
   "metadata": {},
   "outputs": [],
   "source": [
    "def rmse(y, y_pred):\n",
    "    err = y - y_pred\n",
    "    se = err ** 2\n",
    "    mse = se.mean()\n",
    "    return np.sqrt(mse)"
   ]
  },
  {
   "cell_type": "code",
   "execution_count": 70,
   "id": "8bf7e21c",
   "metadata": {},
   "outputs": [],
   "source": [
    "y_train = np.log1p(y_train)"
   ]
  },
  {
   "cell_type": "code",
   "execution_count": 71,
   "id": "a604054f",
   "metadata": {},
   "outputs": [],
   "source": [
    "from sklearn.linear_model import Ridge"
   ]
  },
  {
   "cell_type": "code",
   "execution_count": 72,
   "id": "a96dfd4e",
   "metadata": {},
   "outputs": [],
   "source": [
    "alpha = [0, 0.01, 0.1, 1, 10]"
   ]
  },
  {
   "cell_type": "code",
   "execution_count": 74,
   "id": "5db71bff",
   "metadata": {},
   "outputs": [
    {
     "name": "stdout",
     "output_type": "stream",
     "text": [
      "alpha: 0\n",
      "264.93618654417315\n",
      "alpha: 0.01\n",
      "264.9362110609871\n",
      "alpha: 0.1\n",
      "264.93621492556156\n",
      "alpha: 1\n",
      "264.9362522639343\n",
      "alpha: 10\n",
      "264.93653198637605\n"
     ]
    }
   ],
   "source": [
    "for a in alpha:\n",
    "    print(f'alpha: {a}')\n",
    "    clf = Ridge(alpha=a)\n",
    "    clf.fit(X_train, y_train)\n",
    "    y_pred = clf.predict(X_val)\n",
    "    print(rmse(y_pred, y_val))"
   ]
  },
  {
   "cell_type": "code",
   "execution_count": null,
   "id": "c74bd702",
   "metadata": {},
   "outputs": [],
   "source": []
  }
 ],
 "metadata": {
  "kernelspec": {
   "display_name": "Python 3 (ipykernel)",
   "language": "python",
   "name": "python3"
  },
  "language_info": {
   "codemirror_mode": {
    "name": "ipython",
    "version": 3
   },
   "file_extension": ".py",
   "mimetype": "text/x-python",
   "name": "python",
   "nbconvert_exporter": "python",
   "pygments_lexer": "ipython3",
   "version": "3.9.6"
  }
 },
 "nbformat": 4,
 "nbformat_minor": 5
}
