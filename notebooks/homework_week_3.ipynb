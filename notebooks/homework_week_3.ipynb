{
 "cells": [
  {
   "cell_type": "markdown",
   "id": "806b6838",
   "metadata": {},
   "source": [
    "# Machine Learning Zoomcamp\n",
    "\n",
    "## Home work week three\n",
    "\n",
    "Questions: https://github.com/alexeygrigorev/mlbookcamp-code/blob/master/course-zoomcamp/03-classification/homework.md"
   ]
  },
  {
   "cell_type": "code",
   "execution_count": 1,
   "id": "167beaee",
   "metadata": {},
   "outputs": [],
   "source": [
    "import pandas as pd\n",
    "import numpy as np\n",
    "\n",
    "pd.options.display.max_colwidth = 999\n",
    "pd.options.display.max_rows = 999\n",
    "\n",
    "from sklearn.linear_model import LogisticRegression\n",
    "import matplotlib.pyplot as plt\n",
    "import seaborn as sns\n",
    "\n",
    "from sklearn.feature_extraction import DictVectorizer\n",
    "from sklearn.metrics import mutual_info_score\n",
    "\n",
    "%matplotlib inline"
   ]
  },
  {
   "cell_type": "code",
   "execution_count": 2,
   "id": "d580fd59",
   "metadata": {},
   "outputs": [],
   "source": [
    "airbnb_data = pd.read_csv('data/airbnb_data/AB_NYC_2019.csv')"
   ]
  },
  {
   "cell_type": "code",
   "execution_count": 3,
   "id": "03bf4247",
   "metadata": {},
   "outputs": [],
   "source": [
    "columns = [\n",
    "    'neighbourhood_group',\n",
    "    'room_type',\n",
    "    'latitude',\n",
    "    'longitude',\n",
    "    'price', \n",
    "    'minimum_nights',\n",
    "    'number_of_reviews',\n",
    "    'reviews_per_month',\n",
    "    'calculated_host_listings_count',\n",
    "    'availability_365'\n",
    "]"
   ]
  },
  {
   "cell_type": "code",
   "execution_count": 4,
   "id": "43145852",
   "metadata": {},
   "outputs": [],
   "source": [
    "df = airbnb_data[columns]\n",
    "df = df.fillna(0)"
   ]
  },
  {
   "cell_type": "code",
   "execution_count": 5,
   "id": "fa05ff69",
   "metadata": {},
   "outputs": [
    {
     "data": {
      "text/plain": [
       "neighbourhood_group               0\n",
       "room_type                         0\n",
       "latitude                          0\n",
       "longitude                         0\n",
       "price                             0\n",
       "minimum_nights                    0\n",
       "number_of_reviews                 0\n",
       "reviews_per_month                 0\n",
       "calculated_host_listings_count    0\n",
       "availability_365                  0\n",
       "dtype: int64"
      ]
     },
     "execution_count": 5,
     "metadata": {},
     "output_type": "execute_result"
    }
   ],
   "source": [
    "df.isnull().sum()"
   ]
  },
  {
   "cell_type": "markdown",
   "id": "15de191f",
   "metadata": {},
   "source": [
    "### Question 1: What is the most frequent observation (mode) for the column 'neighbourhood_group'"
   ]
  },
  {
   "cell_type": "code",
   "execution_count": 6,
   "id": "c8d3e4b0",
   "metadata": {},
   "outputs": [
    {
     "data": {
      "text/plain": [
       "0    Manhattan\n",
       "dtype: object"
      ]
     },
     "execution_count": 6,
     "metadata": {},
     "output_type": "execute_result"
    }
   ],
   "source": [
    "df['neighbourhood_group'].mode()"
   ]
  },
  {
   "cell_type": "markdown",
   "id": "b699418d",
   "metadata": {},
   "source": [
    "### Split the data: 60%/20%/20%"
   ]
  },
  {
   "cell_type": "code",
   "execution_count": 7,
   "id": "d4ff59ff",
   "metadata": {},
   "outputs": [],
   "source": [
    "features = [\n",
    "    'neighbourhood_group',\n",
    "    'room_type',\n",
    "    'latitude',\n",
    "    'longitude',\n",
    "    'minimum_nights',\n",
    "    'number_of_reviews',\n",
    "    'reviews_per_month',\n",
    "    'calculated_host_listings_count',\n",
    "    'availability_365'\n",
    "]"
   ]
  },
  {
   "cell_type": "code",
   "execution_count": 8,
   "id": "3fa04575",
   "metadata": {},
   "outputs": [],
   "source": [
    "from sklearn.model_selection import train_test_split"
   ]
  },
  {
   "cell_type": "code",
   "execution_count": 86,
   "id": "c7a3187c",
   "metadata": {},
   "outputs": [
    {
     "data": {
      "text/plain": [
       "(29337, 9779, 9779)"
      ]
     },
     "execution_count": 86,
     "metadata": {},
     "output_type": "execute_result"
    }
   ],
   "source": [
    "np.random.seed(42)\n",
    "df_full_train, df_test = train_test_split(df, test_size=0.2, random_state=1)\n",
    "\n",
    "df_train, df_val  = train_test_split(df_full_train, test_size=0.25, random_state=1) # 25% here means it will be 20% of the overall data set\n",
    "\n",
    "len(df_train), len(df_val), len(df_test)"
   ]
  },
  {
   "cell_type": "code",
   "execution_count": 87,
   "id": "e527a061",
   "metadata": {},
   "outputs": [],
   "source": [
    "df_train.reset_index(drop=True)\n",
    "df_val.reset_index(drop=True)\n",
    "df_test.reset_index(drop=True)\n",
    "\n",
    "y_train = df_train['price']\n",
    "y_val = df_val['price']\n",
    "y_test = df_test['price']\n",
    "\n",
    "del df_train['price']\n",
    "del df_val['price']\n",
    "del df_test['price']"
   ]
  },
  {
   "cell_type": "markdown",
   "id": "d3290ca3",
   "metadata": {},
   "source": [
    "### Question 2: What are the two features that have the biggest correlation in this dataset?"
   ]
  },
  {
   "cell_type": "code",
   "execution_count": 11,
   "id": "1d676504",
   "metadata": {},
   "outputs": [
    {
     "data": {
      "text/plain": [
       "neighbourhood_group                object\n",
       "room_type                          object\n",
       "latitude                          float64\n",
       "longitude                         float64\n",
       "minimum_nights                      int64\n",
       "number_of_reviews                   int64\n",
       "reviews_per_month                 float64\n",
       "calculated_host_listings_count      int64\n",
       "availability_365                    int64\n",
       "dtype: object"
      ]
     },
     "execution_count": 11,
     "metadata": {},
     "output_type": "execute_result"
    }
   ],
   "source": [
    "df_train.dtypes"
   ]
  },
  {
   "cell_type": "code",
   "execution_count": 12,
   "id": "77c1c782",
   "metadata": {},
   "outputs": [],
   "source": [
    "numerical = ['latitude', 'longitude', 'reviews_per_month', 'minimum_nights', 'number_of_reviews', 'calculated_host_listings_count', 'availability_365']"
   ]
  },
  {
   "cell_type": "code",
   "execution_count": 75,
   "id": "d1c8c94c",
   "metadata": {},
   "outputs": [
    {
     "data": {
      "text/html": [
       "<div>\n",
       "<style scoped>\n",
       "    .dataframe tbody tr th:only-of-type {\n",
       "        vertical-align: middle;\n",
       "    }\n",
       "\n",
       "    .dataframe tbody tr th {\n",
       "        vertical-align: top;\n",
       "    }\n",
       "\n",
       "    .dataframe thead th {\n",
       "        text-align: right;\n",
       "    }\n",
       "</style>\n",
       "<table border=\"1\" class=\"dataframe\">\n",
       "  <thead>\n",
       "    <tr style=\"text-align: right;\">\n",
       "      <th></th>\n",
       "      <th>latitude</th>\n",
       "      <th>longitude</th>\n",
       "      <th>reviews_per_month</th>\n",
       "      <th>minimum_nights</th>\n",
       "      <th>number_of_reviews</th>\n",
       "      <th>calculated_host_listings_count</th>\n",
       "      <th>availability_365</th>\n",
       "    </tr>\n",
       "  </thead>\n",
       "  <tbody>\n",
       "    <tr>\n",
       "      <th>latitude</th>\n",
       "      <td>1.000000</td>\n",
       "      <td>0.084313</td>\n",
       "      <td>-0.025427</td>\n",
       "      <td>0.019638</td>\n",
       "      <td>-0.020536</td>\n",
       "      <td>0.019039</td>\n",
       "      <td>-0.012974</td>\n",
       "    </tr>\n",
       "    <tr>\n",
       "      <th>longitude</th>\n",
       "      <td>0.084313</td>\n",
       "      <td>1.000000</td>\n",
       "      <td>0.136407</td>\n",
       "      <td>-0.062937</td>\n",
       "      <td>0.058299</td>\n",
       "      <td>-0.117029</td>\n",
       "      <td>0.082892</td>\n",
       "    </tr>\n",
       "    <tr>\n",
       "      <th>reviews_per_month</th>\n",
       "      <td>-0.025427</td>\n",
       "      <td>0.136407</td>\n",
       "      <td>1.000000</td>\n",
       "      <td>-0.120368</td>\n",
       "      <td>0.599733</td>\n",
       "      <td>-0.045017</td>\n",
       "      <td>0.168808</td>\n",
       "    </tr>\n",
       "    <tr>\n",
       "      <th>minimum_nights</th>\n",
       "      <td>0.019638</td>\n",
       "      <td>-0.062937</td>\n",
       "      <td>-0.120368</td>\n",
       "      <td>1.000000</td>\n",
       "      <td>-0.075564</td>\n",
       "      <td>0.120308</td>\n",
       "      <td>0.140542</td>\n",
       "    </tr>\n",
       "    <tr>\n",
       "      <th>number_of_reviews</th>\n",
       "      <td>-0.020536</td>\n",
       "      <td>0.058299</td>\n",
       "      <td>0.599733</td>\n",
       "      <td>-0.075564</td>\n",
       "      <td>1.000000</td>\n",
       "      <td>-0.072518</td>\n",
       "      <td>0.173308</td>\n",
       "    </tr>\n",
       "    <tr>\n",
       "      <th>calculated_host_listings_count</th>\n",
       "      <td>0.019039</td>\n",
       "      <td>-0.117029</td>\n",
       "      <td>-0.045017</td>\n",
       "      <td>0.120308</td>\n",
       "      <td>-0.072518</td>\n",
       "      <td>1.000000</td>\n",
       "      <td>0.229346</td>\n",
       "    </tr>\n",
       "    <tr>\n",
       "      <th>availability_365</th>\n",
       "      <td>-0.012974</td>\n",
       "      <td>0.082892</td>\n",
       "      <td>0.168808</td>\n",
       "      <td>0.140542</td>\n",
       "      <td>0.173308</td>\n",
       "      <td>0.229346</td>\n",
       "      <td>1.000000</td>\n",
       "    </tr>\n",
       "  </tbody>\n",
       "</table>\n",
       "</div>"
      ],
      "text/plain": [
       "                                latitude  longitude  reviews_per_month  \\\n",
       "latitude                        1.000000   0.084313          -0.025427   \n",
       "longitude                       0.084313   1.000000           0.136407   \n",
       "reviews_per_month              -0.025427   0.136407           1.000000   \n",
       "minimum_nights                  0.019638  -0.062937          -0.120368   \n",
       "number_of_reviews              -0.020536   0.058299           0.599733   \n",
       "calculated_host_listings_count  0.019039  -0.117029          -0.045017   \n",
       "availability_365               -0.012974   0.082892           0.168808   \n",
       "\n",
       "                                minimum_nights  number_of_reviews  \\\n",
       "latitude                              0.019638          -0.020536   \n",
       "longitude                            -0.062937           0.058299   \n",
       "reviews_per_month                    -0.120368           0.599733   \n",
       "minimum_nights                        1.000000          -0.075564   \n",
       "number_of_reviews                    -0.075564           1.000000   \n",
       "calculated_host_listings_count        0.120308          -0.072518   \n",
       "availability_365                      0.140542           0.173308   \n",
       "\n",
       "                                calculated_host_listings_count  \\\n",
       "latitude                                              0.019039   \n",
       "longitude                                            -0.117029   \n",
       "reviews_per_month                                    -0.045017   \n",
       "minimum_nights                                        0.120308   \n",
       "number_of_reviews                                    -0.072518   \n",
       "calculated_host_listings_count                        1.000000   \n",
       "availability_365                                      0.229346   \n",
       "\n",
       "                                availability_365  \n",
       "latitude                               -0.012974  \n",
       "longitude                               0.082892  \n",
       "reviews_per_month                       0.168808  \n",
       "minimum_nights                          0.140542  \n",
       "number_of_reviews                       0.173308  \n",
       "calculated_host_listings_count          0.229346  \n",
       "availability_365                        1.000000  "
      ]
     },
     "execution_count": 75,
     "metadata": {},
     "output_type": "execute_result"
    }
   ],
   "source": [
    "correlations = df_train[numerical].corr()\n",
    "correlations"
   ]
  },
  {
   "cell_type": "code",
   "execution_count": 76,
   "id": "2bf6c616",
   "metadata": {},
   "outputs": [
    {
     "data": {
      "text/plain": [
       "<AxesSubplot:>"
      ]
     },
     "execution_count": 76,
     "metadata": {},
     "output_type": "execute_result"
    },
    {
     "data": {
      "image/png": "[encoded data removed]",
      "text/plain": [
       "<Figure size 792x1080 with 2 Axes>"
      ]
     },
     "metadata": {
      "needs_background": "light"
     },
     "output_type": "display_data"
    }
   ],
   "source": [
    "plt.figure(figsize=(11, 15))\n",
    "sns.heatmap(correlations)"
   ]
  },
  {
   "cell_type": "markdown",
   "id": "66c5be88",
   "metadata": {},
   "source": [
    "`number of reviews` and `reviews per month` have the biggest correlation"
   ]
  },
  {
   "cell_type": "code",
   "execution_count": 14,
   "id": "57e0edbb",
   "metadata": {},
   "outputs": [
    {
     "data": {
      "text/plain": [
       "385      0\n",
       "33147    0\n",
       "33881    1\n",
       "37208    0\n",
       "7485     1\n",
       "        ..\n",
       "2738     0\n",
       "25619    0\n",
       "40278    0\n",
       "17605    1\n",
       "22406    1\n",
       "Name: price, Length: 29337, dtype: int64"
      ]
     },
     "execution_count": 14,
     "metadata": {},
     "output_type": "execute_result"
    }
   ],
   "source": [
    "above_average = y_train.apply(lambda x: 1 if x >= 152 else 0)\n",
    "above_average"
   ]
  },
  {
   "cell_type": "markdown",
   "id": "b835c628",
   "metadata": {},
   "source": [
    "## Question 3 Which of the two categorical variables has bigger the mutual information score?"
   ]
  },
  {
   "cell_type": "code",
   "execution_count": 15,
   "id": "62beb0ff",
   "metadata": {},
   "outputs": [
    {
     "data": {
      "text/plain": [
       "0.05"
      ]
     },
     "execution_count": 15,
     "metadata": {},
     "output_type": "execute_result"
    }
   ],
   "source": [
    "round(mutual_info_score(above_average, df_train['neighbourhood_group']),2)"
   ]
  },
  {
   "cell_type": "code",
   "execution_count": 16,
   "id": "5df0265a",
   "metadata": {},
   "outputs": [
    {
     "data": {
      "text/plain": [
       "0.14"
      ]
     },
     "execution_count": 16,
     "metadata": {},
     "output_type": "execute_result"
    }
   ],
   "source": [
    "round(mutual_info_score(above_average, df_train['room_type']),2)"
   ]
  },
  {
   "cell_type": "markdown",
   "id": "02402981",
   "metadata": {},
   "source": [
    "///////////////////// NOTE for self ///////////////////////////\n",
    "\n",
    "I missed here that the y should become the above_average and this should have been applied to all sets :( **Below code is therefore incorrect!**\n",
    "\n",
    "//////////////////////////////////////////////////////////////////////"
   ]
  },
  {
   "cell_type": "markdown",
   "id": "eb92484f",
   "metadata": {},
   "source": [
    "## Question 4: Calculate the accuracy on the validation dataset and rount it to 2 decimal digits."
   ]
  },
  {
   "cell_type": "code",
   "execution_count": 17,
   "id": "62b09b44",
   "metadata": {},
   "outputs": [],
   "source": [
    "train_dicts = df_train[['room_type', 'neighbourhood_group'] + numerical].to_dict(orient='records')"
   ]
  },
  {
   "cell_type": "code",
   "execution_count": 18,
   "id": "3a67407f",
   "metadata": {},
   "outputs": [],
   "source": [
    "dv = DictVectorizer(sparse=False)"
   ]
  },
  {
   "cell_type": "code",
   "execution_count": 19,
   "id": "7ce3ee4d",
   "metadata": {},
   "outputs": [],
   "source": [
    "X_train = dv.fit_transform(train_dicts)"
   ]
  },
  {
   "cell_type": "code",
   "execution_count": 20,
   "id": "9c5f0d2f",
   "metadata": {},
   "outputs": [
    {
     "data": {
      "text/plain": [
       "['availability_365',\n",
       " 'calculated_host_listings_count',\n",
       " 'latitude',\n",
       " 'longitude',\n",
       " 'minimum_nights',\n",
       " 'neighbourhood_group=Bronx',\n",
       " 'neighbourhood_group=Brooklyn',\n",
       " 'neighbourhood_group=Manhattan',\n",
       " 'neighbourhood_group=Queens',\n",
       " 'neighbourhood_group=Staten Island',\n",
       " 'number_of_reviews',\n",
       " 'reviews_per_month',\n",
       " 'room_type=Entire home/apt',\n",
       " 'room_type=Private room',\n",
       " 'room_type=Shared room']"
      ]
     },
     "execution_count": 20,
     "metadata": {},
     "output_type": "execute_result"
    }
   ],
   "source": [
    "dv.get_feature_names()"
   ]
  },
  {
   "cell_type": "code",
   "execution_count": 21,
   "id": "91ec94b7",
   "metadata": {},
   "outputs": [],
   "source": [
    "val_dicts = df_val[['neighbourhood_group', 'room_type'] + numerical].to_dict(orient='records')"
   ]
  },
  {
   "cell_type": "code",
   "execution_count": 22,
   "id": "c56dd0db",
   "metadata": {},
   "outputs": [],
   "source": [
    "X_val = dv.transform(val_dicts)"
   ]
  },
  {
   "cell_type": "code",
   "execution_count": 33,
   "id": "1569e098",
   "metadata": {},
   "outputs": [],
   "source": [
    "model = LogisticRegression(solver='liblinear', C=1.0, random_state=42)"
   ]
  },
  {
   "cell_type": "code",
   "execution_count": 34,
   "id": "8bdfc8f8",
   "metadata": {},
   "outputs": [
    {
     "data": {
      "text/plain": [
       "LogisticRegression(random_state=42, solver='liblinear')"
      ]
     },
     "execution_count": 34,
     "metadata": {},
     "output_type": "execute_result"
    }
   ],
   "source": [
    "model.fit(X_train, y_train)"
   ]
  },
  {
   "cell_type": "code",
   "execution_count": 35,
   "id": "df16f298",
   "metadata": {},
   "outputs": [
    {
     "data": {
      "text/plain": [
       "array([[1.41824826e-04, 9.36437145e-04, 7.91878955e-05, ...,\n",
       "        2.46477735e-05, 1.23439117e-04, 1.45184892e-04],\n",
       "       [1.87156732e-04, 6.46147691e-04, 7.96147060e-06, ...,\n",
       "        1.42786072e-05, 3.00316163e-05, 2.23625021e-04],\n",
       "       [9.99040234e-05, 7.06982750e-04, 5.75557170e-09, ...,\n",
       "        5.72258321e-06, 5.92244915e-07, 1.09893179e-11],\n",
       "       ...,\n",
       "       [3.98860675e-05, 5.92724759e-04, 1.93306252e-05, ...,\n",
       "        2.66578378e-05, 1.06502789e-04, 1.12276125e-04],\n",
       "       [3.84973688e-05, 5.82599836e-04, 1.20126948e-05, ...,\n",
       "        2.25593377e-05, 6.95800316e-05, 9.84239942e-05],\n",
       "       [1.32845849e-04, 3.95182602e-04, 2.68155028e-52, ...,\n",
       "        4.69156653e-14, 4.32762867e-31, 6.19242064e-07]])"
      ]
     },
     "execution_count": 35,
     "metadata": {},
     "output_type": "execute_result"
    }
   ],
   "source": [
    "model.predict_proba(X_val)"
   ]
  },
  {
   "cell_type": "code",
   "execution_count": 36,
   "id": "cdc731cf",
   "metadata": {},
   "outputs": [],
   "source": [
    "y_pred = model.predict(X_val)"
   ]
  },
  {
   "cell_type": "code",
   "execution_count": 42,
   "id": "e5f8e376",
   "metadata": {},
   "outputs": [
    {
     "data": {
      "text/plain": [
       "0.07"
      ]
     },
     "execution_count": 42,
     "metadata": {},
     "output_type": "execute_result"
    }
   ],
   "source": [
    "round((y_val == y_pred).mean(), 2)"
   ]
  },
  {
   "cell_type": "markdown",
   "id": "1f3ce17d",
   "metadata": {},
   "source": [
    "answer incorrect :( correct answer 0.79 Below is me correcting where I went wrong to check the code shown in class"
   ]
  },
  {
   "cell_type": "code",
   "execution_count": 83,
   "id": "d825e31f",
   "metadata": {},
   "outputs": [
    {
     "data": {
      "text/plain": [
       "385      0\n",
       "33147    0\n",
       "33881    0\n",
       "37208    0\n",
       "7485     0\n",
       "        ..\n",
       "2738     0\n",
       "25619    0\n",
       "40278    0\n",
       "17605    0\n",
       "22406    0\n",
       "Name: price, Length: 29337, dtype: int64"
      ]
     },
     "execution_count": 83,
     "metadata": {},
     "output_type": "execute_result"
    }
   ],
   "source": [
    "y_train"
   ]
  },
  {
   "cell_type": "code",
   "execution_count": 88,
   "id": "160e4585",
   "metadata": {},
   "outputs": [],
   "source": [
    "y_train = y_train.apply(lambda x: 1 if x >= 152 else 0)\n",
    "y_val = y_val.apply(lambda x: 1 if x >= 152 else 0)\n",
    "y_test = y_test.apply(lambda x: 1 if x >= 152 else 0)"
   ]
  },
  {
   "cell_type": "code",
   "execution_count": 89,
   "id": "e0d35a55",
   "metadata": {},
   "outputs": [
    {
     "data": {
      "text/plain": [
       "LogisticRegression(random_state=42, solver='liblinear')"
      ]
     },
     "execution_count": 89,
     "metadata": {},
     "output_type": "execute_result"
    }
   ],
   "source": [
    "model.fit(X_train, y_train)"
   ]
  },
  {
   "cell_type": "code",
   "execution_count": 90,
   "id": "e0b1ccc6",
   "metadata": {},
   "outputs": [
    {
     "data": {
      "text/plain": [
       "array([[0.88754142, 0.11245858],\n",
       "       [0.62436154, 0.37563846],\n",
       "       [0.40125988, 0.59874012],\n",
       "       ...,\n",
       "       [0.40256922, 0.59743078],\n",
       "       [0.53251671, 0.46748329],\n",
       "       [0.52431712, 0.47568288]])"
      ]
     },
     "execution_count": 90,
     "metadata": {},
     "output_type": "execute_result"
    }
   ],
   "source": [
    "model.predict_proba(X_val)"
   ]
  },
  {
   "cell_type": "code",
   "execution_count": 91,
   "id": "6851beef",
   "metadata": {},
   "outputs": [],
   "source": [
    "y_pred = model.predict(X_val)"
   ]
  },
  {
   "cell_type": "code",
   "execution_count": 92,
   "id": "cd670bb7",
   "metadata": {},
   "outputs": [
    {
     "data": {
      "text/plain": [
       "0.79"
      ]
     },
     "execution_count": 92,
     "metadata": {},
     "output_type": "execute_result"
    }
   ],
   "source": [
    "round((y_val == y_pred).mean(), 2)"
   ]
  },
  {
   "cell_type": "markdown",
   "id": "1d963fec",
   "metadata": {},
   "source": [
    "## Question 5: Which feature has the smallest impact on accuracy"
   ]
  },
  {
   "cell_type": "code",
   "execution_count": 43,
   "id": "235925ab",
   "metadata": {},
   "outputs": [],
   "source": [
    "def model_accuracy(train, val):\n",
    "        train_dicts = train.to_dict(orient='records')\n",
    "        dv = DictVectorizer(sparse=False)\n",
    "        X_train = dv.fit_transform(train_dicts)\n",
    "        val_dicts = val.to_dict(orient='records')\n",
    "        X_val = dv.transform(val_dicts)\n",
    "        model = LogisticRegression(solver='liblinear', C=1.0, random_state=42)\n",
    "        model.fit(X_train, y_train)\n",
    "        y_pred = model.predict(X_val)\n",
    "        return round((y_val == y_pred).mean(), 2)"
   ]
  },
  {
   "cell_type": "code",
   "execution_count": 44,
   "id": "ad3a5bf3",
   "metadata": {},
   "outputs": [],
   "source": [
    "features_without_neighbourhood_group = np.array([x for x in features if x != 'neighbourhood_group'])\n",
    "features_without_room_type = np.array([x for x in features if x != 'room_type'])\n",
    "features_without_number_of_reviews = np.array([x for x in features if x != 'number_of_reviews'])\n",
    "features_without_reviews_per_month = np.array([x for x in features if x != 'reviews_per_month'])"
   ]
  },
  {
   "cell_type": "code",
   "execution_count": 52,
   "id": "d9ef056d",
   "metadata": {},
   "outputs": [],
   "source": [
    "X_train_without_room_type = df_train[features_without_room_type]\n",
    "X_train_without_neighbourhood_group = df_train[features_without_neighbourhood_group]\n",
    "X_train_without_number_of_reviews = df_train[features_without_number_of_reviews]\n",
    "X_train_without_reviews_per_month = df_train[features_without_reviews_per_month]\n"
   ]
  },
  {
   "cell_type": "code",
   "execution_count": 53,
   "id": "7d4448f8",
   "metadata": {},
   "outputs": [],
   "source": [
    "X_val_without_room_type = df_val[features_without_room_type]\n",
    "X_val_without_neighbourhood_group = df_val[features_without_neighbourhood_group]\n",
    "X_val_without_number_of_reviews = df_val[features_without_number_of_reviews]\n",
    "X_val_without_reviews_per_month = df_val[features_without_reviews_per_month]\n"
   ]
  },
  {
   "cell_type": "code",
   "execution_count": 59,
   "id": "13fa6ceb",
   "metadata": {},
   "outputs": [],
   "source": [
    "model_without_room_type = model_accuracy(X_train_without_room_type, X_val_without_room_type)"
   ]
  },
  {
   "cell_type": "code",
   "execution_count": 60,
   "id": "5fa4662c",
   "metadata": {},
   "outputs": [
    {
     "data": {
      "text/plain": [
       "0.05"
      ]
     },
     "execution_count": 60,
     "metadata": {},
     "output_type": "execute_result"
    }
   ],
   "source": [
    "model_without_room_type"
   ]
  },
  {
   "cell_type": "code",
   "execution_count": 54,
   "id": "de7c3b38",
   "metadata": {},
   "outputs": [
    {
     "name": "stderr",
     "output_type": "stream",
     "text": [
      "/opt/conda/lib/python3.9/site-packages/sklearn/svm/_base.py:985: ConvergenceWarning: Liblinear failed to converge, increase the number of iterations.\n",
      "  warnings.warn(\"Liblinear failed to converge, increase \"\n"
     ]
    }
   ],
   "source": [
    "model_without_neighbourhood_group = model_accuracy(X_train_without_neighbourhood_group, X_val_without_neighbourhood_group)\n",
    "model_without_number_of_reviews = model_accuracy(X_train_without_number_of_reviews, X_val_without_number_of_reviews)\n",
    "model_without_reviews_per_month = model_accuracy(X_train_without_reviews_per_month, X_val_without_reviews_per_month)"
   ]
  },
  {
   "cell_type": "code",
   "execution_count": 61,
   "id": "8e25ec6a",
   "metadata": {},
   "outputs": [
    {
     "name": "stdout",
     "output_type": "stream",
     "text": [
      "model_without_room_type: 0.05\n",
      "\n",
      "model_without_neighbourhood_group: 0.06\n",
      "\n",
      "model_without_number_of_reviews:  0.07\n",
      "\n",
      "model_without_reviews_per_month: 0.07\n"
     ]
    }
   ],
   "source": [
    "print(f'model_without_room_type: {model_without_room_type}')\n",
    "print()\n",
    "print(f'model_without_neighbourhood_group: {model_without_neighbourhood_group}')\n",
    "print()\n",
    "print(f'model_without_number_of_reviews:  {model_without_number_of_reviews}')\n",
    "print()\n",
    "print(f'model_without_reviews_per_month: {model_without_reviews_per_month}')\n"
   ]
  },
  {
   "cell_type": "markdown",
   "id": "72b4ffa7",
   "metadata": {},
   "source": [
    "////////////////////// NOTE //////////////////////\n",
    "\n",
    "first save original accuracy\n",
    "copy features minus one feature, then train etc as above\n",
    "Again above my y is incorrect :( \n",
    "Also what we were interested in was the smallest difference (can be negative or positive)\n",
    "\n",
    "answer was number of reviews\n",
    "//////////////////////////////////////////////////\n",
    "\n",
    "Code below is corrected for incorrect y"
   ]
  },
  {
   "cell_type": "code",
   "execution_count": 99,
   "id": "4f1edda7",
   "metadata": {},
   "outputs": [],
   "source": [
    "original_accuracy = (y_val == y_pred).mean()"
   ]
  },
  {
   "cell_type": "code",
   "execution_count": 100,
   "id": "85dcdea9",
   "metadata": {},
   "outputs": [
    {
     "data": {
      "text/plain": [
       "0.7929236118212496"
      ]
     },
     "execution_count": 100,
     "metadata": {},
     "output_type": "execute_result"
    }
   ],
   "source": [
    "original_accuracy"
   ]
  },
  {
   "cell_type": "code",
   "execution_count": 101,
   "id": "d519cda1",
   "metadata": {},
   "outputs": [],
   "source": [
    "def model_accuracy(feature_to_remove):\n",
    "        print(feature_to_remove)\n",
    "        print()\n",
    "        X_train_without_room_type = df_train[feature_to_remove]\n",
    "        X_val_without_room_type = df_val[feature_to_remove]\n",
    "        sub_features = np.array([x for x in features if x != feature_to_remove])\n",
    "        train_dicts = df_train[sub_features].to_dict(orient='records')\n",
    "        dv = DictVectorizer(sparse=False)\n",
    "        X_train = dv.fit_transform(train_dicts)\n",
    "        val_dicts = df_val[sub_features].to_dict(orient='records')\n",
    "        X_val = dv.transform(val_dicts)\n",
    "        model = LogisticRegression(solver='liblinear', C=1.0, random_state=42)\n",
    "        model.fit(X_train, y_train)\n",
    "        y_pred = model.predict(X_val)\n",
    "        diff = original_accuracy - (y_val == y_pred).mean()\n",
    "        print(round(diff, 2))\n",
    "        print()\n",
    "        print()"
   ]
  },
  {
   "cell_type": "code",
   "execution_count": 102,
   "id": "3c9fd9e4",
   "metadata": {},
   "outputs": [
    {
     "name": "stdout",
     "output_type": "stream",
     "text": [
      "room_type\n",
      "\n",
      "0.06\n",
      "\n",
      "\n",
      "neighbourhood_group\n",
      "\n",
      "0.05\n",
      "\n",
      "\n",
      "number_of_reviews\n",
      "\n",
      "0.0\n",
      "\n",
      "\n",
      "reviews_per_month\n",
      "\n",
      "0.0\n",
      "\n",
      "\n"
     ]
    }
   ],
   "source": [
    "model_accuracy('room_type')\n",
    "model_accuracy('neighbourhood_group')\n",
    "model_accuracy('number_of_reviews')\n",
    "model_accuracy('reviews_per_month')"
   ]
  },
  {
   "cell_type": "markdown",
   "id": "40764e33",
   "metadata": {},
   "source": [
    "## Question 6\n",
    "\n",
    "Which of these alphas leads to the best RMSE on the validation set? Round your RMSE scores to 3 decimal digits."
   ]
  },
  {
   "cell_type": "code",
   "execution_count": 103,
   "id": "d2820fdf",
   "metadata": {},
   "outputs": [],
   "source": [
    "def rmse(y, y_pred):\n",
    "    err = y - y_pred\n",
    "    se = err ** 2\n",
    "    mse = se.mean()\n",
    "    return np.sqrt(mse)"
   ]
  },
  {
   "cell_type": "code",
   "execution_count": 104,
   "id": "69af3e64",
   "metadata": {},
   "outputs": [],
   "source": [
    "y_train = np.log1p(y_train)"
   ]
  },
  {
   "cell_type": "code",
   "execution_count": 105,
   "id": "ee58c310",
   "metadata": {},
   "outputs": [],
   "source": [
    "from sklearn.linear_model import Ridge"
   ]
  },
  {
   "cell_type": "code",
   "execution_count": 106,
   "id": "aae540e6",
   "metadata": {},
   "outputs": [],
   "source": [
    "alpha = [0, 0.01, 0.1, 1, 10]"
   ]
  },
  {
   "cell_type": "code",
   "execution_count": 108,
   "id": "aa52dbbf",
   "metadata": {},
   "outputs": [
    {
     "name": "stdout",
     "output_type": "stream",
     "text": [
      "alpha: 0\n",
      "0.392\n",
      "alpha: 0.01\n",
      "0.392\n",
      "alpha: 0.1\n",
      "0.392\n",
      "alpha: 1\n",
      "0.392\n",
      "alpha: 10\n",
      "0.393\n"
     ]
    }
   ],
   "source": [
    "for a in alpha:\n",
    "    print(f'alpha: {a}')\n",
    "    clf = Ridge(alpha=a)\n",
    "    clf.fit(X_train, y_train)\n",
    "    y_pred = clf.predict(X_val)\n",
    "    print(rmse(y_pred, y_val).round(3))"
   ]
  },
  {
   "cell_type": "markdown",
   "id": "0a20e7ae",
   "metadata": {},
   "source": [
    "///////////////////////// NOTE //////////////////////\n",
    "\n",
    "These were totally off unfotunately. However I went with the smallest relative to my answers and that was correct."
   ]
  },
  {
   "cell_type": "markdown",
   "id": "053a643f",
   "metadata": {},
   "source": [
    "## Summary of my performance\n",
    "\n",
    "Not bad but I need to pay attention to the details as a small error heavily affects the results :D Perhaps also not rushing would have helped this week!"
   ]
  }
 ],
 "metadata": {
  "kernelspec": {
   "display_name": "Python 3 (ipykernel)",
   "language": "python",
   "name": "python3"
  },
  "language_info": {
   "codemirror_mode": {
    "name": "ipython",
    "version": 3
   },
   "file_extension": ".py",
   "mimetype": "text/x-python",
   "name": "python",
   "nbconvert_exporter": "python",
   "pygments_lexer": "ipython3",
   "version": "3.9.6"
  }
 },
 "nbformat": 4,
 "nbformat_minor": 5
}
