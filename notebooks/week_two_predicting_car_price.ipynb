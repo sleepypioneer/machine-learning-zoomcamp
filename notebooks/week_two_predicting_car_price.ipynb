{
 "cells": [
  {
   "cell_type": "markdown",
   "id": "ef79bd90",
   "metadata": {},
   "source": [
    "# Price Prediction for cars\n",
    "\n",
    "Week two workbook for Machine Learning Zoomcamp"
   ]
  },
  {
   "cell_type": "code",
   "execution_count": 1,
   "id": "7e314432",
   "metadata": {},
   "outputs": [],
   "source": [
    "import pandas as pd\n",
    "import numpy as np"
   ]
  },
  {
   "cell_type": "markdown",
   "id": "15b9e543",
   "metadata": {},
   "source": [
    "## 2.2 Data Preparation"
   ]
  },
  {
   "cell_type": "code",
   "execution_count": 2,
   "id": "11b5fe1a",
   "metadata": {},
   "outputs": [],
   "source": [
    "car_data = pd.read_csv('data/car_data/data.csv')"
   ]
  },
  {
   "cell_type": "code",
   "execution_count": 3,
   "id": "8380adb5",
   "metadata": {},
   "outputs": [
    {
     "data": {
      "text/html": [
       "<div>\n",
       "<style scoped>\n",
       "    .dataframe tbody tr th:only-of-type {\n",
       "        vertical-align: middle;\n",
       "    }\n",
       "\n",
       "    .dataframe tbody tr th {\n",
       "        vertical-align: top;\n",
       "    }\n",
       "\n",
       "    .dataframe thead th {\n",
       "        text-align: right;\n",
       "    }\n",
       "</style>\n",
       "<table border=\"1\" class=\"dataframe\">\n",
       "  <thead>\n",
       "    <tr style=\"text-align: right;\">\n",
       "      <th></th>\n",
       "      <th>Make</th>\n",
       "      <th>Model</th>\n",
       "      <th>Year</th>\n",
       "      <th>Engine Fuel Type</th>\n",
       "      <th>Engine HP</th>\n",
       "      <th>Engine Cylinders</th>\n",
       "      <th>Transmission Type</th>\n",
       "      <th>Driven_Wheels</th>\n",
       "      <th>Number of Doors</th>\n",
       "      <th>Market Category</th>\n",
       "      <th>Vehicle Size</th>\n",
       "      <th>Vehicle Style</th>\n",
       "      <th>highway MPG</th>\n",
       "      <th>city mpg</th>\n",
       "      <th>Popularity</th>\n",
       "      <th>MSRP</th>\n",
       "    </tr>\n",
       "  </thead>\n",
       "  <tbody>\n",
       "    <tr>\n",
       "      <th>0</th>\n",
       "      <td>BMW</td>\n",
       "      <td>1 Series M</td>\n",
       "      <td>2011</td>\n",
       "      <td>premium unleaded (required)</td>\n",
       "      <td>335.0</td>\n",
       "      <td>6.0</td>\n",
       "      <td>MANUAL</td>\n",
       "      <td>rear wheel drive</td>\n",
       "      <td>2.0</td>\n",
       "      <td>Factory Tuner,Luxury,High-Performance</td>\n",
       "      <td>Compact</td>\n",
       "      <td>Coupe</td>\n",
       "      <td>26</td>\n",
       "      <td>19</td>\n",
       "      <td>3916</td>\n",
       "      <td>46135</td>\n",
       "    </tr>\n",
       "    <tr>\n",
       "      <th>1</th>\n",
       "      <td>BMW</td>\n",
       "      <td>1 Series</td>\n",
       "      <td>2011</td>\n",
       "      <td>premium unleaded (required)</td>\n",
       "      <td>300.0</td>\n",
       "      <td>6.0</td>\n",
       "      <td>MANUAL</td>\n",
       "      <td>rear wheel drive</td>\n",
       "      <td>2.0</td>\n",
       "      <td>Luxury,Performance</td>\n",
       "      <td>Compact</td>\n",
       "      <td>Convertible</td>\n",
       "      <td>28</td>\n",
       "      <td>19</td>\n",
       "      <td>3916</td>\n",
       "      <td>40650</td>\n",
       "    </tr>\n",
       "    <tr>\n",
       "      <th>2</th>\n",
       "      <td>BMW</td>\n",
       "      <td>1 Series</td>\n",
       "      <td>2011</td>\n",
       "      <td>premium unleaded (required)</td>\n",
       "      <td>300.0</td>\n",
       "      <td>6.0</td>\n",
       "      <td>MANUAL</td>\n",
       "      <td>rear wheel drive</td>\n",
       "      <td>2.0</td>\n",
       "      <td>Luxury,High-Performance</td>\n",
       "      <td>Compact</td>\n",
       "      <td>Coupe</td>\n",
       "      <td>28</td>\n",
       "      <td>20</td>\n",
       "      <td>3916</td>\n",
       "      <td>36350</td>\n",
       "    </tr>\n",
       "    <tr>\n",
       "      <th>3</th>\n",
       "      <td>BMW</td>\n",
       "      <td>1 Series</td>\n",
       "      <td>2011</td>\n",
       "      <td>premium unleaded (required)</td>\n",
       "      <td>230.0</td>\n",
       "      <td>6.0</td>\n",
       "      <td>MANUAL</td>\n",
       "      <td>rear wheel drive</td>\n",
       "      <td>2.0</td>\n",
       "      <td>Luxury,Performance</td>\n",
       "      <td>Compact</td>\n",
       "      <td>Coupe</td>\n",
       "      <td>28</td>\n",
       "      <td>18</td>\n",
       "      <td>3916</td>\n",
       "      <td>29450</td>\n",
       "    </tr>\n",
       "    <tr>\n",
       "      <th>4</th>\n",
       "      <td>BMW</td>\n",
       "      <td>1 Series</td>\n",
       "      <td>2011</td>\n",
       "      <td>premium unleaded (required)</td>\n",
       "      <td>230.0</td>\n",
       "      <td>6.0</td>\n",
       "      <td>MANUAL</td>\n",
       "      <td>rear wheel drive</td>\n",
       "      <td>2.0</td>\n",
       "      <td>Luxury</td>\n",
       "      <td>Compact</td>\n",
       "      <td>Convertible</td>\n",
       "      <td>28</td>\n",
       "      <td>18</td>\n",
       "      <td>3916</td>\n",
       "      <td>34500</td>\n",
       "    </tr>\n",
       "  </tbody>\n",
       "</table>\n",
       "</div>"
      ],
      "text/plain": [
       "  Make       Model  Year             Engine Fuel Type  Engine HP  \\\n",
       "0  BMW  1 Series M  2011  premium unleaded (required)      335.0   \n",
       "1  BMW    1 Series  2011  premium unleaded (required)      300.0   \n",
       "2  BMW    1 Series  2011  premium unleaded (required)      300.0   \n",
       "3  BMW    1 Series  2011  premium unleaded (required)      230.0   \n",
       "4  BMW    1 Series  2011  premium unleaded (required)      230.0   \n",
       "\n",
       "   Engine Cylinders Transmission Type     Driven_Wheels  Number of Doors  \\\n",
       "0               6.0            MANUAL  rear wheel drive              2.0   \n",
       "1               6.0            MANUAL  rear wheel drive              2.0   \n",
       "2               6.0            MANUAL  rear wheel drive              2.0   \n",
       "3               6.0            MANUAL  rear wheel drive              2.0   \n",
       "4               6.0            MANUAL  rear wheel drive              2.0   \n",
       "\n",
       "                         Market Category Vehicle Size Vehicle Style  \\\n",
       "0  Factory Tuner,Luxury,High-Performance      Compact         Coupe   \n",
       "1                     Luxury,Performance      Compact   Convertible   \n",
       "2                Luxury,High-Performance      Compact         Coupe   \n",
       "3                     Luxury,Performance      Compact         Coupe   \n",
       "4                                 Luxury      Compact   Convertible   \n",
       "\n",
       "   highway MPG  city mpg  Popularity   MSRP  \n",
       "0           26        19        3916  46135  \n",
       "1           28        19        3916  40650  \n",
       "2           28        20        3916  36350  \n",
       "3           28        18        3916  29450  \n",
       "4           28        18        3916  34500  "
      ]
     },
     "execution_count": 3,
     "metadata": {},
     "output_type": "execute_result"
    }
   ],
   "source": [
    "car_data.head()"
   ]
  },
  {
   "cell_type": "markdown",
   "id": "fb8b248b",
   "metadata": {},
   "source": [
    "🔍 naming of columns inconsistant"
   ]
  },
  {
   "cell_type": "code",
   "execution_count": 4,
   "id": "a82e46f7",
   "metadata": {},
   "outputs": [],
   "source": [
    "car_data.columns = car_data.columns.str.lower().str.replace(' ','_')"
   ]
  },
  {
   "cell_type": "code",
   "execution_count": 5,
   "id": "c1dd02ef",
   "metadata": {},
   "outputs": [
    {
     "data": {
      "text/plain": [
       "Index(['make', 'model', 'year', 'engine_fuel_type', 'engine_hp',\n",
       "       'engine_cylinders', 'transmission_type', 'driven_wheels',\n",
       "       'number_of_doors', 'market_category', 'vehicle_size', 'vehicle_style',\n",
       "       'highway_mpg', 'city_mpg', 'popularity', 'msrp'],\n",
       "      dtype='object')"
      ]
     },
     "execution_count": 5,
     "metadata": {},
     "output_type": "execute_result"
    }
   ],
   "source": [
    "car_data.columns"
   ]
  },
  {
   "cell_type": "markdown",
   "id": "073a9005",
   "metadata": {},
   "source": [
    "🔍 string values are also inconsistant when it comes to style  \n",
    "🔍 we have columns with string values and columns with number columns"
   ]
  },
  {
   "cell_type": "code",
   "execution_count": 6,
   "id": "4a7f3dd4",
   "metadata": {
    "scrolled": true
   },
   "outputs": [
    {
     "data": {
      "text/plain": [
       "['make',\n",
       " 'model',\n",
       " 'engine_fuel_type',\n",
       " 'transmission_type',\n",
       " 'driven_wheels',\n",
       " 'market_category',\n",
       " 'vehicle_size',\n",
       " 'vehicle_style']"
      ]
     },
     "execution_count": 6,
     "metadata": {},
     "output_type": "execute_result"
    }
   ],
   "source": [
    "string_cols = list(car_data.dtypes[car_data.dtypes == 'object'].index) # here the object is a string\n",
    "string_cols"
   ]
  },
  {
   "cell_type": "code",
   "execution_count": 7,
   "id": "2c2e3d02",
   "metadata": {},
   "outputs": [],
   "source": [
    "for string_col in string_cols:\n",
    "    car_data[string_col] = car_data[string_col].str.lower().str.replace(' ','_')"
   ]
  },
  {
   "cell_type": "code",
   "execution_count": 8,
   "id": "1af70791",
   "metadata": {},
   "outputs": [
    {
     "data": {
      "text/html": [
       "<div>\n",
       "<style scoped>\n",
       "    .dataframe tbody tr th:only-of-type {\n",
       "        vertical-align: middle;\n",
       "    }\n",
       "\n",
       "    .dataframe tbody tr th {\n",
       "        vertical-align: top;\n",
       "    }\n",
       "\n",
       "    .dataframe thead th {\n",
       "        text-align: right;\n",
       "    }\n",
       "</style>\n",
       "<table border=\"1\" class=\"dataframe\">\n",
       "  <thead>\n",
       "    <tr style=\"text-align: right;\">\n",
       "      <th></th>\n",
       "      <th>make</th>\n",
       "      <th>model</th>\n",
       "      <th>year</th>\n",
       "      <th>engine_fuel_type</th>\n",
       "      <th>engine_hp</th>\n",
       "      <th>engine_cylinders</th>\n",
       "      <th>transmission_type</th>\n",
       "      <th>driven_wheels</th>\n",
       "      <th>number_of_doors</th>\n",
       "      <th>market_category</th>\n",
       "      <th>vehicle_size</th>\n",
       "      <th>vehicle_style</th>\n",
       "      <th>highway_mpg</th>\n",
       "      <th>city_mpg</th>\n",
       "      <th>popularity</th>\n",
       "      <th>msrp</th>\n",
       "    </tr>\n",
       "  </thead>\n",
       "  <tbody>\n",
       "    <tr>\n",
       "      <th>0</th>\n",
       "      <td>bmw</td>\n",
       "      <td>1_series_m</td>\n",
       "      <td>2011</td>\n",
       "      <td>premium_unleaded_(required)</td>\n",
       "      <td>335.0</td>\n",
       "      <td>6.0</td>\n",
       "      <td>manual</td>\n",
       "      <td>rear_wheel_drive</td>\n",
       "      <td>2.0</td>\n",
       "      <td>factory_tuner,luxury,high-performance</td>\n",
       "      <td>compact</td>\n",
       "      <td>coupe</td>\n",
       "      <td>26</td>\n",
       "      <td>19</td>\n",
       "      <td>3916</td>\n",
       "      <td>46135</td>\n",
       "    </tr>\n",
       "    <tr>\n",
       "      <th>1</th>\n",
       "      <td>bmw</td>\n",
       "      <td>1_series</td>\n",
       "      <td>2011</td>\n",
       "      <td>premium_unleaded_(required)</td>\n",
       "      <td>300.0</td>\n",
       "      <td>6.0</td>\n",
       "      <td>manual</td>\n",
       "      <td>rear_wheel_drive</td>\n",
       "      <td>2.0</td>\n",
       "      <td>luxury,performance</td>\n",
       "      <td>compact</td>\n",
       "      <td>convertible</td>\n",
       "      <td>28</td>\n",
       "      <td>19</td>\n",
       "      <td>3916</td>\n",
       "      <td>40650</td>\n",
       "    </tr>\n",
       "    <tr>\n",
       "      <th>2</th>\n",
       "      <td>bmw</td>\n",
       "      <td>1_series</td>\n",
       "      <td>2011</td>\n",
       "      <td>premium_unleaded_(required)</td>\n",
       "      <td>300.0</td>\n",
       "      <td>6.0</td>\n",
       "      <td>manual</td>\n",
       "      <td>rear_wheel_drive</td>\n",
       "      <td>2.0</td>\n",
       "      <td>luxury,high-performance</td>\n",
       "      <td>compact</td>\n",
       "      <td>coupe</td>\n",
       "      <td>28</td>\n",
       "      <td>20</td>\n",
       "      <td>3916</td>\n",
       "      <td>36350</td>\n",
       "    </tr>\n",
       "    <tr>\n",
       "      <th>3</th>\n",
       "      <td>bmw</td>\n",
       "      <td>1_series</td>\n",
       "      <td>2011</td>\n",
       "      <td>premium_unleaded_(required)</td>\n",
       "      <td>230.0</td>\n",
       "      <td>6.0</td>\n",
       "      <td>manual</td>\n",
       "      <td>rear_wheel_drive</td>\n",
       "      <td>2.0</td>\n",
       "      <td>luxury,performance</td>\n",
       "      <td>compact</td>\n",
       "      <td>coupe</td>\n",
       "      <td>28</td>\n",
       "      <td>18</td>\n",
       "      <td>3916</td>\n",
       "      <td>29450</td>\n",
       "    </tr>\n",
       "    <tr>\n",
       "      <th>4</th>\n",
       "      <td>bmw</td>\n",
       "      <td>1_series</td>\n",
       "      <td>2011</td>\n",
       "      <td>premium_unleaded_(required)</td>\n",
       "      <td>230.0</td>\n",
       "      <td>6.0</td>\n",
       "      <td>manual</td>\n",
       "      <td>rear_wheel_drive</td>\n",
       "      <td>2.0</td>\n",
       "      <td>luxury</td>\n",
       "      <td>compact</td>\n",
       "      <td>convertible</td>\n",
       "      <td>28</td>\n",
       "      <td>18</td>\n",
       "      <td>3916</td>\n",
       "      <td>34500</td>\n",
       "    </tr>\n",
       "  </tbody>\n",
       "</table>\n",
       "</div>"
      ],
      "text/plain": [
       "  make       model  year             engine_fuel_type  engine_hp  \\\n",
       "0  bmw  1_series_m  2011  premium_unleaded_(required)      335.0   \n",
       "1  bmw    1_series  2011  premium_unleaded_(required)      300.0   \n",
       "2  bmw    1_series  2011  premium_unleaded_(required)      300.0   \n",
       "3  bmw    1_series  2011  premium_unleaded_(required)      230.0   \n",
       "4  bmw    1_series  2011  premium_unleaded_(required)      230.0   \n",
       "\n",
       "   engine_cylinders transmission_type     driven_wheels  number_of_doors  \\\n",
       "0               6.0            manual  rear_wheel_drive              2.0   \n",
       "1               6.0            manual  rear_wheel_drive              2.0   \n",
       "2               6.0            manual  rear_wheel_drive              2.0   \n",
       "3               6.0            manual  rear_wheel_drive              2.0   \n",
       "4               6.0            manual  rear_wheel_drive              2.0   \n",
       "\n",
       "                         market_category vehicle_size vehicle_style  \\\n",
       "0  factory_tuner,luxury,high-performance      compact         coupe   \n",
       "1                     luxury,performance      compact   convertible   \n",
       "2                luxury,high-performance      compact         coupe   \n",
       "3                     luxury,performance      compact         coupe   \n",
       "4                                 luxury      compact   convertible   \n",
       "\n",
       "   highway_mpg  city_mpg  popularity   msrp  \n",
       "0           26        19        3916  46135  \n",
       "1           28        19        3916  40650  \n",
       "2           28        20        3916  36350  \n",
       "3           28        18        3916  29450  \n",
       "4           28        18        3916  34500  "
      ]
     },
     "execution_count": 8,
     "metadata": {},
     "output_type": "execute_result"
    }
   ],
   "source": [
    "car_data.head()"
   ]
  },
  {
   "cell_type": "markdown",
   "id": "0606b1ab",
   "metadata": {},
   "source": [
    "## 2.3 Data exploration"
   ]
  },
  {
   "cell_type": "code",
   "execution_count": 9,
   "id": "d70622c8",
   "metadata": {},
   "outputs": [
    {
     "name": "stdout",
     "output_type": "stream",
     "text": [
      "make\n",
      "number of unique values: 48\n",
      "top five unique values: ['bmw' 'audi' 'fiat' 'mercedes-benz' 'chrysler']\n",
      "\n",
      "model\n",
      "number of unique values: 914\n",
      "top five unique values: ['1_series_m' '1_series' '100' '124_spider' '190-class']\n",
      "\n",
      "year\n",
      "number of unique values: 28\n",
      "top five unique values: [2011 2012 2013 1992 1993]\n",
      "\n",
      "engine_fuel_type\n",
      "number of unique values: 10\n",
      "top five unique values: ['premium_unleaded_(required)' 'regular_unleaded'\n",
      " 'premium_unleaded_(recommended)' 'flex-fuel_(unleaded/e85)' 'diesel']\n",
      "\n",
      "engine_hp\n",
      "number of unique values: 356\n",
      "top five unique values: [335. 300. 230. 320. 172.]\n",
      "\n",
      "engine_cylinders\n",
      "number of unique values: 9\n",
      "top five unique values: [ 6.  4.  5.  8. 12.]\n",
      "\n",
      "transmission_type\n",
      "number of unique values: 5\n",
      "top five unique values: ['manual' 'automatic' 'automated_manual' 'direct_drive' 'unknown']\n",
      "\n",
      "driven_wheels\n",
      "number of unique values: 4\n",
      "top five unique values: ['rear_wheel_drive' 'front_wheel_drive' 'all_wheel_drive'\n",
      " 'four_wheel_drive']\n",
      "\n",
      "number_of_doors\n",
      "number of unique values: 3\n",
      "top five unique values: [ 2.  4.  3. nan]\n",
      "\n",
      "market_category\n",
      "number of unique values: 71\n",
      "top five unique values: ['factory_tuner,luxury,high-performance' 'luxury,performance'\n",
      " 'luxury,high-performance' 'luxury' 'performance']\n",
      "\n",
      "vehicle_size\n",
      "number of unique values: 3\n",
      "top five unique values: ['compact' 'midsize' 'large']\n",
      "\n",
      "vehicle_style\n",
      "number of unique values: 16\n",
      "top five unique values: ['coupe' 'convertible' 'sedan' 'wagon' '4dr_hatchback']\n",
      "\n",
      "highway_mpg\n",
      "number of unique values: 59\n",
      "top five unique values: [26 28 27 25 24]\n",
      "\n",
      "city_mpg\n",
      "number of unique values: 69\n",
      "top five unique values: [19 20 18 17 16]\n",
      "\n",
      "popularity\n",
      "number of unique values: 48\n",
      "top five unique values: [3916 3105  819  617 1013]\n",
      "\n",
      "msrp\n",
      "number of unique values: 6049\n",
      "top five unique values: [46135 40650 36350 29450 34500]\n",
      "\n"
     ]
    }
   ],
   "source": [
    "for col in car_data.columns:\n",
    "    print(col)\n",
    "    print(f'number of unique values: {car_data[col].nunique()}')\n",
    "    print(f'top five unique values: {car_data[col].unique()[:5]}')\n",
    "    print()"
   ]
  },
  {
   "cell_type": "markdown",
   "id": "3778e5a0",
   "metadata": {},
   "source": [
    "🔍 There are `nan` values for the number of car doors (and potentially elsewhere)"
   ]
  },
  {
   "cell_type": "markdown",
   "id": "5d327745",
   "metadata": {},
   "source": [
    "### Distribution of price"
   ]
  },
  {
   "cell_type": "code",
   "execution_count": 10,
   "id": "b4226b9e",
   "metadata": {},
   "outputs": [],
   "source": [
    "import matplotlib.pyplot as plt\n",
    "import seaborn as sns\n",
    "\n",
    "%matplotlib inline"
   ]
  },
  {
   "cell_type": "code",
   "execution_count": 11,
   "id": "9227af67",
   "metadata": {},
   "outputs": [
    {
     "data": {
      "text/plain": [
       "<AxesSubplot:xlabel='msrp', ylabel='Count'>"
      ]
     },
     "execution_count": 11,
     "metadata": {},
     "output_type": "execute_result"
    },
    {
     "data": {
      "image/png": "[encoded data removed]",
      "text/plain": [
       "<Figure size 432x288 with 1 Axes>"
      ]
     },
     "metadata": {
      "needs_background": "light"
     },
     "output_type": "display_data"
    }
   ],
   "source": [
    "sns.histplot(car_data.msrp, bins=50)"
   ]
  },
  {
   "cell_type": "markdown",
   "id": "ff9a857d",
   "metadata": {},
   "source": [
    "1e6 == 10^6 ie 1 Million"
   ]
  },
  {
   "cell_type": "markdown",
   "id": "e8be1173",
   "metadata": {},
   "source": [
    "🔍 very few cars are very expensive, the majority are at the lower end. We therefore have a long tail distribution for car price."
   ]
  },
  {
   "cell_type": "markdown",
   "id": "ed9986b2",
   "metadata": {},
   "source": [
    "Let's zoom in by restricting the price range we look at"
   ]
  },
  {
   "cell_type": "code",
   "execution_count": 12,
   "id": "172a7d85",
   "metadata": {},
   "outputs": [
    {
     "data": {
      "text/plain": [
       "<AxesSubplot:xlabel='msrp', ylabel='Count'>"
      ]
     },
     "execution_count": 12,
     "metadata": {},
     "output_type": "execute_result"
    },
    {
     "data": {
      "image/png": "[encoded data removed]",
      "text/plain": [
       "<Figure size 432x288 with 1 Axes>"
      ]
     },
     "metadata": {
      "needs_background": "light"
     },
     "output_type": "display_data"
    }
   ],
   "source": [
    "sns.histplot(car_data[car_data['msrp'] < 100000].msrp, bins=50)"
   ]
  },
  {
   "cell_type": "code",
   "execution_count": 13,
   "id": "4f5e9a60",
   "metadata": {},
   "outputs": [
    {
     "data": {
      "text/plain": [
       "array([ 0.        ,  0.69314718,  2.39789527,  4.61512052, 11.51293546])"
      ]
     },
     "execution_count": 13,
     "metadata": {},
     "output_type": "execute_result"
    }
   ],
   "source": [
    "# 1p adds one to all the values. We do this because logorithm of 0 doesn't exist.\n",
    "np.log1p([0, 1, 10, 100, 100000])"
   ]
  },
  {
   "cell_type": "markdown",
   "id": "2c97563a",
   "metadata": {},
   "source": [
    "❓ Not sure I fully understood why we add one here, though I can see that no values are at 0"
   ]
  },
  {
   "cell_type": "code",
   "execution_count": 14,
   "id": "b2c328cf",
   "metadata": {},
   "outputs": [],
   "source": [
    "price_logs = np.log1p(car_data.msrp)"
   ]
  },
  {
   "cell_type": "code",
   "execution_count": 15,
   "id": "a095fe16",
   "metadata": {},
   "outputs": [
    {
     "data": {
      "text/plain": [
       "<AxesSubplot:xlabel='msrp', ylabel='Count'>"
      ]
     },
     "execution_count": 15,
     "metadata": {},
     "output_type": "execute_result"
    },
    {
     "data": {
      "image/png": "[encoded data removed]",
      "text/plain": [
       "<Figure size 432x288 with 1 Axes>"
      ]
     },
     "metadata": {
      "needs_background": "light"
     },
     "output_type": "display_data"
    }
   ],
   "source": [
    "sns.histplot(price_logs, bins=50)"
   ]
  },
  {
   "cell_type": "markdown",
   "id": "1e53f61e",
   "metadata": {},
   "source": [
    "🔍 tail is now gone. The shape now also resembles the bell curve of normal distribution"
   ]
  },
  {
   "cell_type": "code",
   "execution_count": 16,
   "id": "ecdfd819",
   "metadata": {},
   "outputs": [
    {
     "data": {
      "text/plain": [
       "make                    0\n",
       "model                   0\n",
       "year                    0\n",
       "engine_fuel_type        3\n",
       "engine_hp              69\n",
       "engine_cylinders       30\n",
       "transmission_type       0\n",
       "driven_wheels           0\n",
       "number_of_doors         6\n",
       "market_category      3742\n",
       "vehicle_size            0\n",
       "vehicle_style           0\n",
       "highway_mpg             0\n",
       "city_mpg                0\n",
       "popularity              0\n",
       "msrp                    0\n",
       "dtype: int64"
      ]
     },
     "execution_count": 16,
     "metadata": {},
     "output_type": "execute_result"
    }
   ],
   "source": [
    "car_data.isnull().sum()"
   ]
  },
  {
   "cell_type": "markdown",
   "id": "5f332e26",
   "metadata": {},
   "source": [
    "🔍 For `engine_fuel_type`, `engine_hp`, `engine_cyclinders`, `number_of_doors` or `market_category` there are `nan` values"
   ]
  },
  {
   "cell_type": "markdown",
   "id": "a2c36fc9",
   "metadata": {},
   "source": [
    "## 2.4 Setting up the validation framework"
   ]
  },
  {
   "cell_type": "code",
   "execution_count": 17,
   "id": "f59c2831",
   "metadata": {},
   "outputs": [],
   "source": [
    "# split data into test, train and validate sub sets\n",
    "n = len(car_data)\n",
    "\n",
    "n_val = int(n * 0.2)\n",
    "n_test = int(n * 0.2)\n",
    "n_train = n - n_val - n_test"
   ]
  },
  {
   "cell_type": "code",
   "execution_count": 18,
   "id": "5a1a6e26",
   "metadata": {},
   "outputs": [],
   "source": [
    "assert n_val + n_test + n_train == n"
   ]
  },
  {
   "cell_type": "code",
   "execution_count": 19,
   "id": "c3621a6e",
   "metadata": {},
   "outputs": [],
   "source": [
    "np.random.seed(2) # ensures the notebook will be reproducible\n",
    "\n",
    "# we have to shuffel first to try ensure that the three data sub sets are more representative\n",
    "idx = np.arange(n)\n",
    "np.random.shuffle(idx)"
   ]
  },
  {
   "cell_type": "code",
   "execution_count": 20,
   "id": "70237734",
   "metadata": {},
   "outputs": [],
   "source": [
    "df_train = car_data.iloc[idx[:n_train]]\n",
    "df_val = car_data.iloc[idx[n_train:n_train+n_val]]\n",
    "df_test = car_data.iloc[idx[n_train+n_val:]]"
   ]
  },
  {
   "cell_type": "code",
   "execution_count": 21,
   "id": "d53600e0",
   "metadata": {},
   "outputs": [],
   "source": [
    "# create x datasets\n",
    "X_train = df_train.reset_index(drop=True)\n",
    "X_val = df_val.reset_index(drop=True)\n",
    "X_test = df_test.reset_index(drop=True)"
   ]
  },
  {
   "cell_type": "code",
   "execution_count": 22,
   "id": "573858e8",
   "metadata": {},
   "outputs": [],
   "source": [
    "# create y datasets from taking only the msrp values\n",
    "y_train = np.log1p(X_train.msrp.values)\n",
    "y_val = np.log1p(X_val.msrp.values)\n",
    "y_test = np.log1p(X_test.msrp.values)"
   ]
  },
  {
   "cell_type": "code",
   "execution_count": 23,
   "id": "f0ae88c6",
   "metadata": {},
   "outputs": [],
   "source": [
    "# remove the msrp values from the x datasets\n",
    "del X_train['msrp']\n",
    "del X_val['msrp']\n",
    "del X_test['msrp']"
   ]
  },
  {
   "cell_type": "code",
   "execution_count": 24,
   "id": "5cc74608",
   "metadata": {},
   "outputs": [
    {
     "data": {
      "text/html": [
       "<div>\n",
       "<style scoped>\n",
       "    .dataframe tbody tr th:only-of-type {\n",
       "        vertical-align: middle;\n",
       "    }\n",
       "\n",
       "    .dataframe tbody tr th {\n",
       "        vertical-align: top;\n",
       "    }\n",
       "\n",
       "    .dataframe thead th {\n",
       "        text-align: right;\n",
       "    }\n",
       "</style>\n",
       "<table border=\"1\" class=\"dataframe\">\n",
       "  <thead>\n",
       "    <tr style=\"text-align: right;\">\n",
       "      <th></th>\n",
       "      <th>make</th>\n",
       "      <th>model</th>\n",
       "      <th>year</th>\n",
       "      <th>engine_fuel_type</th>\n",
       "      <th>engine_hp</th>\n",
       "      <th>engine_cylinders</th>\n",
       "      <th>transmission_type</th>\n",
       "      <th>driven_wheels</th>\n",
       "      <th>number_of_doors</th>\n",
       "      <th>market_category</th>\n",
       "      <th>vehicle_size</th>\n",
       "      <th>vehicle_style</th>\n",
       "      <th>highway_mpg</th>\n",
       "      <th>city_mpg</th>\n",
       "      <th>popularity</th>\n",
       "    </tr>\n",
       "  </thead>\n",
       "  <tbody>\n",
       "    <tr>\n",
       "      <th>0</th>\n",
       "      <td>chevrolet</td>\n",
       "      <td>cobalt</td>\n",
       "      <td>2008</td>\n",
       "      <td>regular_unleaded</td>\n",
       "      <td>148.0</td>\n",
       "      <td>4.0</td>\n",
       "      <td>manual</td>\n",
       "      <td>front_wheel_drive</td>\n",
       "      <td>2.0</td>\n",
       "      <td>NaN</td>\n",
       "      <td>compact</td>\n",
       "      <td>coupe</td>\n",
       "      <td>33</td>\n",
       "      <td>24</td>\n",
       "      <td>1385</td>\n",
       "    </tr>\n",
       "    <tr>\n",
       "      <th>1</th>\n",
       "      <td>toyota</td>\n",
       "      <td>matrix</td>\n",
       "      <td>2012</td>\n",
       "      <td>regular_unleaded</td>\n",
       "      <td>132.0</td>\n",
       "      <td>4.0</td>\n",
       "      <td>automatic</td>\n",
       "      <td>front_wheel_drive</td>\n",
       "      <td>4.0</td>\n",
       "      <td>hatchback</td>\n",
       "      <td>compact</td>\n",
       "      <td>4dr_hatchback</td>\n",
       "      <td>32</td>\n",
       "      <td>25</td>\n",
       "      <td>2031</td>\n",
       "    </tr>\n",
       "    <tr>\n",
       "      <th>2</th>\n",
       "      <td>subaru</td>\n",
       "      <td>impreza</td>\n",
       "      <td>2016</td>\n",
       "      <td>regular_unleaded</td>\n",
       "      <td>148.0</td>\n",
       "      <td>4.0</td>\n",
       "      <td>automatic</td>\n",
       "      <td>all_wheel_drive</td>\n",
       "      <td>4.0</td>\n",
       "      <td>hatchback</td>\n",
       "      <td>compact</td>\n",
       "      <td>4dr_hatchback</td>\n",
       "      <td>37</td>\n",
       "      <td>28</td>\n",
       "      <td>640</td>\n",
       "    </tr>\n",
       "    <tr>\n",
       "      <th>3</th>\n",
       "      <td>volkswagen</td>\n",
       "      <td>vanagon</td>\n",
       "      <td>1991</td>\n",
       "      <td>regular_unleaded</td>\n",
       "      <td>90.0</td>\n",
       "      <td>4.0</td>\n",
       "      <td>manual</td>\n",
       "      <td>rear_wheel_drive</td>\n",
       "      <td>3.0</td>\n",
       "      <td>NaN</td>\n",
       "      <td>large</td>\n",
       "      <td>passenger_minivan</td>\n",
       "      <td>18</td>\n",
       "      <td>16</td>\n",
       "      <td>873</td>\n",
       "    </tr>\n",
       "    <tr>\n",
       "      <th>4</th>\n",
       "      <td>ford</td>\n",
       "      <td>f-150</td>\n",
       "      <td>2017</td>\n",
       "      <td>flex-fuel_(unleaded/e85)</td>\n",
       "      <td>385.0</td>\n",
       "      <td>8.0</td>\n",
       "      <td>automatic</td>\n",
       "      <td>four_wheel_drive</td>\n",
       "      <td>4.0</td>\n",
       "      <td>flex_fuel</td>\n",
       "      <td>large</td>\n",
       "      <td>crew_cab_pickup</td>\n",
       "      <td>21</td>\n",
       "      <td>15</td>\n",
       "      <td>5657</td>\n",
       "    </tr>\n",
       "  </tbody>\n",
       "</table>\n",
       "</div>"
      ],
      "text/plain": [
       "         make    model  year          engine_fuel_type  engine_hp  \\\n",
       "0   chevrolet   cobalt  2008          regular_unleaded      148.0   \n",
       "1      toyota   matrix  2012          regular_unleaded      132.0   \n",
       "2      subaru  impreza  2016          regular_unleaded      148.0   \n",
       "3  volkswagen  vanagon  1991          regular_unleaded       90.0   \n",
       "4        ford    f-150  2017  flex-fuel_(unleaded/e85)      385.0   \n",
       "\n",
       "   engine_cylinders transmission_type      driven_wheels  number_of_doors  \\\n",
       "0               4.0            manual  front_wheel_drive              2.0   \n",
       "1               4.0         automatic  front_wheel_drive              4.0   \n",
       "2               4.0         automatic    all_wheel_drive              4.0   \n",
       "3               4.0            manual   rear_wheel_drive              3.0   \n",
       "4               8.0         automatic   four_wheel_drive              4.0   \n",
       "\n",
       "  market_category vehicle_size      vehicle_style  highway_mpg  city_mpg  \\\n",
       "0             NaN      compact              coupe           33        24   \n",
       "1       hatchback      compact      4dr_hatchback           32        25   \n",
       "2       hatchback      compact      4dr_hatchback           37        28   \n",
       "3             NaN        large  passenger_minivan           18        16   \n",
       "4       flex_fuel        large    crew_cab_pickup           21        15   \n",
       "\n",
       "   popularity  \n",
       "0        1385  \n",
       "1        2031  \n",
       "2         640  \n",
       "3         873  \n",
       "4        5657  "
      ]
     },
     "execution_count": 24,
     "metadata": {},
     "output_type": "execute_result"
    }
   ],
   "source": [
    "X_train.head()"
   ]
  },
  {
   "cell_type": "code",
   "execution_count": 25,
   "id": "ff9914d9",
   "metadata": {},
   "outputs": [
    {
     "data": {
      "text/plain": [
       "array([ 9.57574708,  9.887663  ,  9.89323518,  7.60140233, 10.93775686])"
      ]
     },
     "execution_count": 25,
     "metadata": {},
     "output_type": "execute_result"
    }
   ],
   "source": [
    "y_train[:5]"
   ]
  },
  {
   "cell_type": "markdown",
   "id": "fa50361e",
   "metadata": {},
   "source": [
    "## 2.5 Linear regression"
   ]
  },
  {
   "cell_type": "markdown",
   "id": "38ab90f4",
   "metadata": {},
   "source": [
    "one car and it's predicted price:  \n",
    "g(xi) ≈ yi\n",
    "\n",
    "xi = (xi1, xi2, .... xin)\n",
    "\n",
    "g(xi) = w0 + w2xi1 + w3xi2 + ... wmXin\n",
    "\n",
    "*where w is the weight for each feature, n the number of features and m the number of weights*"
   ]
  },
  {
   "cell_type": "code",
   "execution_count": 26,
   "id": "f4f77336",
   "metadata": {},
   "outputs": [],
   "source": [
    "xi = X_train.iloc[10]"
   ]
  },
  {
   "cell_type": "code",
   "execution_count": 27,
   "id": "197f0d6f",
   "metadata": {},
   "outputs": [],
   "source": [
    "# for this example we will pick the following features\n",
    "xi = xi[['engine_hp', 'city_mpg', 'popularity']]"
   ]
  },
  {
   "cell_type": "code",
   "execution_count": 28,
   "id": "ea60dcb6",
   "metadata": {},
   "outputs": [],
   "source": [
    "# our weights, set by looking at what each feature denotes\n",
    "w0 = 7.17\n",
    "w = [0.01, 0.04, 0.002]"
   ]
  },
  {
   "cell_type": "code",
   "execution_count": 29,
   "id": "12e46d07",
   "metadata": {},
   "outputs": [],
   "source": [
    "def g(xi):\n",
    "    '''\n",
    "    takes a feature set and returns a prediction using linear regression\n",
    "    '''\n",
    "    n = len(xi)\n",
    "    \n",
    "    pred = w0\n",
    "    \n",
    "    for j in range(n):\n",
    "        pred = pred + w[j] * xi[j]\n",
    "    \n",
    "    return pred"
   ]
  },
  {
   "cell_type": "code",
   "execution_count": 30,
   "id": "0acfecaf",
   "metadata": {},
   "outputs": [
    {
     "name": "stdout",
     "output_type": "stream",
     "text": [
      "predicted price (MSRP) is 222347.22\n"
     ]
    }
   ],
   "source": [
    "# we need to do exponent because before we ran log1p\n",
    "predicted_price = np.expm1(g(xi))\n",
    "print(f'predicted price (MSRP) is {predicted_price:.2f}')"
   ]
  },
  {
   "cell_type": "markdown",
   "id": "ae72c42d",
   "metadata": {},
   "source": [
    "## 2.6 Linear Regression: Vector Form\n",
    "\n",
    "We already looked at what the function g could look like for a single vector (specific car), now we want to make this more general so can use it on all our data."
   ]
  },
  {
   "cell_type": "code",
   "execution_count": 31,
   "id": "af24e439",
   "metadata": {},
   "outputs": [],
   "source": [
    "# the inner part of previous function essentially was the dot product so we can go ahead and extract this out\n",
    "def dot(xi, w):\n",
    "    n = len(xi)\n",
    "    \n",
    "    result = 0.0\n",
    "    \n",
    "    for j in range(n):\n",
    "        result += xi[j] * w[j]\n",
    "    \n",
    "    return result\n",
    "\n",
    "\n",
    "def linear_regression(xi):\n",
    "    return w0 + dot(xi, w)"
   ]
  },
  {
   "cell_type": "markdown",
   "id": "aecddf67",
   "metadata": {},
   "source": [
    "If we add 1 to the start of `xi` and prepend `w0` to `w` we can then only run `xi.dot(w)`"
   ]
  },
  {
   "cell_type": "markdown",
   "id": "bf3c8220",
   "metadata": {},
   "source": [
    "<img src=\"data/imgs/linear_regression.png\"\n",
    "     alt=\"linear regression\"\n",
    "     width=400\n",
    "     style=\"float: left\"/>"
   ]
  },
  {
   "cell_type": "code",
   "execution_count": 32,
   "id": "f37e54fd",
   "metadata": {},
   "outputs": [],
   "source": [
    "w0 = 7.17\n",
    "w = [0.01, 0.04, 0.002]\n",
    "w_new = [w0] + w"
   ]
  },
  {
   "cell_type": "code",
   "execution_count": 33,
   "id": "1343c854",
   "metadata": {},
   "outputs": [
    {
     "data": {
      "text/plain": [
       "array([[   1,  148,   24, 1385],\n",
       "       [   1,  132,   25, 2031],\n",
       "       [   1,  453,   11,   86]])"
      ]
     },
     "execution_count": 33,
     "metadata": {},
     "output_type": "execute_result"
    }
   ],
   "source": [
    "x1  = [1, 148, 24, 1385]\n",
    "x2  = [1, 132, 25, 2031]\n",
    "x10 = [1, 453, 11, 86]\n",
    "\n",
    "X = [x1, x2, x10]\n",
    "X = np.array(X)\n",
    "X"
   ]
  },
  {
   "cell_type": "code",
   "execution_count": 34,
   "id": "3f1083af",
   "metadata": {},
   "outputs": [],
   "source": [
    "def linear_regression_with_numpy(xi):\n",
    "    return xi.dot(w_new)"
   ]
  },
  {
   "cell_type": "code",
   "execution_count": 35,
   "id": "c84934b4",
   "metadata": {},
   "outputs": [
    {
     "data": {
      "text/plain": [
       "array([12.38 , 13.552, 12.312])"
      ]
     },
     "execution_count": 35,
     "metadata": {},
     "output_type": "execute_result"
    }
   ],
   "source": [
    "linear_regression_with_numpy(X)"
   ]
  },
  {
   "cell_type": "markdown",
   "id": "3ef9422f",
   "metadata": {},
   "source": [
    "## 2.7 Training a linear regression model"
   ]
  },
  {
   "cell_type": "markdown",
   "id": "93fe157e",
   "metadata": {},
   "source": [
    "How to create the weights ❓"
   ]
  },
  {
   "cell_type": "markdown",
   "id": "9877f54c",
   "metadata": {},
   "source": [
    "`X * w = y`  \n",
    "\n",
    "`w` is then the closest solution to this equation (this requires a substantial amount of math to actualy prove)  \n",
    "\n",
    "`X.T * X` = Identity Matrix or close to it  \n",
    "\n",
    "`w = X.T * y`  \n",
    "\n",
    "`(X.T * X) * w == w`  \n",
    "\n",
    "so we are left with:  \n",
    "\n",
    "`w = (X.T * X).inverse * X.T * y`  \n",
    "\n",
    "In code:\n",
    "`w = XTX_inv.dot(X.T).dot(y)`\n",
    "\n",
    "NOTE: sometimes we won't be able to get the inverse of a matrix"
   ]
  },
  {
   "cell_type": "code",
   "execution_count": 36,
   "id": "1bbe79d8",
   "metadata": {},
   "outputs": [
    {
     "data": {
      "text/plain": [
       "array([[ 148,   24, 1385],\n",
       "       [ 132,   25, 2031],\n",
       "       [ 453,   11,   86],\n",
       "       [ 158,   24,  185],\n",
       "       [ 172,   25,  201],\n",
       "       [ 413,   11,   86],\n",
       "       [  38,   54,  185],\n",
       "       [ 142,   25,  431],\n",
       "       [ 453,   31,   86]])"
      ]
     },
     "execution_count": 36,
     "metadata": {},
     "output_type": "execute_result"
    }
   ],
   "source": [
    "\n",
    "X = [\n",
    "    [148, 24, 1385],\n",
    "    [132, 25, 2031],\n",
    "    [453, 11, 86],\n",
    "    [158, 24, 185],\n",
    "    [172, 25, 201],\n",
    "    [413, 11, 86],\n",
    "    [38,  54, 185],\n",
    "    [142, 25, 431],\n",
    "    [453, 31, 86],\n",
    "]\n",
    "\n",
    "X = np.array(X)\n",
    "X"
   ]
  },
  {
   "cell_type": "code",
   "execution_count": 37,
   "id": "2e6f7d86",
   "metadata": {},
   "outputs": [],
   "source": [
    "ones = np.ones(X.shape[0])"
   ]
  },
  {
   "cell_type": "code",
   "execution_count": 38,
   "id": "85f1286b",
   "metadata": {},
   "outputs": [
    {
     "data": {
      "text/plain": [
       "array([[1.000e+00, 1.480e+02, 2.400e+01, 1.385e+03],\n",
       "       [1.000e+00, 1.320e+02, 2.500e+01, 2.031e+03],\n",
       "       [1.000e+00, 4.530e+02, 1.100e+01, 8.600e+01],\n",
       "       [1.000e+00, 1.580e+02, 2.400e+01, 1.850e+02],\n",
       "       [1.000e+00, 1.720e+02, 2.500e+01, 2.010e+02],\n",
       "       [1.000e+00, 4.130e+02, 1.100e+01, 8.600e+01],\n",
       "       [1.000e+00, 3.800e+01, 5.400e+01, 1.850e+02],\n",
       "       [1.000e+00, 1.420e+02, 2.500e+01, 4.310e+02],\n",
       "       [1.000e+00, 4.530e+02, 3.100e+01, 8.600e+01]])"
      ]
     },
     "execution_count": 38,
     "metadata": {},
     "output_type": "execute_result"
    }
   ],
   "source": [
    "# add ones column to X matrix\n",
    "X = np.column_stack([ones, X])\n",
    "X"
   ]
  },
  {
   "cell_type": "code",
   "execution_count": 39,
   "id": "ca0f844e",
   "metadata": {},
   "outputs": [],
   "source": [
    "# define our y for this example\n",
    "y = [10000, 20000, 15000, 20050, 10000, 20000, 15000, 25000, 12000]"
   ]
  },
  {
   "cell_type": "code",
   "execution_count": 40,
   "id": "dc32695e",
   "metadata": {},
   "outputs": [
    {
     "data": {
      "text/plain": [
       "array([[1.000e+00, 1.480e+02, 2.400e+01, 1.385e+03],\n",
       "       [1.000e+00, 1.320e+02, 2.500e+01, 2.031e+03],\n",
       "       [1.000e+00, 4.530e+02, 1.100e+01, 8.600e+01],\n",
       "       [1.000e+00, 1.580e+02, 2.400e+01, 1.850e+02],\n",
       "       [1.000e+00, 1.720e+02, 2.500e+01, 2.010e+02],\n",
       "       [1.000e+00, 4.130e+02, 1.100e+01, 8.600e+01],\n",
       "       [1.000e+00, 3.800e+01, 5.400e+01, 1.850e+02],\n",
       "       [1.000e+00, 1.420e+02, 2.500e+01, 4.310e+02],\n",
       "       [1.000e+00, 4.530e+02, 3.100e+01, 8.600e+01]])"
      ]
     },
     "execution_count": 40,
     "metadata": {},
     "output_type": "execute_result"
    }
   ],
   "source": [
    "X"
   ]
  },
  {
   "cell_type": "code",
   "execution_count": 41,
   "id": "1e6b294f",
   "metadata": {},
   "outputs": [],
   "source": [
    "XTX = X.T.dot(X)"
   ]
  },
  {
   "cell_type": "code",
   "execution_count": 42,
   "id": "04b706ba",
   "metadata": {},
   "outputs": [],
   "source": [
    "XTX_inv = np.linalg.inv(XTX)"
   ]
  },
  {
   "cell_type": "code",
   "execution_count": 43,
   "id": "273a6b06",
   "metadata": {},
   "outputs": [],
   "source": [
    "w_full = XTX_inv.dot(X.T).dot(y)"
   ]
  },
  {
   "cell_type": "code",
   "execution_count": 44,
   "id": "96c612bd",
   "metadata": {},
   "outputs": [],
   "source": [
    "w0 = w_full[0]\n",
    "w = w_full[1:]"
   ]
  },
  {
   "cell_type": "code",
   "execution_count": 45,
   "id": "f1f5f4be",
   "metadata": {},
   "outputs": [
    {
     "data": {
      "text/plain": [
       "(25844.754055766833, array([ -16.08906468, -199.47254894,   -1.22802883]))"
      ]
     },
     "execution_count": 45,
     "metadata": {},
     "output_type": "execute_result"
    }
   ],
   "source": [
    "w0, w"
   ]
  },
  {
   "cell_type": "code",
   "execution_count": 46,
   "id": "7c3c88dc",
   "metadata": {},
   "outputs": [],
   "source": [
    "def train_linear_regression(X, y):\n",
    "    ones = np.ones(X.shape[0])\n",
    "    X = np.column_stack([ones, X])\n",
    "    \n",
    "    XTX = X.T.dot(X)\n",
    "    XTX_inv = np.linalg.inv(XTX)\n",
    "    w_full = XTX_inv.dot(X.T).dot(y)\n",
    "    \n",
    "    return w_full[0], w_full[1:]"
   ]
  },
  {
   "cell_type": "code",
   "execution_count": 47,
   "id": "00470c62",
   "metadata": {},
   "outputs": [],
   "source": [
    "X = [\n",
    "    [148, 24, 1385],\n",
    "    [132, 25, 2031],\n",
    "    [453, 11, 86],\n",
    "    [158, 24, 185],\n",
    "    [172, 25, 201],\n",
    "    [413, 11, 86],\n",
    "    [38,  54, 185],\n",
    "    [142, 25, 431],\n",
    "    [453, 31, 86],\n",
    "]\n",
    "\n",
    "X = np.array(X)"
   ]
  },
  {
   "cell_type": "code",
   "execution_count": 48,
   "id": "4cb56079",
   "metadata": {},
   "outputs": [
    {
     "data": {
      "text/plain": [
       "(25844.754055766833, array([ -16.08906468, -199.47254894,   -1.22802883]))"
      ]
     },
     "execution_count": 48,
     "metadata": {},
     "output_type": "execute_result"
    }
   ],
   "source": [
    "train_linear_regression(X, y)"
   ]
  },
  {
   "cell_type": "markdown",
   "id": "6a95cf14",
   "metadata": {},
   "source": [
    "🎉 we have our `w`s, next to try this on our car data!"
   ]
  },
  {
   "cell_type": "markdown",
   "id": "aa1d78df",
   "metadata": {},
   "source": [
    "## 2.8 Build Car price baseline model\n",
    "\n"
   ]
  },
  {
   "cell_type": "code",
   "execution_count": 49,
   "id": "a8a61d2e",
   "metadata": {},
   "outputs": [],
   "source": [
    "# lets take only the numerical columns as features\n",
    "features = ['engine_hp', 'city_mpg', 'popularity', 'engine_cylinders', 'highway_mpg']"
   ]
  },
  {
   "cell_type": "code",
   "execution_count": 50,
   "id": "26c2ebb0",
   "metadata": {},
   "outputs": [],
   "source": [
    "X_train = df_train[features].fillna(0).values\n",
    "# fill none values with zero which means we will get Xi * wi which means this feature will be ignored\n",
    "# this might not always make sense practically, ie we wouldn't have zero cylinders in a car\n",
    "# alternatives might be filling it with a min or mean value\n",
    "# .values gets us the numpy array"
   ]
  },
  {
   "cell_type": "code",
   "execution_count": 51,
   "id": "d20892b7",
   "metadata": {},
   "outputs": [],
   "source": [
    "w0, w = train_linear_regression(X_train, y_train)"
   ]
  },
  {
   "cell_type": "code",
   "execution_count": 52,
   "id": "fa349f02",
   "metadata": {},
   "outputs": [
    {
     "data": {
      "text/plain": [
       "(7.92725738807008,\n",
       " array([ 9.70589522e-03,  1.49441072e-02, -9.06908672e-06, -1.59103494e-01,\n",
       "         1.43792133e-02]))"
      ]
     },
     "execution_count": 52,
     "metadata": {},
     "output_type": "execute_result"
    }
   ],
   "source": [
    "w0, w"
   ]
  },
  {
   "cell_type": "markdown",
   "id": "54916c5b",
   "metadata": {},
   "source": [
    "Now we can use these weights to predict prices!"
   ]
  },
  {
   "cell_type": "code",
   "execution_count": 53,
   "id": "896f8325",
   "metadata": {},
   "outputs": [],
   "source": [
    "y_pred = w0 + X_train.dot(w)"
   ]
  },
  {
   "cell_type": "markdown",
   "id": "54e13c02",
   "metadata": {},
   "source": [
    "Let's plot the predictions against the true value"
   ]
  },
  {
   "cell_type": "code",
   "execution_count": 54,
   "id": "047be60a",
   "metadata": {},
   "outputs": [
    {
     "data": {
      "text/plain": [
       "<AxesSubplot:ylabel='Count'>"
      ]
     },
     "execution_count": 54,
     "metadata": {},
     "output_type": "execute_result"
    },
    {
     "data": {
      "image/png": "[encoded data removed]",
      "text/plain": [
       "<Figure size 432x288 with 1 Axes>"
      ]
     },
     "metadata": {
      "needs_background": "light"
     },
     "output_type": "display_data"
    }
   ],
   "source": [
    "sns.histplot(y_pred, color=\"red\", alpha=0.5, bins=50)\n",
    "sns.histplot(y_train, color=\"blue\", alpha=0.5, bins=50)"
   ]
  },
  {
   "cell_type": "markdown",
   "id": "b37e1423",
   "metadata": {},
   "source": [
    "We see that the predictions (red) are not completely matching the actually prices (blue), in general it predicts a lower price."
   ]
  },
  {
   "cell_type": "markdown",
   "id": "89591fd8",
   "metadata": {},
   "source": [
    "## 2.9 RMSE (Root Square Mean Error)\n",
    "\n",
    "### Evaluating regression models"
   ]
  },
  {
   "cell_type": "markdown",
   "id": "97d51fdb",
   "metadata": {},
   "source": [
    "`RMSE = AVG(g(Xi) - yi)^2)`\n",
    "\n",
    "where `y` is the actual value and `g(xi)` is the prediction for `xi`\n",
    "\n",
    "- we look at the difference between the prediction and the actual value to get the error value\n",
    "- we square this error value\n",
    "- we take the average value for this square error\n",
    "- we take the square root of this to get the Root square mean error"
   ]
  },
  {
   "cell_type": "code",
   "execution_count": 55,
   "id": "88d22933",
   "metadata": {},
   "outputs": [],
   "source": [
    "def rmse(y, y_pred):\n",
    "    err = y - y_pred\n",
    "    se = err ** 2\n",
    "    mse = se.mean()\n",
    "    return np.sqrt(mse)"
   ]
  },
  {
   "cell_type": "code",
   "execution_count": 56,
   "id": "17f9313d",
   "metadata": {},
   "outputs": [
    {
     "data": {
      "text/plain": [
       "0.7554192603920132"
      ]
     },
     "execution_count": 56,
     "metadata": {},
     "output_type": "execute_result"
    }
   ],
   "source": [
    "rmse(y_train, y_pred)"
   ]
  },
  {
   "cell_type": "markdown",
   "id": "f7f70cff",
   "metadata": {},
   "source": [
    "## 2.10 Validating the model\n",
    "\n",
    "We are now ready to test our model on our validation data and evaulate the model.\n",
    "\n",
    "First we need a way to prepare the data for training regardless of if it is the train, test or validation data set.\n"
   ]
  },
  {
   "cell_type": "code",
   "execution_count": 57,
   "id": "159e7b2e",
   "metadata": {},
   "outputs": [],
   "source": [
    "features = ['engine_hp', 'city_mpg', 'popularity', 'engine_cylinders', 'highway_mpg']\n",
    "\n",
    "def prepare_X(df):\n",
    "    df_num = df[features]\n",
    "    df_num = df_num.fillna(0)\n",
    "    X = df_num.values\n",
    "    return X  "
   ]
  },
  {
   "cell_type": "code",
   "execution_count": 58,
   "id": "ac75633a",
   "metadata": {},
   "outputs": [
    {
     "data": {
      "text/plain": [
       "0.7616530991301592"
      ]
     },
     "execution_count": 58,
     "metadata": {},
     "output_type": "execute_result"
    }
   ],
   "source": [
    "X_train = prepare_X(df_train)\n",
    "w0, w = train_linear_regression(X_train, y_train)\n",
    "\n",
    "X_val = prepare_X(df_val)\n",
    "y_pred = w0 + X_val.dot(w)\n",
    "\n",
    "rmse(y_val, y_pred)"
   ]
  },
  {
   "cell_type": "markdown",
   "id": "9c292ad6",
   "metadata": {},
   "source": [
    "## 2.11 Simple feature engineering\n",
    "\n",
    "Let's look at some of the features (columns) we didn't use yet. Probably most important here would be the year. This we know practically has an impact on the price of a car. We should look at the age in relation to the year the data was collected. "
   ]
  },
  {
   "cell_type": "code",
   "execution_count": 59,
   "id": "bddf762f",
   "metadata": {},
   "outputs": [],
   "source": [
    "base_features = ['engine_hp', 'city_mpg', 'popularity', 'engine_cylinders', 'highway_mpg']\n",
    "year_data_collected = 2017\n",
    "\n",
    "def prepare_X(df):\n",
    "    # we don't want to modify the original dataframe!!\n",
    "    df = df.copy()\n",
    "    \n",
    "    df['age'] = 2017 - df.year\n",
    "    features = base_features + ['age']\n",
    "    \n",
    "    df_num = df[features]\n",
    "    df_num = df_num.fillna(0)\n",
    "    X = df_num.values\n",
    "    return X  "
   ]
  },
  {
   "cell_type": "code",
   "execution_count": 60,
   "id": "8b51bf92",
   "metadata": {},
   "outputs": [
    {
     "data": {
      "text/plain": [
       "0.5172055461058302"
      ]
     },
     "execution_count": 60,
     "metadata": {},
     "output_type": "execute_result"
    }
   ],
   "source": [
    "X_train = prepare_X(df_train)\n",
    "w0, w = train_linear_regression(X_train, y_train)\n",
    "\n",
    "X_val = prepare_X(df_val)\n",
    "y_pred = w0 + X_val.dot(w)\n",
    "\n",
    "rmse(y_val, y_pred)"
   ]
  },
  {
   "cell_type": "markdown",
   "id": "ce76f231",
   "metadata": {},
   "source": [
    "We see here our model has improved in accuracy from 0.71 to 0.51"
   ]
  },
  {
   "cell_type": "code",
   "execution_count": 61,
   "id": "74531e61",
   "metadata": {},
   "outputs": [
    {
     "data": {
      "text/plain": [
       "<AxesSubplot:ylabel='Count'>"
      ]
     },
     "execution_count": 61,
     "metadata": {},
     "output_type": "execute_result"
    },
    {
     "data": {
      "image/png": "[encoded data removed]",
      "text/plain": [
       "<Figure size 432x288 with 1 Axes>"
      ]
     },
     "metadata": {
      "needs_background": "light"
     },
     "output_type": "display_data"
    }
   ],
   "source": [
    "sns.histplot(y_pred, color=\"red\", alpha=0.5, bins=50)\n",
    "sns.histplot(y_val, color=\"blue\", alpha=0.5, bins=50)"
   ]
  },
  {
   "cell_type": "markdown",
   "id": "7bb874d4",
   "metadata": {},
   "source": [
    "🎉 Our curve is now closer! Though there are still some misses."
   ]
  },
  {
   "cell_type": "markdown",
   "id": "4f7d0843",
   "metadata": {},
   "source": [
    "## 2.12 Categorical variables\n",
    "\n",
    "Car doors looks numerical however it is categorical because we have different types of cars, 2 door, 3 door, 4 door etc We can encode such values by having a column per category and putting either a 1 (to indicate it is of that category) or a 0. This is called one hot encoding."
   ]
  },
  {
   "cell_type": "code",
   "execution_count": 62,
   "id": "2e03ed92",
   "metadata": {},
   "outputs": [
    {
     "data": {
      "text/plain": [
       "2735     0\n",
       "6720     1\n",
       "5878     1\n",
       "11190    0\n",
       "4554     1\n",
       "        ..\n",
       "434      0\n",
       "1902     0\n",
       "9334     1\n",
       "5284     1\n",
       "2420     1\n",
       "Name: number_of_doors, Length: 7150, dtype: int64"
      ]
     },
     "execution_count": 62,
     "metadata": {},
     "output_type": "execute_result"
    }
   ],
   "source": [
    "(df_train.number_of_doors == 4).astype('int') # this returns a boolean so putting it to type int makes it numerical (0 or 1)"
   ]
  },
  {
   "cell_type": "code",
   "execution_count": 63,
   "id": "4b1b5b52",
   "metadata": {},
   "outputs": [
    {
     "data": {
      "text/plain": [
       "array([2., 4., 3.])"
      ]
     },
     "execution_count": 63,
     "metadata": {},
     "output_type": "execute_result"
    }
   ],
   "source": [
    "df_train.number_of_doors.dropna().unique()"
   ]
  },
  {
   "cell_type": "code",
   "execution_count": 64,
   "id": "ec189a1f",
   "metadata": {},
   "outputs": [
    {
     "name": "stderr",
     "output_type": "stream",
     "text": [
      "/tmp/ipykernel_328/2081740666.py:2: SettingWithCopyWarning: \n",
      "A value is trying to be set on a copy of a slice from a DataFrame.\n",
      "Try using .loc[row_indexer,col_indexer] = value instead\n",
      "\n",
      "See the caveats in the documentation: https://pandas.pydata.org/pandas-docs/stable/user_guide/indexing.html#returning-a-view-versus-a-copy\n",
      "  df_train['num_of_doors_%s' % v] = (df_train.number_of_doors == v).astype('int')\n"
     ]
    }
   ],
   "source": [
    "for v in df_train.number_of_doors.dropna().unique():\n",
    "    df_train['num_of_doors_%s' % v] = (df_train.number_of_doors == v).astype('int') "
   ]
  },
  {
   "cell_type": "markdown",
   "id": "70ef29f1",
   "metadata": {},
   "source": [
    "Let's add this to our data preparation"
   ]
  },
  {
   "cell_type": "code",
   "execution_count": 65,
   "id": "582852a1",
   "metadata": {},
   "outputs": [],
   "source": [
    "base_features = ['engine_hp', 'city_mpg', 'popularity', 'engine_cylinders', 'highway_mpg']\n",
    "year_data_collected = 2017\n",
    "\n",
    "def prepare_X(df):\n",
    "    # we don't want to modify the original dataframe!!\n",
    "    df = df.copy()\n",
    "    features = base_features.copy()\n",
    "    \n",
    "    df['age'] = 2017 - df.year\n",
    "    features.append('age')\n",
    "    \n",
    "    for v in df.number_of_doors.dropna().unique(): # exclude any nan values\n",
    "        feature_name = 'num_of_doors_%s' % v\n",
    "        df[feature_name] = (df.number_of_doors == v).astype('int')\n",
    "        features.append(feature_name)\n",
    "    \n",
    "    df_num = df[features]\n",
    "    df_num = df_num.fillna(0)\n",
    "    X = df_num.values\n",
    "    return X  \n"
   ]
  },
  {
   "cell_type": "code",
   "execution_count": 66,
   "id": "9d7d81e8",
   "metadata": {},
   "outputs": [
    {
     "data": {
      "text/plain": [
       "0.5174578807554217"
      ]
     },
     "execution_count": 66,
     "metadata": {},
     "output_type": "execute_result"
    }
   ],
   "source": [
    "X_train = prepare_X(df_train)\n",
    "w0, w = train_linear_regression(X_train, y_train)\n",
    "\n",
    "X_val = prepare_X(df_val)\n",
    "y_pred = w0 + X_val.dot(w)\n",
    "\n",
    "rmse(y_val, y_pred)"
   ]
  },
  {
   "cell_type": "markdown",
   "id": "03d798cd",
   "metadata": {},
   "source": [
    "This is pretty much the same as what we had before (0.5172055461058302) suggesting that the number of car doors as a feature doesn't have much impact on our predictions. What about Make?"
   ]
  },
  {
   "cell_type": "code",
   "execution_count": 67,
   "id": "83c9776f",
   "metadata": {},
   "outputs": [
    {
     "data": {
      "text/plain": [
       "['chevrolet', 'ford', 'volkswagen', 'toyota', 'dodge']"
      ]
     },
     "execution_count": 67,
     "metadata": {},
     "output_type": "execute_result"
    }
   ],
   "source": [
    "list(df_train.make.value_counts().head().index)"
   ]
  },
  {
   "cell_type": "code",
   "execution_count": 68,
   "id": "e5088a5f",
   "metadata": {},
   "outputs": [
    {
     "data": {
      "text/plain": [
       "{'make': ['chevrolet', 'ford', 'volkswagen', 'toyota', 'dodge'],\n",
       " 'model': ['silverado_1500', 'tundra', 'f-150', 'sierra_1500', 'tacoma'],\n",
       " 'engine_fuel_type': ['regular_unleaded',\n",
       "  'premium_unleaded_(required)',\n",
       "  'premium_unleaded_(recommended)',\n",
       "  'flex-fuel_(unleaded/e85)',\n",
       "  'diesel'],\n",
       " 'driven_wheels': ['front_wheel_drive',\n",
       "  'rear_wheel_drive',\n",
       "  'all_wheel_drive',\n",
       "  'four_wheel_drive'],\n",
       " 'market_category': ['crossover',\n",
       "  'flex_fuel',\n",
       "  'luxury',\n",
       "  'hatchback',\n",
       "  'luxury,performance'],\n",
       " 'vehicle_size': ['compact', 'midsize', 'large'],\n",
       " 'vehicle_style': ['sedan',\n",
       "  '4dr_suv',\n",
       "  'coupe',\n",
       "  'convertible',\n",
       "  '4dr_hatchback']}"
      ]
     },
     "execution_count": 68,
     "metadata": {},
     "output_type": "execute_result"
    }
   ],
   "source": [
    "# Lets take all other categorical columns and create a dictionary with their top 5 values\n",
    "categorical_columns = [\n",
    "    'make', 'model', 'engine_fuel_type', 'driven_wheels', 'market_category',\n",
    "    'vehicle_size', 'vehicle_style']\n",
    "\n",
    "categorical = {}\n",
    "\n",
    "for c in categorical_columns:\n",
    "    categorical[c] = list(df_train[c].value_counts().head().index)\n",
    "    \n",
    "categorical"
   ]
  },
  {
   "cell_type": "markdown",
   "id": "9757bea5",
   "metadata": {},
   "source": [
    "We can now add this to our data preparation as we did with the no. of car doors"
   ]
  },
  {
   "cell_type": "code",
   "execution_count": 69,
   "id": "748029f2",
   "metadata": {},
   "outputs": [],
   "source": [
    "base_features = ['engine_hp', 'city_mpg', 'popularity', 'engine_cylinders', 'highway_mpg']\n",
    "year_data_collected = 2017\n",
    "\n",
    "def prepare_X(df):\n",
    "    # we don't want to modify the original dataframe!!\n",
    "    df = df.copy()\n",
    "    features = base_features.copy()\n",
    "    \n",
    "    df['age'] = 2017 - df.year\n",
    "    features.append('age')\n",
    "    \n",
    "    for v in df.number_of_doors.dropna().unique(): # exclude any nan values\n",
    "        feature_name = 'num_of_doors_%s' % v\n",
    "        df[feature_name] = (df.number_of_doors == v).astype('int')\n",
    "        features.append(feature_name)\n",
    "    \n",
    "    for name, values in categorical.items():\n",
    "        for value in values:\n",
    "            df['%s_%s' % (name, value)] = (df[name] == value).astype(int)\n",
    "            features.append('%s_%s' % (name, value))\n",
    "    \n",
    "    df_num = df[features]\n",
    "    df_num = df_num.fillna(0)\n",
    "    X = df_num.values\n",
    "    return X  \n"
   ]
  },
  {
   "cell_type": "code",
   "execution_count": 70,
   "id": "d4736fa5",
   "metadata": {},
   "outputs": [
    {
     "data": {
      "text/plain": [
       "36.01183813716153"
      ]
     },
     "execution_count": 70,
     "metadata": {},
     "output_type": "execute_result"
    }
   ],
   "source": [
    "X_train = prepare_X(df_train)\n",
    "w0, w = train_linear_regression(X_train, y_train)\n",
    "\n",
    "X_val = prepare_X(df_val)\n",
    "y_pred = w0 + X_val.dot(w)\n",
    "\n",
    "rmse(y_val, y_pred)"
   ]
  },
  {
   "cell_type": "markdown",
   "id": "6233315d",
   "metadata": {},
   "source": [
    "🤔 What has happened we now have a vastly higher RMSE!Our model is now much worse than before."
   ]
  },
  {
   "cell_type": "markdown",
   "id": "10e57581",
   "metadata": {},
   "source": [
    "## 2.13 Regularisation"
   ]
  },
  {
   "cell_type": "code",
   "execution_count": 71,
   "id": "aa0ca345",
   "metadata": {},
   "outputs": [
    {
     "data": {
      "text/plain": [
       "(-1653768488658528.5,\n",
       " array([-2.17620836e-01, -3.17528119e+00,  1.87991396e-04, -2.95435186e+00,\n",
       "        -1.67217385e+00, -2.29527593e+00, -1.02747245e+03, -1.03750678e+03,\n",
       "        -1.06138227e+03, -4.27034583e+00, -5.54270950e+00, -6.91484749e+00,\n",
       "         3.27039352e+01, -3.35543763e+00, -5.36399139e+00, -4.54479510e+01,\n",
       "         7.77179361e-01, -1.13821598e+01, -2.12636107e+02, -2.49864166e+02,\n",
       "        -2.34052257e+02, -2.48469933e+02, -2.47455678e+02, -2.49667915e+02,\n",
       "         1.65376849e+15,  1.65376849e+15,  1.65376849e+15,  1.65376849e+15,\n",
       "        -3.66004221e+00, -6.08046827e-01, -3.19458927e+00, -4.80580855e+00,\n",
       "        -3.97715041e+00, -8.70323183e+00, -5.12511738e+00, -8.81732390e+00,\n",
       "        -1.44115660e-01, -2.62579827e-02,  1.75913981e-01,  3.65037816e-01,\n",
       "        -2.90235596e-01]))"
      ]
     },
     "execution_count": 71,
     "metadata": {},
     "output_type": "execute_result"
    }
   ],
   "source": [
    "w0, w"
   ]
  },
  {
   "cell_type": "markdown",
   "id": "0116f2cf",
   "metadata": {},
   "source": [
    "We see that `w0` is a huge negative number! This can happen when we have duplicate columns."
   ]
  },
  {
   "cell_type": "code",
   "execution_count": 72,
   "id": "3ccba432",
   "metadata": {},
   "outputs": [],
   "source": [
    "# note that column 2 and 3 are the same!\n",
    "A = [\n",
    "    [4,4,4],\n",
    "    [3,5,5],\n",
    "    [5,1,1],\n",
    "    [5,4,4],\n",
    "    [7,5,5],\n",
    "    [4,5,5]\n",
    "]\n",
    "A = np.array(A)"
   ]
  },
  {
   "cell_type": "code",
   "execution_count": 73,
   "id": "428df26a",
   "metadata": {},
   "outputs": [
    {
     "data": {
      "text/plain": [
       "array([[140, 111, 111],\n",
       "       [111, 108, 108],\n",
       "       [111, 108, 108]])"
      ]
     },
     "execution_count": 73,
     "metadata": {},
     "output_type": "execute_result"
    }
   ],
   "source": [
    "A.T.dot(A)\n",
    "# note that again column 2 and 3 are the same!"
   ]
  },
  {
   "cell_type": "markdown",
   "id": "7a7b4992",
   "metadata": {},
   "source": [
    "The inverse will therefore not exist because one column is a linear combination of other columns, which means it's possible to express column number 3 with other columns from the matrix (in this case column number 2) ie it's a duplicate. We will therefore get an error (`LinAlgError: Singular matrix`) when we try get the inverse with `np.linalg.inv(ATA)`.\n",
    "\n",
    "A way round this is to add a tiny bit of noise to our data to avoid matrices being singular (containing duplicates and therefore not possible to invert). This is normally done by adding a small value to each value on the diagonal."
   ]
  },
  {
   "cell_type": "code",
   "execution_count": 74,
   "id": "d964dba1",
   "metadata": {},
   "outputs": [
    {
     "ename": "LinAlgError",
     "evalue": "Singular matrix",
     "output_type": "error",
     "traceback": [
      "\u001b[0;31m---------------------------------------------------------------------------\u001b[0m",
      "\u001b[0;31mLinAlgError\u001b[0m                               Traceback (most recent call last)",
      "\u001b[0;32m/tmp/ipykernel_328/3813492918.py\u001b[0m in \u001b[0;36m<module>\u001b[0;34m\u001b[0m\n\u001b[1;32m      5\u001b[0m ]\n\u001b[1;32m      6\u001b[0m \u001b[0mATA\u001b[0m \u001b[0;34m=\u001b[0m \u001b[0mnp\u001b[0m\u001b[0;34m.\u001b[0m\u001b[0marray\u001b[0m\u001b[0;34m(\u001b[0m\u001b[0mATA\u001b[0m\u001b[0;34m)\u001b[0m\u001b[0;34m\u001b[0m\u001b[0;34m\u001b[0m\u001b[0m\n\u001b[0;32m----> 7\u001b[0;31m \u001b[0mnp\u001b[0m\u001b[0;34m.\u001b[0m\u001b[0mlinalg\u001b[0m\u001b[0;34m.\u001b[0m\u001b[0minv\u001b[0m\u001b[0;34m(\u001b[0m\u001b[0mATA\u001b[0m\u001b[0;34m)\u001b[0m\u001b[0;34m\u001b[0m\u001b[0;34m\u001b[0m\u001b[0m\n\u001b[0m",
      "\u001b[0;32m<__array_function__ internals>\u001b[0m in \u001b[0;36minv\u001b[0;34m(*args, **kwargs)\u001b[0m\n",
      "\u001b[0;32m/opt/conda/lib/python3.9/site-packages/numpy/linalg/linalg.py\u001b[0m in \u001b[0;36minv\u001b[0;34m(a)\u001b[0m\n\u001b[1;32m    543\u001b[0m     \u001b[0msignature\u001b[0m \u001b[0;34m=\u001b[0m \u001b[0;34m'D->D'\u001b[0m \u001b[0;32mif\u001b[0m \u001b[0misComplexType\u001b[0m\u001b[0;34m(\u001b[0m\u001b[0mt\u001b[0m\u001b[0;34m)\u001b[0m \u001b[0;32melse\u001b[0m \u001b[0;34m'd->d'\u001b[0m\u001b[0;34m\u001b[0m\u001b[0;34m\u001b[0m\u001b[0m\n\u001b[1;32m    544\u001b[0m     \u001b[0mextobj\u001b[0m \u001b[0;34m=\u001b[0m \u001b[0mget_linalg_error_extobj\u001b[0m\u001b[0;34m(\u001b[0m\u001b[0m_raise_linalgerror_singular\u001b[0m\u001b[0;34m)\u001b[0m\u001b[0;34m\u001b[0m\u001b[0;34m\u001b[0m\u001b[0m\n\u001b[0;32m--> 545\u001b[0;31m     \u001b[0mainv\u001b[0m \u001b[0;34m=\u001b[0m \u001b[0m_umath_linalg\u001b[0m\u001b[0;34m.\u001b[0m\u001b[0minv\u001b[0m\u001b[0;34m(\u001b[0m\u001b[0ma\u001b[0m\u001b[0;34m,\u001b[0m \u001b[0msignature\u001b[0m\u001b[0;34m=\u001b[0m\u001b[0msignature\u001b[0m\u001b[0;34m,\u001b[0m \u001b[0mextobj\u001b[0m\u001b[0;34m=\u001b[0m\u001b[0mextobj\u001b[0m\u001b[0;34m)\u001b[0m\u001b[0;34m\u001b[0m\u001b[0;34m\u001b[0m\u001b[0m\n\u001b[0m\u001b[1;32m    546\u001b[0m     \u001b[0;32mreturn\u001b[0m \u001b[0mwrap\u001b[0m\u001b[0;34m(\u001b[0m\u001b[0mainv\u001b[0m\u001b[0;34m.\u001b[0m\u001b[0mastype\u001b[0m\u001b[0;34m(\u001b[0m\u001b[0mresult_t\u001b[0m\u001b[0;34m,\u001b[0m \u001b[0mcopy\u001b[0m\u001b[0;34m=\u001b[0m\u001b[0;32mFalse\u001b[0m\u001b[0;34m)\u001b[0m\u001b[0;34m)\u001b[0m\u001b[0;34m\u001b[0m\u001b[0;34m\u001b[0m\u001b[0m\n\u001b[1;32m    547\u001b[0m \u001b[0;34m\u001b[0m\u001b[0m\n",
      "\u001b[0;32m/opt/conda/lib/python3.9/site-packages/numpy/linalg/linalg.py\u001b[0m in \u001b[0;36m_raise_linalgerror_singular\u001b[0;34m(err, flag)\u001b[0m\n\u001b[1;32m     86\u001b[0m \u001b[0;34m\u001b[0m\u001b[0m\n\u001b[1;32m     87\u001b[0m \u001b[0;32mdef\u001b[0m \u001b[0m_raise_linalgerror_singular\u001b[0m\u001b[0;34m(\u001b[0m\u001b[0merr\u001b[0m\u001b[0;34m,\u001b[0m \u001b[0mflag\u001b[0m\u001b[0;34m)\u001b[0m\u001b[0;34m:\u001b[0m\u001b[0;34m\u001b[0m\u001b[0;34m\u001b[0m\u001b[0m\n\u001b[0;32m---> 88\u001b[0;31m     \u001b[0;32mraise\u001b[0m \u001b[0mLinAlgError\u001b[0m\u001b[0;34m(\u001b[0m\u001b[0;34m\"Singular matrix\"\u001b[0m\u001b[0;34m)\u001b[0m\u001b[0;34m\u001b[0m\u001b[0;34m\u001b[0m\u001b[0m\n\u001b[0m\u001b[1;32m     89\u001b[0m \u001b[0;34m\u001b[0m\u001b[0m\n\u001b[1;32m     90\u001b[0m \u001b[0;32mdef\u001b[0m \u001b[0m_raise_linalgerror_nonposdef\u001b[0m\u001b[0;34m(\u001b[0m\u001b[0merr\u001b[0m\u001b[0;34m,\u001b[0m \u001b[0mflag\u001b[0m\u001b[0;34m)\u001b[0m\u001b[0;34m:\u001b[0m\u001b[0;34m\u001b[0m\u001b[0;34m\u001b[0m\u001b[0m\n",
      "\u001b[0;31mLinAlgError\u001b[0m: Singular matrix"
     ]
    }
   ],
   "source": [
    "ATA = [\n",
    "    [4,4,4],\n",
    "    [3,5,5],\n",
    "    [5,1,1],\n",
    "]\n",
    "ATA = np.array(ATA)\n",
    "np.linalg.inv(ATA)"
   ]
  },
  {
   "cell_type": "code",
   "execution_count": 75,
   "id": "cdde6e08",
   "metadata": {},
   "outputs": [
    {
     "data": {
      "text/plain": [
       "array([[-7.51063924e-01,  5.00625845e-01,  5.00625845e-01],\n",
       "       [-2.75306668e+03,  2.00187747e+03,  1.00187747e+03],\n",
       "       [ 2.75406793e+03, -2.00237822e+03, -1.00237822e+03]])"
      ]
     },
     "execution_count": 75,
     "metadata": {},
     "output_type": "execute_result"
    }
   ],
   "source": [
    "ATA = [\n",
    "    [4.001,4,4],\n",
    "    [3,5.001,5],\n",
    "    [5,1,1.001],\n",
    "]\n",
    "ATA = np.array(ATA)\n",
    "np.linalg.inv(ATA)"
   ]
  },
  {
   "cell_type": "markdown",
   "id": "af863fff",
   "metadata": {},
   "source": [
    "Worth noting is that if we do this not on the diagonal we will see large values for some of the columns (features) which will give us problems with the model."
   ]
  },
  {
   "cell_type": "code",
   "execution_count": 76,
   "id": "2dc53d74",
   "metadata": {},
   "outputs": [
    {
     "data": {
      "text/plain": [
       "array([[4.011, 4.   , 4.   ],\n",
       "       [3.   , 5.011, 5.   ],\n",
       "       [5.   , 1.   , 1.011]])"
      ]
     },
     "execution_count": 76,
     "metadata": {},
     "output_type": "execute_result"
    }
   ],
   "source": [
    "ATA = ATA + 0.01 * np.eye(3) # 3 here is the width of the matrix\n",
    "ATA"
   ]
  },
  {
   "cell_type": "code",
   "execution_count": 77,
   "id": "086d4cdd",
   "metadata": {},
   "outputs": [
    {
     "data": {
      "text/plain": [
       "array([[  -0.76186213,    0.50697862,    0.50697862],\n",
       "       [-253.1090781 ,  183.72074585,   92.81165494],\n",
       "       [ 254.12303535, -184.22911867,  -93.32002776]])"
      ]
     },
     "execution_count": 77,
     "metadata": {},
     "output_type": "execute_result"
    }
   ],
   "source": [
    "np.linalg.inv(ATA)"
   ]
  },
  {
   "cell_type": "markdown",
   "id": "47e3035e",
   "metadata": {},
   "source": [
    "The larger the number on the diagonal the smaller the values of the inverse . This regularisation can be something we want to tune (ie it's a parameter for our model)\n",
    "\n",
    "Let's add this to our linear regression function."
   ]
  },
  {
   "cell_type": "code",
   "execution_count": 146,
   "id": "dd2a07c8",
   "metadata": {},
   "outputs": [],
   "source": [
    "def train_linear_regression_regularised(X, y, r=0.001):\n",
    "    ones = np.ones(X.shape[0])\n",
    "    X = np.column_stack([ones, X])\n",
    "    \n",
    "    XTX = X.T.dot(X)\n",
    "    XTX = XTX + r * np.eye(XTX.shape[0])\n",
    "    XTX_inv = np.linalg.inv(XTX)\n",
    "    w_full = XTX_inv.dot(X.T).dot(y)\n",
    "    \n",
    "    return w_full[0], w_full[1:]\n",
    "\n",
    "\n",
    "def prepare_X(df):\n",
    "    df = df.copy()\n",
    "    features = base_features.copy()\n",
    "    \n",
    "    df['age'] = 2017 - df['year']\n",
    "    features.append('age')\n",
    "    \n",
    "    no_of_door_cats = list(df.number_of_doors.dropna().astype(int).unique())\n",
    "    no_of_door_cats = [2,4,3] # WHY is this different from the above??\n",
    "\n",
    "    for v in no_of_door_cats :\n",
    "        df['num_doors_%d' % v] = (df.number_of_doors == v).astype(int)\n",
    "        features.append('num_doors_%d' % v)\n",
    "\n",
    "    for name, values in categorical.items():\n",
    "        for value in values:\n",
    "            df['%s_%s' % (name, value)] = (df[name] == value).astype(int)\n",
    "            features.append('%s_%s' % (name, value))\n",
    "\n",
    "    df_num = df[features]\n",
    "    df_num = df_num.fillna(0)\n",
    "    X = df_num.values\n",
    "\n",
    "    return X"
   ]
  },
  {
   "cell_type": "code",
   "execution_count": 147,
   "id": "d0a2f01f",
   "metadata": {},
   "outputs": [
    {
     "data": {
      "text/plain": [
       "0.46081585828284216"
      ]
     },
     "execution_count": 147,
     "metadata": {},
     "output_type": "execute_result"
    }
   ],
   "source": [
    "X_train = prepare_X(df_train)\n",
    "w0, w = train_linear_regression_regularised(X_train, y_train)\n",
    "\n",
    "X_val = prepare_X(df_val)\n",
    "y_pred = w0 + X_val.dot(w)\n",
    "\n",
    "rmse(y_val, y_pred)"
   ]
  },
  {
   "cell_type": "markdown",
   "id": "769239c6",
   "metadata": {},
   "source": [
    "### 🤔 Why does `list(df_train.number_of_doors.dropna().astype(int).unique())` and `[2,3,4]` differ and affect the model ⁉️"
   ]
  },
  {
   "cell_type": "code",
   "execution_count": 99,
   "id": "23dcf4f6",
   "metadata": {},
   "outputs": [
    {
     "data": {
      "text/plain": [
       "[2, 4, 3]"
      ]
     },
     "execution_count": 99,
     "metadata": {},
     "output_type": "execute_result"
    }
   ],
   "source": [
    "list(df_train.number_of_doors.dropna().astype(int).unique())"
   ]
  },
  {
   "cell_type": "markdown",
   "id": "eaa67ed2",
   "metadata": {},
   "source": [
    "For some reason my model returns a lower value for `rmse` (0.46081585828284216) when I hard code the list of no. of car door categories over dynamically building the list from the unique values in the column (0.5392811963534826)."
   ]
  },
  {
   "cell_type": "code",
   "execution_count": 148,
   "id": "29fa17ed",
   "metadata": {},
   "outputs": [],
   "source": [
    "def prepare_X_dynamic(df):\n",
    "    df = df.copy()\n",
    "    features = base_features.copy()\n",
    "    \n",
    "    df['age'] = 2017 - df['year']\n",
    "    features.append('age')\n",
    "    \n",
    "    no_of_door_cats = list(df.number_of_doors.dropna().astype(int).unique())\n",
    "\n",
    "    for v in no_of_door_cats :\n",
    "        df['num_doors_%d' % v] = (df.number_of_doors == v).astype(int)\n",
    "        features.append('num_doors_%d' % v)\n",
    "\n",
    "    for name, values in categorical.items():\n",
    "        for value in values:\n",
    "            df['%s_%s' % (name, value)] = (df[name] == value).astype(int)\n",
    "            features.append('%s_%s' % (name, value))\n",
    "\n",
    "    df_num = df[features]\n",
    "    df_num = df_num.fillna(0)\n",
    "    X = df_num.values\n",
    "\n",
    "    return X"
   ]
  },
  {
   "cell_type": "code",
   "execution_count": 142,
   "id": "aa01dc8f",
   "metadata": {},
   "outputs": [
    {
     "data": {
      "text/plain": [
       "0.46081585828284216"
      ]
     },
     "execution_count": 142,
     "metadata": {},
     "output_type": "execute_result"
    }
   ],
   "source": [
    "X_train_with_hardcode_list = prepare_X(df_train)\n",
    "w0, w = train_linear_regression_regularised(X_train, y_train)\n",
    "\n",
    "X_val = prepare_X(df_val)\n",
    "y_pred = w0 + X_val.dot(w)\n",
    "\n",
    "rmse(y_val, y_pred)"
   ]
  },
  {
   "cell_type": "code",
   "execution_count": 151,
   "id": "df66e467",
   "metadata": {},
   "outputs": [
    {
     "data": {
      "text/plain": [
       "0.5392811963534826"
      ]
     },
     "execution_count": 151,
     "metadata": {},
     "output_type": "execute_result"
    }
   ],
   "source": [
    "X_train_with_dynamic_list = prepare_X_dynamic(df_train)\n",
    "w0, w = train_linear_regression_regularised(X_train_with_dynamic_list, y_train)\n",
    "\n",
    "X_val = prepare_X_dynamic(df_val)\n",
    "y_pred = w0 + X_val.dot(w)\n",
    "\n",
    "rmse(y_val, y_pred)"
   ]
  },
  {
   "cell_type": "code",
   "execution_count": 154,
   "id": "d55a8591",
   "metadata": {},
   "outputs": [],
   "source": [
    "# Both appear to produce the same dataframe\n",
    "assert X_train_with_hardcode_list.all() == X_train_with_dynamic_list.all()"
   ]
  },
  {
   "cell_type": "markdown",
   "id": "3930fd6c",
   "metadata": {},
   "source": [
    "Perhaps they have different types?"
   ]
  },
  {
   "cell_type": "code",
   "execution_count": 111,
   "id": "b98a1237",
   "metadata": {},
   "outputs": [
    {
     "data": {
      "text/plain": [
       "list"
      ]
     },
     "execution_count": 111,
     "metadata": {},
     "output_type": "execute_result"
    }
   ],
   "source": [
    "type(list(df_train.number_of_doors.dropna().astype(int).unique()))"
   ]
  },
  {
   "cell_type": "code",
   "execution_count": 112,
   "id": "9f628347",
   "metadata": {},
   "outputs": [
    {
     "data": {
      "text/plain": [
       "list"
      ]
     },
     "execution_count": 112,
     "metadata": {},
     "output_type": "execute_result"
    }
   ],
   "source": [
    "type([2, 3, 4])"
   ]
  },
  {
   "cell_type": "markdown",
   "id": "7cf611fc",
   "metadata": {},
   "source": [
    "Perhaps order matters?\n",
    "\n",
    "I tested with `[2,4,3]` and it still returned the lower output"
   ]
  },
  {
   "cell_type": "markdown",
   "id": "a6882acf",
   "metadata": {},
   "source": [
    "## 2.14 Tuning the model\n",
    "\n",
    "We now want to find the best value for our `r` parameter"
   ]
  },
  {
   "cell_type": "code",
   "execution_count": 159,
   "id": "816d0d53",
   "metadata": {},
   "outputs": [
    {
     "name": "stdout",
     "output_type": "stream",
     "text": [
      " regularisation: 0.0, bias term: -1653768488658528.5, score: 34.36916821356011\n",
      " regularisation: 1e-05, bias term: 6.464253295739703, score: 0.46081532379004586\n",
      " regularisation: 0.0001, bias term: 7.130479885098391, score: 0.4608153639547774\n",
      " regularisation: 0.001, bias term: 7.130969849094399, score: 0.46081585828284216\n",
      " regularisation: 0.1, bias term: 7.000232412373935, score: 0.46087365491271426\n",
      " regularisation: 1, bias term: 6.250747847291343, score: 0.4615812838275672\n",
      " regularisation: 10, bias term: 4.729512585680183, score: 0.47260987726680176\n"
     ]
    }
   ],
   "source": [
    "for r in [0.0, 0.00001, 0.0001, 0.001, 0.1, 1, 10]:\n",
    "    X_train = prepare_X(df_train)\n",
    "    w0, w = train_linear_regression_regularised(X_train, y_train, r=r)\n",
    "\n",
    "    X_val = prepare_X(df_val)\n",
    "    y_pred = w0 + X_val.dot(w)\n",
    "    score = rmse(y_val, y_pred)\n",
    "    \n",
    "    print(f' regularisation: {r}, bias term: {w0}, score: {score}')"
   ]
  },
  {
   "cell_type": "code",
   "execution_count": 162,
   "id": "b203de8c",
   "metadata": {},
   "outputs": [
    {
     "data": {
      "text/plain": [
       "0.46081585828284216"
      ]
     },
     "execution_count": 162,
     "metadata": {},
     "output_type": "execute_result"
    }
   ],
   "source": [
    "# we picked this from the values above where we see our score is the best and the model has not degraded\n",
    "# in our example it did not matter so much\n",
    "r = 0.001\n",
    "X_train = prepare_X(df_train)\n",
    "w0, w = train_linear_regression_regularised(X_train, y_train, r=r)\n",
    "\n",
    "X_val = prepare_X(df_val)\n",
    "y_pred = w0 + X_val.dot(w)\n",
    "score = rmse(y_val, y_pred)\n",
    "score"
   ]
  },
  {
   "cell_type": "markdown",
   "id": "e8b5a708",
   "metadata": {},
   "source": [
    "❓ How to see if when the model is degrading due to regularisation?"
   ]
  },
  {
   "cell_type": "markdown",
   "id": "0fd13d87",
   "metadata": {},
   "source": [
    "## 2.15 Using the model\n",
    "\n",
    "Now we want to use our model on our test data set. We will train the model first on both the train and validation set (full train) and make the final check on the test data set. Our RSME should be similar to what we saw previously."
   ]
  },
  {
   "cell_type": "code",
   "execution_count": 168,
   "id": "2bdbcb1d",
   "metadata": {},
   "outputs": [],
   "source": [
    "full_train = pd.concat([df_train, df_val])\n",
    "full_train = full_train.reset_index(drop=True) # we reset the index here as we still have the index from the validation data\n",
    "full_y = np.concatenate([y_train, y_val])"
   ]
  },
  {
   "cell_type": "markdown",
   "id": "77a19926",
   "metadata": {},
   "source": [
    "❓ Why is it important here to reset the index??"
   ]
  },
  {
   "cell_type": "code",
   "execution_count": 173,
   "id": "6ee5ac92",
   "metadata": {},
   "outputs": [
    {
     "data": {
      "text/plain": [
       "0.46007539688852456"
      ]
     },
     "execution_count": 173,
     "metadata": {},
     "output_type": "execute_result"
    }
   ],
   "source": [
    "r = 0.001\n",
    "X_train = prepare_X(full_train)\n",
    "w0, w = train_linear_regression_regularised(X_train, full_y, r=r)\n",
    "\n",
    "X_test = prepare_X(df_test)\n",
    "y_pred = w0 + X_test.dot(w)\n",
    "score = rmse(y_test, y_pred)\n",
    "score"
   ]
  },
  {
   "cell_type": "code",
   "execution_count": 193,
   "id": "3e262db2",
   "metadata": {},
   "outputs": [
    {
     "data": {
      "text/plain": [
       "{'make': 'toyota',\n",
       " 'model': 'sienna',\n",
       " 'year': 2015,\n",
       " 'engine_fuel_type': 'regular_unleaded',\n",
       " 'engine_hp': 266.0,\n",
       " 'engine_cylinders': 6.0,\n",
       " 'transmission_type': 'automatic',\n",
       " 'driven_wheels': 'front_wheel_drive',\n",
       " 'number_of_doors': 4.0,\n",
       " 'market_category': nan,\n",
       " 'vehicle_size': 'large',\n",
       " 'vehicle_style': 'passenger_minivan',\n",
       " 'highway_mpg': 25,\n",
       " 'city_mpg': 18,\n",
       " 'popularity': 2031,\n",
       " 'msrp': 35000}"
      ]
     },
     "execution_count": 193,
     "metadata": {},
     "output_type": "execute_result"
    }
   ],
   "source": [
    "car = df_test.iloc[20].to_dict() # we take one value from our test data, in real life this would have been entered by a user\n",
    "car"
   ]
  },
  {
   "cell_type": "code",
   "execution_count": 194,
   "id": "67e71552",
   "metadata": {},
   "outputs": [
    {
     "data": {
      "text/html": [
       "<div>\n",
       "<style scoped>\n",
       "    .dataframe tbody tr th:only-of-type {\n",
       "        vertical-align: middle;\n",
       "    }\n",
       "\n",
       "    .dataframe tbody tr th {\n",
       "        vertical-align: top;\n",
       "    }\n",
       "\n",
       "    .dataframe thead th {\n",
       "        text-align: right;\n",
       "    }\n",
       "</style>\n",
       "<table border=\"1\" class=\"dataframe\">\n",
       "  <thead>\n",
       "    <tr style=\"text-align: right;\">\n",
       "      <th></th>\n",
       "      <th>make</th>\n",
       "      <th>model</th>\n",
       "      <th>year</th>\n",
       "      <th>engine_fuel_type</th>\n",
       "      <th>engine_hp</th>\n",
       "      <th>engine_cylinders</th>\n",
       "      <th>transmission_type</th>\n",
       "      <th>driven_wheels</th>\n",
       "      <th>number_of_doors</th>\n",
       "      <th>market_category</th>\n",
       "      <th>vehicle_size</th>\n",
       "      <th>vehicle_style</th>\n",
       "      <th>highway_mpg</th>\n",
       "      <th>city_mpg</th>\n",
       "      <th>popularity</th>\n",
       "      <th>msrp</th>\n",
       "    </tr>\n",
       "  </thead>\n",
       "  <tbody>\n",
       "    <tr>\n",
       "      <th>0</th>\n",
       "      <td>toyota</td>\n",
       "      <td>sienna</td>\n",
       "      <td>2015</td>\n",
       "      <td>regular_unleaded</td>\n",
       "      <td>266.0</td>\n",
       "      <td>6.0</td>\n",
       "      <td>automatic</td>\n",
       "      <td>front_wheel_drive</td>\n",
       "      <td>4.0</td>\n",
       "      <td>NaN</td>\n",
       "      <td>large</td>\n",
       "      <td>passenger_minivan</td>\n",
       "      <td>25</td>\n",
       "      <td>18</td>\n",
       "      <td>2031</td>\n",
       "      <td>35000</td>\n",
       "    </tr>\n",
       "  </tbody>\n",
       "</table>\n",
       "</div>"
      ],
      "text/plain": [
       "     make   model  year  engine_fuel_type  engine_hp  engine_cylinders  \\\n",
       "0  toyota  sienna  2015  regular_unleaded      266.0               6.0   \n",
       "\n",
       "  transmission_type      driven_wheels  number_of_doors  market_category  \\\n",
       "0         automatic  front_wheel_drive              4.0              NaN   \n",
       "\n",
       "  vehicle_size      vehicle_style  highway_mpg  city_mpg  popularity   msrp  \n",
       "0        large  passenger_minivan           25        18        2031  35000  "
      ]
     },
     "execution_count": 194,
     "metadata": {},
     "output_type": "execute_result"
    }
   ],
   "source": [
    "df_small = pd.DataFrame([car])\n",
    "df_small\n",
    "# we now have a dataframe with only one row of our INPUT data"
   ]
  },
  {
   "cell_type": "code",
   "execution_count": 195,
   "id": "4973a3fb",
   "metadata": {},
   "outputs": [],
   "source": [
    "X_small = prepare_X(df_small)"
   ]
  },
  {
   "cell_type": "code",
   "execution_count": 196,
   "id": "dd99a1c8",
   "metadata": {},
   "outputs": [
    {
     "data": {
      "text/plain": [
       "10.632492524438463"
      ]
     },
     "execution_count": 196,
     "metadata": {},
     "output_type": "execute_result"
    }
   ],
   "source": [
    "y_pred = w0 + X_small.dot(w)\n",
    "y_pred = y_pred[0]\n",
    "y_pred"
   ]
  },
  {
   "cell_type": "code",
   "execution_count": 197,
   "id": "b02f43d9",
   "metadata": {},
   "outputs": [
    {
     "data": {
      "text/plain": [
       "41459.33742145584"
      ]
     },
     "execution_count": 197,
     "metadata": {},
     "output_type": "execute_result"
    }
   ],
   "source": [
    "# to get this to the price value we need the exponant\n",
    "np.expm1(y_pred)"
   ]
  },
  {
   "cell_type": "code",
   "execution_count": 198,
   "id": "375eef8a",
   "metadata": {},
   "outputs": [
    {
     "data": {
      "text/plain": [
       "35000.00000000001"
      ]
     },
     "execution_count": 198,
     "metadata": {},
     "output_type": "execute_result"
    }
   ],
   "source": [
    "np.expm1(y_test[20])"
   ]
  },
  {
   "cell_type": "markdown",
   "id": "58d7fac6",
   "metadata": {},
   "source": [
    "There are quite close, our prediction was off by about 5000."
   ]
  },
  {
   "cell_type": "code",
   "execution_count": null,
   "id": "60c201cb",
   "metadata": {},
   "outputs": [],
   "source": []
  }
 ],
 "metadata": {
  "kernelspec": {
   "display_name": "Python 3 (ipykernel)",
   "language": "python",
   "name": "python3"
  },
  "language_info": {
   "codemirror_mode": {
    "name": "ipython",
    "version": 3
   },
   "file_extension": ".py",
   "mimetype": "text/x-python",
   "name": "python",
   "nbconvert_exporter": "python",
   "pygments_lexer": "ipython3",
   "version": "3.9.6"
  }
 },
 "nbformat": 4,
 "nbformat_minor": 5
}
