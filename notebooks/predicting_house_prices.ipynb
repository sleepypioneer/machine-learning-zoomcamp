{
 "cells": [
  {
   "cell_type": "markdown",
   "id": "ae0cafe3",
   "metadata": {},
   "source": [
    "# Predicting House prices"
   ]
  },
  {
   "cell_type": "code",
   "execution_count": 1,
   "id": "896a32ab",
   "metadata": {},
   "outputs": [],
   "source": [
    "import pandas as pd\n",
    "import numpy as np\n",
    "from sklearn.datasets import load_boston\n",
    "\n",
    "import matplotlib.pyplot as plt\n",
    "import seaborn as sns\n",
    "\n",
    "%matplotlib inline"
   ]
  },
  {
   "cell_type": "markdown",
   "id": "ba78bfe9",
   "metadata": {},
   "source": [
    "## Load data"
   ]
  },
  {
   "cell_type": "code",
   "execution_count": 2,
   "id": "7966d477",
   "metadata": {},
   "outputs": [
    {
     "data": {
      "text/html": [
       "<div>\n",
       "<style scoped>\n",
       "    .dataframe tbody tr th:only-of-type {\n",
       "        vertical-align: middle;\n",
       "    }\n",
       "\n",
       "    .dataframe tbody tr th {\n",
       "        vertical-align: top;\n",
       "    }\n",
       "\n",
       "    .dataframe thead th {\n",
       "        text-align: right;\n",
       "    }\n",
       "</style>\n",
       "<table border=\"1\" class=\"dataframe\">\n",
       "  <thead>\n",
       "    <tr style=\"text-align: right;\">\n",
       "      <th></th>\n",
       "      <th>CRIM</th>\n",
       "      <th>ZN</th>\n",
       "      <th>INDUS</th>\n",
       "      <th>CHAS</th>\n",
       "      <th>NOX</th>\n",
       "      <th>RM</th>\n",
       "      <th>AGE</th>\n",
       "      <th>DIS</th>\n",
       "      <th>RAD</th>\n",
       "      <th>TAX</th>\n",
       "      <th>PTRATIO</th>\n",
       "      <th>B</th>\n",
       "      <th>LSTAT</th>\n",
       "      <th>MEDV</th>\n",
       "    </tr>\n",
       "  </thead>\n",
       "  <tbody>\n",
       "    <tr>\n",
       "      <th>0</th>\n",
       "      <td>0.00632</td>\n",
       "      <td>18.0</td>\n",
       "      <td>2.31</td>\n",
       "      <td>0</td>\n",
       "      <td>0.538</td>\n",
       "      <td>6.575</td>\n",
       "      <td>65.2</td>\n",
       "      <td>4.0900</td>\n",
       "      <td>1</td>\n",
       "      <td>296</td>\n",
       "      <td>15.3</td>\n",
       "      <td>396.90</td>\n",
       "      <td>4.98</td>\n",
       "      <td>24.0</td>\n",
       "    </tr>\n",
       "    <tr>\n",
       "      <th>1</th>\n",
       "      <td>0.02731</td>\n",
       "      <td>0.0</td>\n",
       "      <td>7.07</td>\n",
       "      <td>0</td>\n",
       "      <td>0.469</td>\n",
       "      <td>6.421</td>\n",
       "      <td>78.9</td>\n",
       "      <td>4.9671</td>\n",
       "      <td>2</td>\n",
       "      <td>242</td>\n",
       "      <td>17.8</td>\n",
       "      <td>396.90</td>\n",
       "      <td>9.14</td>\n",
       "      <td>21.6</td>\n",
       "    </tr>\n",
       "    <tr>\n",
       "      <th>2</th>\n",
       "      <td>0.02729</td>\n",
       "      <td>0.0</td>\n",
       "      <td>7.07</td>\n",
       "      <td>0</td>\n",
       "      <td>0.469</td>\n",
       "      <td>7.185</td>\n",
       "      <td>61.1</td>\n",
       "      <td>4.9671</td>\n",
       "      <td>2</td>\n",
       "      <td>242</td>\n",
       "      <td>17.8</td>\n",
       "      <td>392.83</td>\n",
       "      <td>4.03</td>\n",
       "      <td>34.7</td>\n",
       "    </tr>\n",
       "    <tr>\n",
       "      <th>3</th>\n",
       "      <td>0.03237</td>\n",
       "      <td>0.0</td>\n",
       "      <td>2.18</td>\n",
       "      <td>0</td>\n",
       "      <td>0.458</td>\n",
       "      <td>6.998</td>\n",
       "      <td>45.8</td>\n",
       "      <td>6.0622</td>\n",
       "      <td>3</td>\n",
       "      <td>222</td>\n",
       "      <td>18.7</td>\n",
       "      <td>394.63</td>\n",
       "      <td>2.94</td>\n",
       "      <td>33.4</td>\n",
       "    </tr>\n",
       "    <tr>\n",
       "      <th>4</th>\n",
       "      <td>0.06905</td>\n",
       "      <td>0.0</td>\n",
       "      <td>2.18</td>\n",
       "      <td>0</td>\n",
       "      <td>0.458</td>\n",
       "      <td>7.147</td>\n",
       "      <td>54.2</td>\n",
       "      <td>6.0622</td>\n",
       "      <td>3</td>\n",
       "      <td>222</td>\n",
       "      <td>18.7</td>\n",
       "      <td>396.90</td>\n",
       "      <td>5.33</td>\n",
       "      <td>36.2</td>\n",
       "    </tr>\n",
       "  </tbody>\n",
       "</table>\n",
       "</div>"
      ],
      "text/plain": [
       "      CRIM    ZN  INDUS  CHAS    NOX     RM   AGE     DIS  RAD  TAX  PTRATIO  \\\n",
       "0  0.00632  18.0   2.31     0  0.538  6.575  65.2  4.0900    1  296     15.3   \n",
       "1  0.02731   0.0   7.07     0  0.469  6.421  78.9  4.9671    2  242     17.8   \n",
       "2  0.02729   0.0   7.07     0  0.469  7.185  61.1  4.9671    2  242     17.8   \n",
       "3  0.03237   0.0   2.18     0  0.458  6.998  45.8  6.0622    3  222     18.7   \n",
       "4  0.06905   0.0   2.18     0  0.458  7.147  54.2  6.0622    3  222     18.7   \n",
       "\n",
       "        B  LSTAT  MEDV  \n",
       "0  396.90   4.98  24.0  \n",
       "1  396.90   9.14  21.6  \n",
       "2  392.83   4.03  34.7  \n",
       "3  394.63   2.94  33.4  \n",
       "4  396.90   5.33  36.2  "
      ]
     },
     "execution_count": 2,
     "metadata": {},
     "output_type": "execute_result"
    }
   ],
   "source": [
    "house_data = pd.read_csv(\n",
    "    '/opt/conda/lib/python3.9/site-packages/sklearn/datasets/data/boston_house_prices.csv',\n",
    "    header=1\n",
    ")\n",
    "house_data.head()"
   ]
  },
  {
   "cell_type": "code",
   "execution_count": 3,
   "id": "f4a08901",
   "metadata": {},
   "outputs": [
    {
     "data": {
      "text/plain": [
       "['CRIM',\n",
       " 'ZN',\n",
       " 'INDUS',\n",
       " 'CHAS',\n",
       " 'NOX',\n",
       " 'RM',\n",
       " 'AGE',\n",
       " 'DIS',\n",
       " 'RAD',\n",
       " 'TAX',\n",
       " 'PTRATIO',\n",
       " 'B',\n",
       " 'LSTAT']"
      ]
     },
     "execution_count": 3,
     "metadata": {},
     "output_type": "execute_result"
    }
   ],
   "source": [
    "base_features = house_data.columns.tolist()\n",
    "base_features = base_features[:len(base_features)-1]\n",
    "base_features"
   ]
  },
  {
   "cell_type": "markdown",
   "id": "278c41fe",
   "metadata": {},
   "source": [
    "**CRIM** per capita crime rate by town\n",
    "\n",
    "**ZN** proportion of residential land zoned for lots over 25,000 sq.ft.\n",
    "\n",
    "**INDUS** proportion of non-retail business acres per town\n",
    "\n",
    "**CHAS** Charles River dummy variable (= 1 if tract bounds river; 0 otherwise)\n",
    "\n",
    "**NOX** nitric oxides concentration (parts per 10 million)\n",
    "\n",
    "**RM** average number of rooms per dwelling\n",
    "\n",
    "**AGE** proportion of owner-occupied units built prior to 1940\n",
    "\n",
    "**DIS** weighted distances to five Boston employment centres\n",
    "\n",
    "**RAD** index of accessibility to radial highways\n",
    "\n",
    "**TAX** full-value property-tax rate per $10,000\n",
    "\n",
    "**PTRATIO** pupil-teacher ratio by town\n",
    "\n",
    "**B** 1000(Bk - 0.63)^2 where Bk is the proportion of black people by town\n",
    "\n",
    "**LSTAT** % lower status of the population\n",
    "\n",
    "**MEDV** Median value of owner-occupied homes in $1000’s"
   ]
  },
  {
   "cell_type": "code",
   "execution_count": 4,
   "id": "0e234074",
   "metadata": {},
   "outputs": [
    {
     "name": "stdout",
     "output_type": "stream",
     "text": [
      "CRIM\n",
      "Value type: float64\n",
      "number of unique values: 504\n",
      "top five unique values: [0.00632 0.02731 0.02729 0.03237 0.06905]\n",
      "\n",
      "ZN\n",
      "Value type: float64\n",
      "number of unique values: 26\n",
      "top five unique values: [18.   0.  12.5 75.  21. ]\n",
      "\n",
      "INDUS\n",
      "Value type: float64\n",
      "number of unique values: 76\n",
      "top five unique values: [2.31 7.07 2.18 7.87 8.14]\n",
      "\n",
      "CHAS\n",
      "Value type: int64\n",
      "number of unique values: 2\n",
      "top five unique values: [0 1]\n",
      "\n",
      "NOX\n",
      "Value type: float64\n",
      "number of unique values: 81\n",
      "top five unique values: [0.538 0.469 0.458 0.524 0.499]\n",
      "\n",
      "RM\n",
      "Value type: float64\n",
      "number of unique values: 446\n",
      "top five unique values: [6.575 6.421 7.185 6.998 7.147]\n",
      "\n",
      "AGE\n",
      "Value type: float64\n",
      "number of unique values: 356\n",
      "top five unique values: [65.2 78.9 61.1 45.8 54.2]\n",
      "\n",
      "DIS\n",
      "Value type: float64\n",
      "number of unique values: 412\n",
      "top five unique values: [4.09   4.9671 6.0622 5.5605 5.9505]\n",
      "\n",
      "RAD\n",
      "Value type: int64\n",
      "number of unique values: 9\n",
      "top five unique values: [1 2 3 5 4]\n",
      "\n",
      "TAX\n",
      "Value type: int64\n",
      "number of unique values: 66\n",
      "top five unique values: [296 242 222 311 307]\n",
      "\n",
      "PTRATIO\n",
      "Value type: float64\n",
      "number of unique values: 46\n",
      "top five unique values: [15.3 17.8 18.7 15.2 21. ]\n",
      "\n",
      "B\n",
      "Value type: float64\n",
      "number of unique values: 357\n",
      "top five unique values: [396.9  392.83 394.63 394.12 395.6 ]\n",
      "\n",
      "LSTAT\n",
      "Value type: float64\n",
      "number of unique values: 455\n",
      "top five unique values: [4.98 9.14 4.03 2.94 5.33]\n",
      "\n",
      "MEDV\n",
      "Value type: float64\n",
      "number of unique values: 229\n",
      "top five unique values: [24.  21.6 34.7 33.4 36.2]\n",
      "\n"
     ]
    }
   ],
   "source": [
    "for col in house_data.columns:\n",
    "    print(col)\n",
    "    print(f'Value type: {house_data[col].dtype}')\n",
    "    print(f'number of unique values: {house_data[col].nunique()}')\n",
    "    print(f'top five unique values: {house_data[col].unique()[:5]}')\n",
    "    print()"
   ]
  },
  {
   "cell_type": "code",
   "execution_count": 5,
   "id": "ff88e8b9",
   "metadata": {},
   "outputs": [
    {
     "data": {
      "text/plain": [
       "CRIM       0\n",
       "ZN         0\n",
       "INDUS      0\n",
       "CHAS       0\n",
       "NOX        0\n",
       "RM         0\n",
       "AGE        0\n",
       "DIS        0\n",
       "RAD        0\n",
       "TAX        0\n",
       "PTRATIO    0\n",
       "B          0\n",
       "LSTAT      0\n",
       "MEDV       0\n",
       "dtype: int64"
      ]
     },
     "execution_count": 5,
     "metadata": {},
     "output_type": "execute_result"
    }
   ],
   "source": [
    "house_data.isnull().sum()"
   ]
  },
  {
   "cell_type": "markdown",
   "id": "db3c1f07",
   "metadata": {},
   "source": [
    "🔍 there are no none values"
   ]
  },
  {
   "cell_type": "code",
   "execution_count": 6,
   "id": "145b8f12",
   "metadata": {},
   "outputs": [
    {
     "data": {
      "text/plain": [
       "<AxesSubplot:xlabel='MEDV', ylabel='Count'>"
      ]
     },
     "execution_count": 6,
     "metadata": {},
     "output_type": "execute_result"
    },
    {
     "data": {
      "image/png": "[encoded data removed]",
      "text/plain": [
       "<Figure size 864x432 with 1 Axes>"
      ]
     },
     "metadata": {},
     "output_type": "display_data"
    }
   ],
   "source": [
    "sns.set(rc={'figure.figsize':(12,6)})\n",
    "\n",
    "sns.histplot(house_data.MEDV, bins=100)"
   ]
  },
  {
   "cell_type": "markdown",
   "id": "dc746895",
   "metadata": {},
   "source": [
    "🔍 there appear to be some outliers at the upper end of the price range, we may choose to ignore these so we can get more accurate predictions."
   ]
  },
  {
   "cell_type": "code",
   "execution_count": 7,
   "id": "442cf423",
   "metadata": {},
   "outputs": [],
   "source": [
    "house_data = house_data[house_data['MEDV'] < 48]"
   ]
  },
  {
   "cell_type": "code",
   "execution_count": 8,
   "id": "7e4a54f4",
   "metadata": {},
   "outputs": [],
   "source": [
    "medv_logs = np.log1p(house_data.MEDV)"
   ]
  },
  {
   "cell_type": "code",
   "execution_count": 9,
   "id": "a9f65617",
   "metadata": {},
   "outputs": [
    {
     "data": {
      "text/plain": [
       "<AxesSubplot:xlabel='MEDV', ylabel='Count'>"
      ]
     },
     "execution_count": 9,
     "metadata": {},
     "output_type": "execute_result"
    },
    {
     "data": {
      "image/png": "[encoded data removed]",
      "text/plain": [
       "<Figure size 864x432 with 1 Axes>"
      ]
     },
     "metadata": {},
     "output_type": "display_data"
    }
   ],
   "source": [
    "sns.histplot(medv_logs, bins=100)"
   ]
  },
  {
   "cell_type": "code",
   "execution_count": 10,
   "id": "07723d91",
   "metadata": {},
   "outputs": [
    {
     "data": {
      "text/plain": [
       "21.47"
      ]
     },
     "execution_count": 10,
     "metadata": {},
     "output_type": "execute_result"
    }
   ],
   "source": [
    "round(house_data['MEDV'].mean(), 2)"
   ]
  },
  {
   "cell_type": "code",
   "execution_count": 11,
   "id": "8298f121",
   "metadata": {},
   "outputs": [
    {
     "data": {
      "text/plain": [
       "20.8"
      ]
     },
     "execution_count": 11,
     "metadata": {},
     "output_type": "execute_result"
    }
   ],
   "source": [
    "round(house_data['MEDV'].median(),2)"
   ]
  },
  {
   "cell_type": "markdown",
   "id": "a689e4dc",
   "metadata": {},
   "source": [
    "## Data preparation & pipeline"
   ]
  },
  {
   "cell_type": "code",
   "execution_count": 12,
   "id": "f2a89393",
   "metadata": {},
   "outputs": [],
   "source": [
    "# split data into test, train and validate sub sets\n",
    "n = len(house_data)\n",
    "\n",
    "n_val = int(n * 0.2)\n",
    "n_test = int(n * 0.2)\n",
    "n_train = n - n_val - n_test"
   ]
  },
  {
   "cell_type": "code",
   "execution_count": 13,
   "id": "aee40f4d",
   "metadata": {},
   "outputs": [],
   "source": [
    "np.random.seed(42)\n",
    "\n",
    "idx = np.arange(n)\n",
    "np.random.shuffle(idx)"
   ]
  },
  {
   "cell_type": "code",
   "execution_count": 14,
   "id": "1b832463",
   "metadata": {},
   "outputs": [],
   "source": [
    "def split_data(id, df):\n",
    "    df_train = df.iloc[idx[:n_train]]\n",
    "    df_val = df.iloc[idx[n_train:n_train+n_val]]\n",
    "    df_test = df.iloc[idx[n_train+n_val:]]\n",
    "    \n",
    "    df_train = df_train.reset_index(drop=True)\n",
    "    df_val = df_val.reset_index(drop=True)\n",
    "    df_test = df_test.reset_index(drop=True)\n",
    "    \n",
    "    y_train = np.log1p(df_train.MEDV.values)\n",
    "    y_val = np.log1p(df_val.MEDV.values)\n",
    "    y_test = np.log1p(df_test.MEDV.values)\n",
    "    \n",
    "    return df_train, df_val, df_test, y_train, y_val, y_test\n",
    "\n",
    "\n",
    "def prepare_X(df):\n",
    "    df = df.copy()\n",
    "    features = base_features.copy()\n",
    "\n",
    "    df_num = df[features]\n",
    "    df_num = df_num.fillna(0)\n",
    "    X = df_num.values\n",
    "\n",
    "    return X\n",
    "\n",
    "\n",
    "def train_linear_regression_regularised(X, y, r=0.001):\n",
    "    ones = np.ones(X.shape[0])\n",
    "    X = np.column_stack([ones, X])\n",
    "    \n",
    "    XTX = X.T.dot(X)\n",
    "    XTX = XTX + r * np.eye(XTX.shape[0])\n",
    "    XTX_inv = np.linalg.inv(XTX)\n",
    "    w_full = XTX_inv.dot(X.T).dot(y)\n",
    "    \n",
    "    return w_full[0], w_full[1:]\n",
    "\n",
    "\n",
    "def rmse(y, y_pred):\n",
    "    err = y - y_pred\n",
    "    se = err ** 2\n",
    "    mse = se.mean()\n",
    "    return np.sqrt(mse)"
   ]
  },
  {
   "cell_type": "markdown",
   "id": "6124ef61",
   "metadata": {},
   "source": [
    "## Tuning the model"
   ]
  },
  {
   "cell_type": "code",
   "execution_count": 15,
   "id": "b6ad0152",
   "metadata": {},
   "outputs": [
    {
     "name": "stdout",
     "output_type": "stream",
     "text": [
      " seed: 0, bias term: 4.2, score: 0.16\n",
      " seed: 1, bias term: 4.28, score: 0.16\n",
      " seed: 2, bias term: 3.66, score: 0.19\n",
      " seed: 3, bias term: 3.97, score: 0.19\n",
      " seed: 4, bias term: 3.84, score: 0.17\n",
      " seed: 5, bias term: 4.16, score: 0.15\n",
      " seed: 6, bias term: 4.22, score: 0.16\n",
      " seed: 7, bias term: 4.08, score: 0.17\n",
      " seed: 8, bias term: 3.53, score: 0.16\n",
      " seed: 9, bias term: 4.08, score: 0.18\n"
     ]
    }
   ],
   "source": [
    "scores = []\n",
    "\n",
    "for seed in [0, 1, 2, 3, 4, 5, 6, 7, 8, 9]:\n",
    "    np.random.seed(seed)\n",
    "\n",
    "    idx = np.arange(n)\n",
    "    np.random.shuffle(idx)\n",
    "    \n",
    "    df_train, df_val, df_test, y_train, y_val, y_test = split_data(idx, house_data)\n",
    "    \n",
    "    X_train = prepare_X(df_train)\n",
    "    w0, w = train_linear_regression_regularised(X_train, y_train)\n",
    "\n",
    "    X_val = prepare_X(df_val)\n",
    "    y_pred = w0 + X_val.dot(w)\n",
    "    score = rmse(y_val, y_pred)\n",
    "    \n",
    "    scores.append(score)\n",
    "    \n",
    "    print(f' seed: {seed}, bias term: {round(w0, 2)}, score: {round(score, 2)}')"
   ]
  },
  {
   "cell_type": "markdown",
   "id": "8a90f763",
   "metadata": {},
   "source": [
    "🔍 the best seed value would be `8`"
   ]
  },
  {
   "cell_type": "code",
   "execution_count": 16,
   "id": "76cca171",
   "metadata": {},
   "outputs": [
    {
     "name": "stdout",
     "output_type": "stream",
     "text": [
      " regularisation: 0.0, bias term: 3.53, score: 0.16\n",
      " regularisation: 1e-05, bias term: 3.53, score: 0.16\n",
      " regularisation: 0.0001, bias term: 3.53, score: 0.16\n",
      " regularisation: 0.001, bias term: 3.53, score: 0.16\n",
      " regularisation: 0.1, bias term: 2.93, score: 0.17\n",
      " regularisation: 1, bias term: 1.24, score: 0.2\n",
      " regularisation: 10, bias term: 0.23, score: 0.24\n"
     ]
    }
   ],
   "source": [
    "np.random.seed(8)\n",
    "\n",
    "idx = np.arange(n)\n",
    "np.random.shuffle(idx)\n",
    "\n",
    "df_train, df_val, df_test, y_train, y_val, y_test = split_data(idx, house_data)\n",
    "\n",
    "for r in [0.0, 0.00001, 0.0001, 0.001, 0.1, 1, 10]:\n",
    "    X_train = prepare_X(df_train)\n",
    "    w0, w = train_linear_regression_regularised(X_train, y_train, r=r)\n",
    "\n",
    "    X_val = prepare_X(df_val)\n",
    "    y_pred = w0 + X_val.dot(w)\n",
    "    score = rmse(y_val, y_pred)\n",
    "    \n",
    "    print(f' regularisation: {r}, bias term: {round(w0,2)}, score: {round(score,2)}')"
   ]
  },
  {
   "cell_type": "markdown",
   "id": "5225a86b",
   "metadata": {},
   "source": [
    "🔍 the best regularisation value here would be `0.001`"
   ]
  },
  {
   "cell_type": "markdown",
   "id": "32a2db25",
   "metadata": {},
   "source": [
    "## Using the model"
   ]
  },
  {
   "cell_type": "code",
   "execution_count": 17,
   "id": "d4e68bc6",
   "metadata": {},
   "outputs": [],
   "source": [
    "df_train, df_val, df_test, y_train, y_val, y_test = split_data(idx, house_data)\n",
    "\n",
    "full_train = pd.concat([df_train, df_val])\n",
    "full_train = full_train.reset_index(drop=True) # we reset the index here as we still have the index from the validation data\n",
    "full_y = np.concatenate([y_train, y_val])"
   ]
  },
  {
   "cell_type": "code",
   "execution_count": 18,
   "id": "f075214d",
   "metadata": {},
   "outputs": [
    {
     "data": {
      "text/plain": [
       "0.2"
      ]
     },
     "execution_count": 18,
     "metadata": {},
     "output_type": "execute_result"
    }
   ],
   "source": [
    "r = 0.1\n",
    "X_train = prepare_X(full_train)\n",
    "w0, w = train_linear_regression_regularised(X_train, full_y, r=r)\n",
    "\n",
    "X_test = prepare_X(df_test)\n",
    "y_pred = w0 + X_test.dot(w)\n",
    "score = rmse(y_test, y_pred)\n",
    "round(score,2)"
   ]
  },
  {
   "cell_type": "code",
   "execution_count": 19,
   "id": "40b7ddf5",
   "metadata": {},
   "outputs": [
    {
     "data": {
      "text/html": [
       "<div>\n",
       "<style scoped>\n",
       "    .dataframe tbody tr th:only-of-type {\n",
       "        vertical-align: middle;\n",
       "    }\n",
       "\n",
       "    .dataframe tbody tr th {\n",
       "        vertical-align: top;\n",
       "    }\n",
       "\n",
       "    .dataframe thead th {\n",
       "        text-align: right;\n",
       "    }\n",
       "</style>\n",
       "<table border=\"1\" class=\"dataframe\">\n",
       "  <thead>\n",
       "    <tr style=\"text-align: right;\">\n",
       "      <th></th>\n",
       "      <th>CRIM</th>\n",
       "      <th>ZN</th>\n",
       "      <th>INDUS</th>\n",
       "      <th>CHAS</th>\n",
       "      <th>NOX</th>\n",
       "      <th>RM</th>\n",
       "      <th>AGE</th>\n",
       "      <th>DIS</th>\n",
       "      <th>RAD</th>\n",
       "      <th>TAX</th>\n",
       "      <th>PTRATIO</th>\n",
       "      <th>B</th>\n",
       "      <th>LSTAT</th>\n",
       "      <th>MEDV</th>\n",
       "    </tr>\n",
       "  </thead>\n",
       "  <tbody>\n",
       "    <tr>\n",
       "      <th>0</th>\n",
       "      <td>0.7258</td>\n",
       "      <td>0.0</td>\n",
       "      <td>8.14</td>\n",
       "      <td>0.0</td>\n",
       "      <td>0.538</td>\n",
       "      <td>5.727</td>\n",
       "      <td>69.5</td>\n",
       "      <td>3.7965</td>\n",
       "      <td>4.0</td>\n",
       "      <td>307.0</td>\n",
       "      <td>21.0</td>\n",
       "      <td>390.95</td>\n",
       "      <td>11.28</td>\n",
       "      <td>18.2</td>\n",
       "    </tr>\n",
       "  </tbody>\n",
       "</table>\n",
       "</div>"
      ],
      "text/plain": [
       "     CRIM   ZN  INDUS  CHAS    NOX     RM   AGE     DIS  RAD    TAX  PTRATIO  \\\n",
       "0  0.7258  0.0   8.14   0.0  0.538  5.727  69.5  3.7965  4.0  307.0     21.0   \n",
       "\n",
       "        B  LSTAT  MEDV  \n",
       "0  390.95  11.28  18.2  "
      ]
     },
     "execution_count": 19,
     "metadata": {},
     "output_type": "execute_result"
    }
   ],
   "source": [
    "house = df_test.iloc[10].to_dict() # we take one value from our test data, in real life this would have been entered by a user\n",
    "df_small = pd.DataFrame([house])\n",
    "df_small"
   ]
  },
  {
   "cell_type": "code",
   "execution_count": 20,
   "id": "8d13ef7b",
   "metadata": {},
   "outputs": [
    {
     "data": {
      "text/plain": [
       "2.994656513531126"
      ]
     },
     "execution_count": 20,
     "metadata": {},
     "output_type": "execute_result"
    }
   ],
   "source": [
    "X_small = prepare_X(df_small)\n",
    "y_pred = w0 + X_small.dot(w)\n",
    "y_pred = y_pred[0]\n",
    "y_pred"
   ]
  },
  {
   "cell_type": "code",
   "execution_count": 21,
   "id": "d8128f84",
   "metadata": {},
   "outputs": [
    {
     "data": {
      "text/plain": [
       "18.98"
      ]
     },
     "execution_count": 21,
     "metadata": {},
     "output_type": "execute_result"
    }
   ],
   "source": [
    "round(np.expm1(y_pred),2)"
   ]
  },
  {
   "cell_type": "code",
   "execution_count": 22,
   "id": "79735e22",
   "metadata": {},
   "outputs": [
    {
     "data": {
      "text/plain": [
       "18.2"
      ]
     },
     "execution_count": 22,
     "metadata": {},
     "output_type": "execute_result"
    }
   ],
   "source": [
    "round(np.expm1(y_test[10]),2)"
   ]
  },
  {
   "cell_type": "markdown",
   "id": "df2afbdf",
   "metadata": {},
   "source": [
    "🔍 our model slightly over predicts but is pretty close!"
   ]
  }
 ],
 "metadata": {
  "kernelspec": {
   "display_name": "Python 3 (ipykernel)",
   "language": "python",
   "name": "python3"
  },
  "language_info": {
   "codemirror_mode": {
    "name": "ipython",
    "version": 3
   },
   "file_extension": ".py",
   "mimetype": "text/x-python",
   "name": "python",
   "nbconvert_exporter": "python",
   "pygments_lexer": "ipython3",
   "version": "3.9.6"
  }
 },
 "nbformat": 4,
 "nbformat_minor": 5
}
